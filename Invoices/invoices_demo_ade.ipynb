{
 "cells": [
  {
   "cell_type": "markdown",
   "id": "8416fecf",
   "metadata": {},
   "source": [
    "# 💡 Fast, Accurate Parsing of Invoices with LandingAI\n",
    "\n",
    "This notebook demonstrates how to use the `landing-ade` Python package to extract structured information from invoices using LandingAI's Agentic Document Extraction (ADE) service. \n",
    "\n",
    "We'll walk through:\n",
    "- Parsing documents with ADE Parse API.\n",
    "- Defining a custom schema for use with invoices using `pydantic` or `JSON`.\n",
    "- Extracting the desired fields using ADE Extract API\n",
    "- Viewing structured field extractions and metadata.\n",
    "- Not covered:\n",
    "    - Connecting to upstream document sources.\n",
    "    - Inserting parse() and extract() results into structured tables.\n",
    "    - Optimizing pipeline throughput.\n",
    "\n",
    "> 📎 Supported formats: `.pdf`, `.png`, `.jpg`, `.jpeg`. (More coming soon)"
   ]
  },
  {
   "cell_type": "code",
   "execution_count": 1,
   "id": "ab8a9de8",
   "metadata": {},
   "outputs": [],
   "source": [
    "# ---\n",
    "# Title: Fast, Accurate Parsing of Invoices with LandingAI\n",
    "# Author: Andrea Kropp\n",
    "# Description: How to apply a custom extraction schema to pull fields out of photos and PDFs of invoices.\n",
    "# Target Audience: Developers, Product Managers\n",
    "# Content Type: How-To\n",
    "# Publish Date: 2025-10-06\n",
    "# ADE Version: landingai-ade-0.17.1\n",
    "# Change Log:\n",
    "#    - v1.0: Initial draft\n",
    "# ---"
   ]
  },
  {
   "cell_type": "markdown",
   "id": "02809dc0",
   "metadata": {},
   "source": [
    "### ✨ Install LandingAI's Agentic Document Extraction\n",
    "\n",
    "```bash\n",
    "!pip install landing-ade\n",
    "```\n",
    "\n",
    "### 🗝️ Obtain and Set an API Key\n",
    "\n",
    "Obtain your API Key from the Visual Playground at https://va.landing.ai/settings/api-key\n",
    "\n",
    "Read about options for setting your API at https://docs.landing.ai/ade/agentic-api-key\n"
   ]
  },
  {
   "cell_type": "markdown",
   "id": "8857d2c7",
   "metadata": {},
   "source": [
    "## 📦 Setup and Imports"
   ]
  },
  {
   "cell_type": "code",
   "execution_count": 2,
   "id": "2904a8b8",
   "metadata": {},
   "outputs": [],
   "source": [
    "# Standard libraries\n",
    "import os\n",
    "import json\n",
    "from dotenv import load_dotenv\n",
    "from datetime import date\n",
    "from pathlib import Path"
   ]
  },
  {
   "cell_type": "code",
   "execution_count": 3,
   "id": "41d7ae8a",
   "metadata": {},
   "outputs": [],
   "source": [
    "from landingai_ade import LandingAIADE"
   ]
  },
  {
   "cell_type": "code",
   "execution_count": 4,
   "id": "9c80b84f",
   "metadata": {},
   "outputs": [],
   "source": [
    "# Helper functions to go along with ADE\n",
    "from utilities import *"
   ]
  },
  {
   "cell_type": "code",
   "execution_count": 21,
   "id": "d921048e",
   "metadata": {},
   "outputs": [],
   "source": [
    "import importlib\n",
    "import utilities\n",
    "importlib.reload(utilities)\n",
    "from utilities import *"
   ]
  },
  {
   "cell_type": "code",
   "execution_count": 5,
   "id": "85a2c551",
   "metadata": {},
   "outputs": [
    {
     "data": {
      "text/plain": [
       "True"
      ]
     },
     "execution_count": 5,
     "metadata": {},
     "output_type": "execute_result"
    }
   ],
   "source": [
    "# Load setting (including the VISION_AGENT_API_KEY) from the .env file\n",
    "load_dotenv()"
   ]
  },
  {
   "cell_type": "code",
   "execution_count": 6,
   "id": "91addc86",
   "metadata": {},
   "outputs": [
    {
     "name": "stdout",
     "output_type": "stream",
     "text": [
      "Authenticated client initialized\n"
     ]
    }
   ],
   "source": [
    "client = LandingAIADE(apikey=os.environ.get(\"VISION_AGENT_API_KEY\"))\n",
    "print(\"Authenticated client initialized\")"
   ]
  },
  {
   "cell_type": "code",
   "execution_count": 7,
   "id": "677880cc",
   "metadata": {},
   "outputs": [
    {
     "name": "stdout",
     "output_type": "stream",
     "text": [
      "0.17.1\n"
     ]
    }
   ],
   "source": [
    "import landingai_ade\n",
    "print(landingai_ade.__version__)"
   ]
  },
  {
   "cell_type": "code",
   "execution_count": 8,
   "id": "3b33442f",
   "metadata": {},
   "outputs": [],
   "source": [
    "# --- Import your Pydantic schema class ---\n",
    "from invoice_schema import InvoiceExtractionSchema  # 👈 imports the Invoice model"
   ]
  },
  {
   "cell_type": "markdown",
   "id": "493ab656",
   "metadata": {},
   "source": [
    "## 📁 Define Input and Output Directories\n",
    "\n",
    "Specify where your documents are located and where results will be saved.\n"
   ]
  },
  {
   "cell_type": "code",
   "execution_count": 9,
   "id": "d93a7504",
   "metadata": {},
   "outputs": [],
   "source": [
    "# Define input and output directory paths\n",
    "base_dir = Path(os.getcwd())\n",
    "input_folder = base_dir / \"input_folder\"\n",
    "results_folder = base_dir / \"results_folder\"\n",
    "groundings_folder = base_dir / \"groundings_folder\"\n",
    "\n",
    "# Create output folders if they don't exist\n",
    "results_folder.mkdir(parents=True, exist_ok=True)\n",
    "groundings_folder.mkdir(parents=True, exist_ok=True)"
   ]
  },
  {
   "cell_type": "markdown",
   "id": "38592cf0",
   "metadata": {},
   "source": [
    "## 🗂️ Collect Document File Paths\n",
    "\n",
    "This block filters input files for supported formats."
   ]
  },
  {
   "cell_type": "code",
   "execution_count": 10,
   "id": "23b44bb3",
   "metadata": {},
   "outputs": [
    {
     "data": {
      "text/plain": [
       "['/Users/andreakropp/Documents/Github/andrea-kropp/ade_demos/Invoices/input_folder/invoice_12.pdf',\n",
       " '/Users/andreakropp/Documents/Github/andrea-kropp/ade_demos/Invoices/input_folder/invoice_13.pdf',\n",
       " '/Users/andreakropp/Documents/Github/andrea-kropp/ade_demos/Invoices/input_folder/invoice_9.pdf',\n",
       " '/Users/andreakropp/Documents/Github/andrea-kropp/ade_demos/Invoices/input_folder/invoice_11.pdf',\n",
       " '/Users/andreakropp/Documents/Github/andrea-kropp/ade_demos/Invoices/input_folder/invoice_10.pdf']"
      ]
     },
     "execution_count": 10,
     "metadata": {},
     "output_type": "execute_result"
    }
   ],
   "source": [
    "# Collect all document file paths in input folder with supported extensions\n",
    "# Convert each Path object to a string to ensure compatibility with parse()\n",
    "\n",
    "file_paths = [\n",
    "    str(p)\n",
    "    for p in input_folder.iterdir()\n",
    "    if p.suffix.lower() in [\".pdf\", \".png\", \".jpg\", \".jpeg\"]\n",
    "]\n",
    "file_paths[0:5]"
   ]
  },
  {
   "cell_type": "markdown",
   "id": "2762bea4",
   "metadata": {},
   "source": [
    "### Thumbnails for the Invoices in the Demo\n",
    "\n",
    "<img src=\"images/invoices_to_parse.png\" width=\"80%\" alt=\"Invoice image preview\">"
   ]
  },
  {
   "cell_type": "markdown",
   "id": "f8f2955a",
   "metadata": {},
   "source": [
    "## Single Invoice Parsing"
   ]
  },
  {
   "cell_type": "code",
   "execution_count": 11,
   "id": "17dec3dc",
   "metadata": {},
   "outputs": [
    {
     "name": "stdout",
     "output_type": "stream",
     "text": [
      "Number of chunks: 46\n",
      "Global markdown: <a id='6e515e41-b3b2-41c5-befc-4bce78d79414'></a>\n",
      "\n",
      "<::logo: Condor\n",
      "condor\n",
      "The logo features the word \"condor\" in a bold, sans-serif font, followed by a circular emblem containing a stylized bird or wi...\n"
     ]
    }
   ],
   "source": [
    "# Send a single invoice for parsing\n",
    "\n",
    "client = LandingAIADE()\n",
    "single_result = client.parse(document=Path(file_paths[0]),)\n",
    "\n",
    "print(f\"Number of chunks: {len(single_result.chunks)}\")\n",
    "print(\"Global markdown:\", single_result.markdown[:200] + \"...\")"
   ]
  },
  {
   "cell_type": "code",
   "execution_count": null,
   "id": "a4821b40",
   "metadata": {},
   "outputs": [],
   "source": [
    "# Explore the contents\n",
    "\n",
    "# single_result.markdown\n",
    "# single_result.chunks\n",
    "# single_result.metadata\n",
    "# single_result.splits\n",
    "# single_result.grounding"
   ]
  },
  {
   "cell_type": "code",
   "execution_count": 17,
   "id": "a561796c",
   "metadata": {},
   "outputs": [
    {
     "name": "stdout",
     "output_type": "stream",
     "text": [
      "Parse results saved to: /Users/andreakropp/Documents/Github/andrea-kropp/ade_demos/Invoices/results_folder/parse_invoice_13.json\n"
     ]
    },
    {
     "data": {
      "text/plain": [
       "ParseResponse(chunks=[Chunk(id='0a8bc7ea-1c99-4ca8-8caa-ed65b66dd0dc', grounding=ChunkGrounding(box=ChunkGroundingBox(bottom=0.04086274281144142, left=0.3944183588027954, right=0.505725085735321, top=0.021210074424743652), page=0), markdown=\"<a id='0a8bc7ea-1c99-4ca8-8caa-ed65b66dd0dc'></a>\\n\\nTax Invoice\", type='marginalia'), Chunk(id='d17da48c-2102-49e5-a343-5f37b7dc68f0', grounding=ChunkGrounding(box=ChunkGroundingBox(bottom=0.03962094336748123, left=0.6299343705177307, right=0.8244345784187317, top=0.017798636108636856), page=0), markdown=\"<a id='d17da48c-2102-49e5-a343-5f37b7dc68f0'></a>\\n\\n(ORIGINAL FOR RECIPIENT)\", type='text'), Chunk(id='6a9482b2-56fc-473b-add8-7fd2b70fdec8', grounding=ChunkGrounding(box=ChunkGroundingBox(bottom=0.402715265750885, left=0.06802284717559814, right=0.49336951971054077, top=0.04924289882183075), page=0), markdown=\"<a id='6a9482b2-56fc-473b-add8-7fd2b70fdec8'></a>\\n\\nKANDHAN METAL COMPANY\\nOLD NO: 12, NEW NO:33,JANI BATCHA STREET.\\nROYAPETTAH,CHENNAI-600014\\nPH:044-28612601/48581793\\nGodown No 69/227 Nageswara Rao Road\\nAthipet, Chennai-58\\nGSTIN/UIN: 33AAJPS6304G1ZS\\nState Name: Tamil Nadu, Code: 33\\nE-Mail: kandhanmetal@gmail.com\\n\\nConsignee\\nSAGAR ASISAGAR ASIA PRIVATE LIMITEDA PVT LTD\\nSy. No. 379 to 382, Manoharabad Mandal,\\nKallakal Village, Medak, Telangana,\\n502336\\nGSTIN/UIN : 36AAACZ2890G1Z4\\n\\nBuyer (if other than consignee)\\nSMARTQUIP OVERSEAS COMPANY\\nNO 16, 2ND CROSS J C ROAD, SUDHAM\\nNAGAR, BANGALORE, Bengaluru (\\nBangalore) Urban, Karnataka, 560002\\nGSTIN/UIN : 29AGGPJ0910N1ZA\", type='text'), Chunk(id='ee827888-ea64-4c85-9255-b42eec9648c4', grounding=ChunkGrounding(box=ChunkGroundingBox(bottom=0.4024697244167328, left=0.4851920008659363, right=0.8442955613136292, top=0.04986181855201721), page=0), markdown='<a id=\\'ee827888-ea64-4c85-9255-b42eec9648c4\\'></a>\\n\\n<table id=\"0-1\">\\n<tr><td id=\"0-2\">Invoice No. 812</td><td id=\"0-3\">Dated 2-Dec-2021</td></tr>\\n<tr><td id=\"0-4\">Delivery Note</td><td id=\"0-5\">Mode/Terms of Payment</td></tr>\\n<tr><td id=\"0-6\">Supplier\\'s Ref.</td><td id=\"0-7\">Other Reference(s)</td></tr>\\n<tr><td id=\"0-8\">Despatch Document No.</td><td id=\"0-9\">Delivery Note Date</td></tr>\\n<tr><td id=\"0-a\">Despatched through</td><td id=\"0-b\">Destination</td></tr>\\n<tr><td id=\"0-c\">Bill of Lading/LR-RR No.</td><td id=\"0-d\">Motor Vehicle No. AP39TD4595</td></tr>\\n<tr><td id=\"0-e\" colspan=\"2\">Terms of Delivery SAGAR ASIA PRIVATE LIMITED Sy. No. 379 to 382, Manoharabad Mandal, Kallakal Village, Medak, Telangana, 502336 GST:36AAACZ2890G1Z4</td></tr>\\n</table>', type='table'), Chunk(id='8f9dfec5-c99f-4d2a-b8d1-2a21c153457e', grounding=ChunkGrounding(box=ChunkGroundingBox(bottom=0.6210481524467468, left=0.07013878226280212, right=0.8427619934082031, top=0.39703235030174255), page=0), markdown='<a id=\\'8f9dfec5-c99f-4d2a-b8d1-2a21c153457e\\'></a>\\n\\n<table id=\"0-f\">\\n<tr><td id=\"0-g\">Description of Goods</td><td id=\"0-h\">HSN/SAC</td><td id=\"0-i\">Quantity</td><td id=\"0-j\">Rate</td><td id=\"0-k\">per</td><td id=\"0-l\">Amount</td></tr>\\n<tr><td id=\"0-m\">ALUMINIUM SCRAPS</td><td id=\"0-n\">7602</td><td id=\"0-o\">26,440.000 Kg</td><td id=\"0-p\">193.00</td><td id=\"0-q\">Kg</td><td id=\"0-r\">51,02,920.00</td></tr>\\n<tr><td id=\"0-s\">IGST @ 18%</td><td id=\"0-t\"></td><td id=\"0-u\"></td><td id=\"0-v\">18</td><td id=\"0-w\">%</td><td id=\"0-x\">9,18,525.60</td></tr>\\n<tr><td id=\"0-y\">ROUND OFF</td><td id=\"0-z\"></td><td id=\"0-A\"></td><td id=\"0-B\"></td><td id=\"0-C\"></td><td id=\"0-D\">0.40</td></tr>\\n<tr><td id=\"0-E\">Total</td><td id=\"0-F\"></td><td id=\"0-G\">26,440.000 Kg</td><td id=\"0-H\"></td><td id=\"0-I\"></td><td id=\"0-J\">60,21,446.00</td></tr>\\n</table>', type='table'), Chunk(id='ce8b4c33-d181-47ad-ae57-720af8dd26c2', grounding=ChunkGrounding(box=ChunkGroundingBox(bottom=0.8153880834579468, left=0.06953784823417664, right=0.84192955493927, top=0.61434006690979), page=0), markdown='<a id=\\'ce8b4c33-d181-47ad-ae57-720af8dd26c2\\'></a>\\n\\n<table id=\"0-K\">\\n<tr><td id=\"0-L\">Amount Chargeable (in words) INR Sixty Lakh Twenty One Thousand Four Hundred Forty Six Only</td><td id=\"0-M\">E. & O.E</td></tr>\\n<tr><td id=\"0-N\">Company\\'s PAN : AAJPS6304G</td><td id=\"0-O\" rowspan=\"3\">Company\\'s Bank Details Bank Name : Hdfc BANK Ltd A/c No. : 59209444079789 Branch & IFS Code : AnnaNagar & HDFC0000017</td></tr>\\n<tr><td id=\"0-P\" rowspan=\"2\">Declaration We declare that this invoice shows the actual price of the goods described and that all particulars are true and correct.</td></tr>\\n<tr><td id=\"0-Q\">Customer\\'s Seal and Signature</td><td id=\"0-R\">for KANDHAN METAL COMPANY Authorised Signatory</td></tr>\\n</table>', type='table'), Chunk(id='7733c10e-e815-4f81-b592-98ffda49dd5b', grounding=ChunkGrounding(box=ChunkGroundingBox(bottom=0.8364787101745605, left=0.31841030716896057, right=0.5589956045150757, top=0.8178292512893677), page=0), markdown=\"<a id='7733c10e-e815-4f81-b592-98ffda49dd5b'></a>\\n\\nThis Is a Computer Generated Invoice\", type='marginalia')], markdown='<a id=\\'0a8bc7ea-1c99-4ca8-8caa-ed65b66dd0dc\\'></a>\\n\\nTax Invoice\\n\\n<a id=\\'d17da48c-2102-49e5-a343-5f37b7dc68f0\\'></a>\\n\\n(ORIGINAL FOR RECIPIENT)\\n\\n<a id=\\'6a9482b2-56fc-473b-add8-7fd2b70fdec8\\'></a>\\n\\nKANDHAN METAL COMPANY\\nOLD NO: 12, NEW NO:33,JANI BATCHA STREET.\\nROYAPETTAH,CHENNAI-600014\\nPH:044-28612601/48581793\\nGodown No 69/227 Nageswara Rao Road\\nAthipet, Chennai-58\\nGSTIN/UIN: 33AAJPS6304G1ZS\\nState Name: Tamil Nadu, Code: 33\\nE-Mail: kandhanmetal@gmail.com\\n\\nConsignee\\nSAGAR ASISAGAR ASIA PRIVATE LIMITEDA PVT LTD\\nSy. No. 379 to 382, Manoharabad Mandal,\\nKallakal Village, Medak, Telangana,\\n502336\\nGSTIN/UIN : 36AAACZ2890G1Z4\\n\\nBuyer (if other than consignee)\\nSMARTQUIP OVERSEAS COMPANY\\nNO 16, 2ND CROSS J C ROAD, SUDHAM\\nNAGAR, BANGALORE, Bengaluru (\\nBangalore) Urban, Karnataka, 560002\\nGSTIN/UIN : 29AGGPJ0910N1ZA\\n\\n<a id=\\'ee827888-ea64-4c85-9255-b42eec9648c4\\'></a>\\n\\n<table id=\"0-1\">\\n<tr><td id=\"0-2\">Invoice No. 812</td><td id=\"0-3\">Dated 2-Dec-2021</td></tr>\\n<tr><td id=\"0-4\">Delivery Note</td><td id=\"0-5\">Mode/Terms of Payment</td></tr>\\n<tr><td id=\"0-6\">Supplier\\'s Ref.</td><td id=\"0-7\">Other Reference(s)</td></tr>\\n<tr><td id=\"0-8\">Despatch Document No.</td><td id=\"0-9\">Delivery Note Date</td></tr>\\n<tr><td id=\"0-a\">Despatched through</td><td id=\"0-b\">Destination</td></tr>\\n<tr><td id=\"0-c\">Bill of Lading/LR-RR No.</td><td id=\"0-d\">Motor Vehicle No. AP39TD4595</td></tr>\\n<tr><td id=\"0-e\" colspan=\"2\">Terms of Delivery SAGAR ASIA PRIVATE LIMITED Sy. No. 379 to 382, Manoharabad Mandal, Kallakal Village, Medak, Telangana, 502336 GST:36AAACZ2890G1Z4</td></tr>\\n</table>\\n\\n<a id=\\'8f9dfec5-c99f-4d2a-b8d1-2a21c153457e\\'></a>\\n\\n<table id=\"0-f\">\\n<tr><td id=\"0-g\">Description of Goods</td><td id=\"0-h\">HSN/SAC</td><td id=\"0-i\">Quantity</td><td id=\"0-j\">Rate</td><td id=\"0-k\">per</td><td id=\"0-l\">Amount</td></tr>\\n<tr><td id=\"0-m\">ALUMINIUM SCRAPS</td><td id=\"0-n\">7602</td><td id=\"0-o\">26,440.000 Kg</td><td id=\"0-p\">193.00</td><td id=\"0-q\">Kg</td><td id=\"0-r\">51,02,920.00</td></tr>\\n<tr><td id=\"0-s\">IGST @ 18%</td><td id=\"0-t\"></td><td id=\"0-u\"></td><td id=\"0-v\">18</td><td id=\"0-w\">%</td><td id=\"0-x\">9,18,525.60</td></tr>\\n<tr><td id=\"0-y\">ROUND OFF</td><td id=\"0-z\"></td><td id=\"0-A\"></td><td id=\"0-B\"></td><td id=\"0-C\"></td><td id=\"0-D\">0.40</td></tr>\\n<tr><td id=\"0-E\">Total</td><td id=\"0-F\"></td><td id=\"0-G\">26,440.000 Kg</td><td id=\"0-H\"></td><td id=\"0-I\"></td><td id=\"0-J\">60,21,446.00</td></tr>\\n</table>\\n\\n<a id=\\'ce8b4c33-d181-47ad-ae57-720af8dd26c2\\'></a>\\n\\n<table id=\"0-K\">\\n<tr><td id=\"0-L\">Amount Chargeable (in words) INR Sixty Lakh Twenty One Thousand Four Hundred Forty Six Only</td><td id=\"0-M\">E. & O.E</td></tr>\\n<tr><td id=\"0-N\">Company\\'s PAN : AAJPS6304G</td><td id=\"0-O\" rowspan=\"3\">Company\\'s Bank Details Bank Name : Hdfc BANK Ltd A/c No. : 59209444079789 Branch & IFS Code : AnnaNagar & HDFC0000017</td></tr>\\n<tr><td id=\"0-P\" rowspan=\"2\">Declaration We declare that this invoice shows the actual price of the goods described and that all particulars are true and correct.</td></tr>\\n<tr><td id=\"0-Q\">Customer\\'s Seal and Signature</td><td id=\"0-R\">for KANDHAN METAL COMPANY Authorised Signatory</td></tr>\\n</table>\\n\\n<a id=\\'7733c10e-e815-4f81-b592-98ffda49dd5b\\'></a>\\n\\nThis Is a Computer Generated Invoice', metadata=Metadata(credit_usage=3.0, duration_ms=8885, filename='invoice_13.pdf', job_id='agdiqa6rn4afxkt256ha3kga4', org_id='u3z0u1hn4acl', page_count=1, version='dpt-2-20250919'), splits=[Split(chunks=['0a8bc7ea-1c99-4ca8-8caa-ed65b66dd0dc', 'd17da48c-2102-49e5-a343-5f37b7dc68f0', '6a9482b2-56fc-473b-add8-7fd2b70fdec8', 'ee827888-ea64-4c85-9255-b42eec9648c4', '8f9dfec5-c99f-4d2a-b8d1-2a21c153457e', 'ce8b4c33-d181-47ad-ae57-720af8dd26c2', '7733c10e-e815-4f81-b592-98ffda49dd5b'], class_='full', identifier='full', markdown='<a id=\\'0a8bc7ea-1c99-4ca8-8caa-ed65b66dd0dc\\'></a>\\n\\nTax Invoice\\n\\n<a id=\\'d17da48c-2102-49e5-a343-5f37b7dc68f0\\'></a>\\n\\n(ORIGINAL FOR RECIPIENT)\\n\\n<a id=\\'6a9482b2-56fc-473b-add8-7fd2b70fdec8\\'></a>\\n\\nKANDHAN METAL COMPANY\\nOLD NO: 12, NEW NO:33,JANI BATCHA STREET.\\nROYAPETTAH,CHENNAI-600014\\nPH:044-28612601/48581793\\nGodown No 69/227 Nageswara Rao Road\\nAthipet, Chennai-58\\nGSTIN/UIN: 33AAJPS6304G1ZS\\nState Name: Tamil Nadu, Code: 33\\nE-Mail: kandhanmetal@gmail.com\\n\\nConsignee\\nSAGAR ASISAGAR ASIA PRIVATE LIMITEDA PVT LTD\\nSy. No. 379 to 382, Manoharabad Mandal,\\nKallakal Village, Medak, Telangana,\\n502336\\nGSTIN/UIN : 36AAACZ2890G1Z4\\n\\nBuyer (if other than consignee)\\nSMARTQUIP OVERSEAS COMPANY\\nNO 16, 2ND CROSS J C ROAD, SUDHAM\\nNAGAR, BANGALORE, Bengaluru (\\nBangalore) Urban, Karnataka, 560002\\nGSTIN/UIN : 29AGGPJ0910N1ZA\\n\\n<a id=\\'ee827888-ea64-4c85-9255-b42eec9648c4\\'></a>\\n\\n<table id=\"0-1\">\\n<tr><td id=\"0-2\">Invoice No. 812</td><td id=\"0-3\">Dated 2-Dec-2021</td></tr>\\n<tr><td id=\"0-4\">Delivery Note</td><td id=\"0-5\">Mode/Terms of Payment</td></tr>\\n<tr><td id=\"0-6\">Supplier\\'s Ref.</td><td id=\"0-7\">Other Reference(s)</td></tr>\\n<tr><td id=\"0-8\">Despatch Document No.</td><td id=\"0-9\">Delivery Note Date</td></tr>\\n<tr><td id=\"0-a\">Despatched through</td><td id=\"0-b\">Destination</td></tr>\\n<tr><td id=\"0-c\">Bill of Lading/LR-RR No.</td><td id=\"0-d\">Motor Vehicle No. AP39TD4595</td></tr>\\n<tr><td id=\"0-e\" colspan=\"2\">Terms of Delivery SAGAR ASIA PRIVATE LIMITED Sy. No. 379 to 382, Manoharabad Mandal, Kallakal Village, Medak, Telangana, 502336 GST:36AAACZ2890G1Z4</td></tr>\\n</table>\\n\\n<a id=\\'8f9dfec5-c99f-4d2a-b8d1-2a21c153457e\\'></a>\\n\\n<table id=\"0-f\">\\n<tr><td id=\"0-g\">Description of Goods</td><td id=\"0-h\">HSN/SAC</td><td id=\"0-i\">Quantity</td><td id=\"0-j\">Rate</td><td id=\"0-k\">per</td><td id=\"0-l\">Amount</td></tr>\\n<tr><td id=\"0-m\">ALUMINIUM SCRAPS</td><td id=\"0-n\">7602</td><td id=\"0-o\">26,440.000 Kg</td><td id=\"0-p\">193.00</td><td id=\"0-q\">Kg</td><td id=\"0-r\">51,02,920.00</td></tr>\\n<tr><td id=\"0-s\">IGST @ 18%</td><td id=\"0-t\"></td><td id=\"0-u\"></td><td id=\"0-v\">18</td><td id=\"0-w\">%</td><td id=\"0-x\">9,18,525.60</td></tr>\\n<tr><td id=\"0-y\">ROUND OFF</td><td id=\"0-z\"></td><td id=\"0-A\"></td><td id=\"0-B\"></td><td id=\"0-C\"></td><td id=\"0-D\">0.40</td></tr>\\n<tr><td id=\"0-E\">Total</td><td id=\"0-F\"></td><td id=\"0-G\">26,440.000 Kg</td><td id=\"0-H\"></td><td id=\"0-I\"></td><td id=\"0-J\">60,21,446.00</td></tr>\\n</table>\\n\\n<a id=\\'ce8b4c33-d181-47ad-ae57-720af8dd26c2\\'></a>\\n\\n<table id=\"0-K\">\\n<tr><td id=\"0-L\">Amount Chargeable (in words) INR Sixty Lakh Twenty One Thousand Four Hundred Forty Six Only</td><td id=\"0-M\">E. & O.E</td></tr>\\n<tr><td id=\"0-N\">Company\\'s PAN : AAJPS6304G</td><td id=\"0-O\" rowspan=\"3\">Company\\'s Bank Details Bank Name : Hdfc BANK Ltd A/c No. : 59209444079789 Branch & IFS Code : AnnaNagar & HDFC0000017</td></tr>\\n<tr><td id=\"0-P\" rowspan=\"2\">Declaration We declare that this invoice shows the actual price of the goods described and that all particulars are true and correct.</td></tr>\\n<tr><td id=\"0-Q\">Customer\\'s Seal and Signature</td><td id=\"0-R\">for KANDHAN METAL COMPANY Authorised Signatory</td></tr>\\n</table>\\n\\n<a id=\\'7733c10e-e815-4f81-b592-98ffda49dd5b\\'></a>\\n\\nThis Is a Computer Generated Invoice', pages=[0], class='full')], grounding={'0a8bc7ea-1c99-4ca8-8caa-ed65b66dd0dc': Grounding(box=GroundingBox(bottom=0.04086274281144142, left=0.3944183588027954, right=0.505725085735321, top=0.021210074424743652), page=0, type='chunkMarginalia'), 'd17da48c-2102-49e5-a343-5f37b7dc68f0': Grounding(box=GroundingBox(bottom=0.03962094336748123, left=0.6299343705177307, right=0.8244345784187317, top=0.017798636108636856), page=0, type='chunkText'), '6a9482b2-56fc-473b-add8-7fd2b70fdec8': Grounding(box=GroundingBox(bottom=0.402715265750885, left=0.06802284717559814, right=0.49336951971054077, top=0.04924289882183075), page=0, type='chunkText'), 'ee827888-ea64-4c85-9255-b42eec9648c4': Grounding(box=GroundingBox(bottom=0.4024697244167328, left=0.4851920008659363, right=0.8442955613136292, top=0.04986181855201721), page=0, type='chunkTable'), '0-1': Grounding(box=GroundingBox(bottom=0.4008279130226171, left=0.4896665362011804, right=0.8380691320643692, top=0.05479761710489378), page=0, type='table'), '0-2': Grounding(box=GroundingBox(bottom=0.08467935967925255, left=0.4896665362011804, right=0.662911096536849, top=0.05479761710489378), page=0, type='tableCell'), '0-3': Grounding(box=GroundingBox(bottom=0.08467935967925255, left=0.662911096536849, right=0.8381485631995957, top=0.05479761710489378), page=0, type='tableCell'), '0-4': Grounding(box=GroundingBox(bottom=0.11330005479935679, left=0.4896665362011804, right=0.662911096536849, top=0.08467935967925255), page=0, type='tableCell'), '0-5': Grounding(box=GroundingBox(bottom=0.11330005479935679, left=0.662911096536849, right=0.8381485631995957, top=0.08467935967925255), page=0, type='tableCell'), '0-6': Grounding(box=GroundingBox(bottom=0.1422107670813677, left=0.4896665362011804, right=0.662911096536849, top=0.11330005479935679), page=0, type='tableCell'), '0-7': Grounding(box=GroundingBox(bottom=0.1422107670813677, left=0.662911096536849, right=0.8381485631995957, top=0.11330005479935679), page=0, type='tableCell'), '0-8': Grounding(box=GroundingBox(bottom=0.17008623108838883, left=0.4896665362011804, right=0.662911096536849, top=0.1422107670813677), page=0, type='tableCell'), '0-9': Grounding(box=GroundingBox(bottom=0.17008623108838883, left=0.662911096536849, right=0.8381485631995957, top=0.1422107670813677), page=0, type='tableCell'), '0-a': Grounding(box=GroundingBox(bottom=0.198852923905255, left=0.4896665362011804, right=0.662911096536849, top=0.17008623108838883), page=0, type='tableCell'), '0-b': Grounding(box=GroundingBox(bottom=0.198852923905255, left=0.662911096536849, right=0.8381485631995957, top=0.17008623108838883), page=0, type='tableCell'), '0-c': Grounding(box=GroundingBox(bottom=0.2276863564246483, left=0.4896665362011804, right=0.662911096536849, top=0.198852923905255), page=0, type='tableCell'), '0-d': Grounding(box=GroundingBox(bottom=0.2276863564246483, left=0.662911096536849, right=0.8381485631995957, top=0.198852923905255), page=0, type='tableCell'), '0-e': Grounding(box=GroundingBox(bottom=0.4008279130226171, left=0.4896665362011804, right=0.8381485631995957, top=0.2276863564246483), page=0, type='tableCell'), '8f9dfec5-c99f-4d2a-b8d1-2a21c153457e': Grounding(box=GroundingBox(bottom=0.6210481524467468, left=0.07013878226280212, right=0.8427619934082031, top=0.39703235030174255), page=0, type='chunkTable'), '0-f': Grounding(box=GroundingBox(bottom=0.6173177772291023, left=0.07427753487582597, right=0.8383855862020511, top=0.4008504031033079), page=0, type='table'), '0-g': Grounding(box=GroundingBox(bottom=0.43438662455475674, left=0.07427753487582597, right=0.44463104434618383, top=0.4008504031033079), page=0, type='tableCell'), '0-h': Grounding(box=GroundingBox(bottom=0.43438662455475674, left=0.44463104434618383, right=0.5235827759826215, top=0.4008504031033079), page=0, type='tableCell'), '0-i': Grounding(box=GroundingBox(bottom=0.43438662455475674, left=0.5235827759826215, right=0.6043247534513636, top=0.4008504031033079), page=0, type='tableCell'), '0-j': Grounding(box=GroundingBox(bottom=0.43438662455475674, left=0.6043247534513636, right=0.6833949076310564, top=0.4008504031033079), page=0, type='tableCell'), '0-k': Grounding(box=GroundingBox(bottom=0.43438662455475674, left=0.6833949076310564, right=0.7179288370046208, top=0.4008504031033079), page=0, type='tableCell'), '0-l': Grounding(box=GroundingBox(bottom=0.43438662455475674, left=0.7179288370046208, right=0.838299607244922, top=0.4008504031033079), page=0, type='tableCell'), '0-m': Grounding(box=GroundingBox(bottom=0.4591956212742012, left=0.07427753487582597, right=0.44463104434618383, top=0.43438662455475674), page=0, type='tableCell'), '0-n': Grounding(box=GroundingBox(bottom=0.4591956212742012, left=0.44463104434618383, right=0.5235827759826215, top=0.43438662455475674), page=0, type='tableCell'), '0-o': Grounding(box=GroundingBox(bottom=0.4591956212742012, left=0.5235827759826215, right=0.6043247534513636, top=0.43438662455475674), page=0, type='tableCell'), '0-p': Grounding(box=GroundingBox(bottom=0.4591956212742012, left=0.6043247534513636, right=0.6833949076310564, top=0.43438662455475674), page=0, type='tableCell'), '0-q': Grounding(box=GroundingBox(bottom=0.4591956212742012, left=0.6833949076310564, right=0.7179288370046208, top=0.43438662455475674), page=0, type='tableCell'), '0-r': Grounding(box=GroundingBox(bottom=0.4591956212742012, left=0.7179288370046208, right=0.838299607244922, top=0.43438662455475674), page=0, type='tableCell'), '0-s': Grounding(box=GroundingBox(bottom=0.5020098081636899, left=0.07427753487582597, right=0.44463104434618383, top=0.4591956212742012), page=0, type='tableCell'), '0-t': Grounding(box=GroundingBox(bottom=0.5020098081636899, left=0.44463104434618383, right=0.5235827759826215, top=0.4591956212742012), page=0, type='tableCell'), '0-u': Grounding(box=GroundingBox(bottom=0.5020098081636899, left=0.5235827759826215, right=0.6043247534513636, top=0.4591956212742012), page=0, type='tableCell'), '0-v': Grounding(box=GroundingBox(bottom=0.5020098081636899, left=0.6043247534513636, right=0.6833949076310564, top=0.4591956212742012), page=0, type='tableCell'), '0-w': Grounding(box=GroundingBox(bottom=0.5020098081636899, left=0.6833949076310564, right=0.7179288370046208, top=0.4591956212742012), page=0, type='tableCell'), '0-x': Grounding(box=GroundingBox(bottom=0.5020098081636899, left=0.7179288370046208, right=0.838299607244922, top=0.4591956212742012), page=0, type='tableCell'), '0-y': Grounding(box=GroundingBox(bottom=0.5967780478630846, left=0.07427753487582597, right=0.44463104434618383, top=0.5020098081636899), page=0, type='tableCell'), '0-z': Grounding(box=GroundingBox(bottom=0.5967780478630846, left=0.44463104434618383, right=0.5235827759826215, top=0.5020098081636899), page=0, type='tableCell'), '0-A': Grounding(box=GroundingBox(bottom=0.5967780478630846, left=0.5235827759826215, right=0.6043247534513636, top=0.5020098081636899), page=0, type='tableCell'), '0-B': Grounding(box=GroundingBox(bottom=0.5967780478630846, left=0.6043247534513636, right=0.6833949076310564, top=0.5020098081636899), page=0, type='tableCell'), '0-C': Grounding(box=GroundingBox(bottom=0.5967780478630846, left=0.6833949076310564, right=0.7179288370046208, top=0.5020098081636899), page=0, type='tableCell'), '0-D': Grounding(box=GroundingBox(bottom=0.5967780478630846, left=0.7179288370046208, right=0.838299607244922, top=0.5020098081636899), page=0, type='tableCell'), '0-E': Grounding(box=GroundingBox(bottom=0.6173177772291023, left=0.07427753487582597, right=0.44463104434618383, top=0.5967780478630846), page=0, type='tableCell'), '0-F': Grounding(box=GroundingBox(bottom=0.6173177772291023, left=0.44463104434618383, right=0.5235827759826215, top=0.5967780478630846), page=0, type='tableCell'), '0-G': Grounding(box=GroundingBox(bottom=0.6173177772291023, left=0.5235827759826215, right=0.6043247534513636, top=0.5967780478630846), page=0, type='tableCell'), '0-H': Grounding(box=GroundingBox(bottom=0.6173177772291023, left=0.6043247534513636, right=0.6833949076310564, top=0.5967780478630846), page=0, type='tableCell'), '0-I': Grounding(box=GroundingBox(bottom=0.6173177772291023, left=0.6833949076310564, right=0.7179288370046208, top=0.5967780478630846), page=0, type='tableCell'), '0-J': Grounding(box=GroundingBox(bottom=0.6173177772291023, left=0.7179288370046208, right=0.838299607244922, top=0.5967780478630846), page=0, type='tableCell'), 'ce8b4c33-d181-47ad-ae57-720af8dd26c2': Grounding(box=GroundingBox(bottom=0.8153880834579468, left=0.06953784823417664, right=0.84192955493927, top=0.61434006690979), page=0, type='chunkTable'), '0-K': Grounding(box=GroundingBox(bottom=0.8118661754718133, left=0.07469669909823519, right=0.8385772422244884, top=0.6172212337798951), page=0, type='table'), '0-L': Grounding(box=GroundingBox(bottom=0.6617950145506661, left=0.07469669909823519, right=0.4527441693623899, top=0.6172212337798951), page=0, type='tableCell'), '0-M': Grounding(box=GroundingBox(bottom=0.6617950145506661, left=0.4527441693623899, right=0.8385077706813302, top=0.6172212337798951), page=0, type='tableCell'), '0-N': Grounding(box=GroundingBox(bottom=0.7091702606273458, left=0.07469669909823519, right=0.4527441693623899, top=0.6617950145506661), page=0, type='tableCell'), '0-O': Grounding(box=GroundingBox(bottom=0.8118661754718133, left=0.4527441693623899, right=0.8385077706813302, top=0.6617950145506661), page=0, type='tableCell'), '0-P': Grounding(box=GroundingBox(bottom=0.8118661754718133, left=0.07469669909823519, right=0.8385077706813302, top=0.7091702606273458), page=0, type='tableCell'), '0-Q': Grounding(box=GroundingBox(bottom=0.8118661754718133, left=0.07469669909823519, right=0.4527441693623899, top=0.7594204371529187), page=0, type='tableCell'), '0-R': Grounding(box=GroundingBox(bottom=0.8118661754718133, left=0.4527441693623899, right=0.8385077706813302, top=0.7594204371529187), page=0, type='tableCell'), '7733c10e-e815-4f81-b592-98ffda49dd5b': Grounding(box=GroundingBox(bottom=0.8364787101745605, left=0.31841030716896057, right=0.5589956045150757, top=0.8178292512893677), page=0, type='chunkMarginalia')})"
      ]
     },
     "execution_count": 17,
     "metadata": {},
     "output_type": "execute_result"
    }
   ],
   "source": [
    "# Send a single invoice for parsing and write the results to file\n",
    "# Function found in utilities.py\n",
    "single_result_parse_save = parse_and_save(document_path=file_paths[1], client=client, output_dir=results_folder)\n",
    "single_result_parse_save"
   ]
  },
  {
   "cell_type": "code",
   "execution_count": 18,
   "id": "795325d4",
   "metadata": {},
   "outputs": [
    {
     "name": "stdout",
     "output_type": "stream",
     "text": [
      "Parse results saved to: /Users/andreakropp/Documents/Github/andrea-kropp/ade_demos/Invoices/results_folder/parse_invoice_9.json\n",
      "Extract results saved to: /Users/andreakropp/Documents/Github/andrea-kropp/ade_demos/Invoices/results_folder/extract_invoice_9.json\n"
     ]
    },
    {
     "data": {
      "text/plain": [
       "(ParseResponse(chunks=[Chunk(id='b8d98675-73c6-4b7c-ae20-83f5136e3518', grounding=ChunkGrounding(box=ChunkGroundingBox(bottom=0.096154123544693, left=0.08743181824684143, right=0.44194576144218445, top=0.033484891057014465), page=0), markdown=\"<a id='b8d98675-73c6-4b7c-ae20-83f5136e3518'></a>\\n\\n<::logo: Freshworks\\nfreshworks\\nA stylized leaf-like symbol composed of multiple facets in shades of gray.::>\", type='logo'), Chunk(id='2315934d-7178-445e-8557-45fa2008605a', grounding=ChunkGrounding(box=ChunkGroundingBox(bottom=0.21089597046375275, left=0.08651575446128845, right=0.4332708418369293, top=0.10671643912792206), page=0), markdown=\"<a id='2315934d-7178-445e-8557-45fa2008605a'></a>\\n\\nFreshworks Inc., (formerly known as Freshdesk Inc.)\\n2950 S. Delaware St,\\nSuite 201, San Mateo, CA 94403,\\nU.S.A.\\nPhone: +1 (866) 832 3090\\nTax ID: 33-1218825\\nTax Reg #: 33-1218825\", type='text'), Chunk(id='c3068653-57d0-4361-9464-760eaa962d8c', grounding=ChunkGrounding(box=ChunkGroundingBox(bottom=0.19167819619178772, left=0.5961894392967224, right=0.8421856760978699, top=0.03922150284051895), page=0), markdown=\"<a id='c3068653-57d0-4361-9464-760eaa962d8c'></a>\\n\\nINVOICE\\n\\nInvoice #: FCL233308\\nInvoice Date: May 26, 2021\\nInvoice Amount: $10.00 (USD)\\nPayment Terms: Due Upon Receipt\\nPAID\", type='text'), Chunk(id='0552a993-036a-477d-b4a2-83c6ab6fbcd1', grounding=ChunkGrounding(box=ChunkGroundingBox(bottom=0.3217448592185974, left=0.08736848086118698, right=0.3143427073955536, top=0.23484545946121216), page=0), markdown=\"<a id='0552a993-036a-477d-b4a2-83c6ab6fbcd1'></a>\\n\\nBILLED TO\\nLeo Charles Vincent\\nabaxystech\\n1061 Midvale Ave\\nMorrsiville, North Carolina 27560\\nUnited States\", type='text'), Chunk(id='db645ec3-783d-49f8-b903-873dddd03e47', grounding=ChunkGrounding(box=ChunkGroundingBox(bottom=0.2687315344810486, left=0.59776771068573, right=0.8604755401611328, top=0.23522764444351196), page=0), markdown=\"<a id='db645ec3-783d-49f8-b903-873dddd03e47'></a>\\n\\nSUBSCRIPTION\\nBilling Period May 26 to May 26, 2021\", type='text'), Chunk(id='d9fb922e-b694-409a-9dc3-a6f0fa6659d0', grounding=ChunkGrounding(box=ChunkGroundingBox(bottom=0.5344086289405823, left=0.08666667342185974, right=0.9102663993835449, top=0.3424803912639618), page=0), markdown='<a id=\\'d9fb922e-b694-409a-9dc3-a6f0fa6659d0\\'></a>\\n\\n<table id=\"0-1\">\\n<tr><td id=\"0-2\">DESCRIPTION</td><td id=\"0-3\">UNITS</td><td id=\"0-4\">UNIT PRICE</td><td id=\"0-5\">AMOUNT (USD)</td></tr>\\n<tr><td id=\"0-6\">Freshcaller Phone Credits</td><td id=\"0-7\">10</td><td id=\"0-8\">$1.00</td><td id=\"0-9\">$10.00</td></tr>\\n<tr><td id=\"0-a\"></td><td id=\"0-b\"></td><td id=\"0-c\">Total</td><td id=\"0-d\">$10.00</td></tr>\\n<tr><td id=\"0-e\"></td><td id=\"0-f\"></td><td id=\"0-g\">Payments</td><td id=\"0-h\">($10.00)</td></tr>\\n<tr><td id=\"0-i\"></td><td id=\"0-j\" colspan=\"2\">Amount Due (USD)</td><td id=\"0-k\">$0.00</td></tr>\\n</table>', type='table'), Chunk(id='2db7ef46-270c-44dc-917e-cf59c4f22443', grounding=ChunkGrounding(box=ChunkGroundingBox(bottom=0.5945142507553101, left=0.08779513835906982, right=0.5508441925048828, top=0.5478050708770752), page=0), markdown=\"<a id='2db7ef46-270c-44dc-917e-cf59c4f22443'></a>\\n\\nPAYMENTS\\n\\n**$10.00** was paid on 26 May, 2021 11:49 PDT by Visa card ending 2136.\", type='text'), Chunk(id='884a1089-d0f4-4ee4-bae7-1b430c0a95c5', grounding=ChunkGrounding(box=ChunkGroundingBox(bottom=0.6606581807136536, left=0.08871494233608246, right=0.5692809820175171, top=0.6159620881080627), page=0), markdown=\"<a id='884a1089-d0f4-4ee4-bae7-1b430c0a95c5'></a>\\n\\nNOTES\\n---\\nPlease always include your invoice number when making any payment!\", type='text'), Chunk(id='cb8dea1d-59d1-4c1c-b7f6-7c797d8038ee', grounding=ChunkGrounding(box=ChunkGroundingBox(bottom=0.7406542897224426, left=0.08950304985046387, right=0.7812685966491699, top=0.6689214110374451), page=0), markdown=\"<a id='cb8dea1d-59d1-4c1c-b7f6-7c797d8038ee'></a>\\n\\n**Reference to our Bank details:**\\n\\nClick the appropriate currency below to view our respective Bank account details for payment processing.\\n\\nAUD EUR GBP USD\", type='text'), Chunk(id='cb91c897-a682-4639-83ca-f2a755a8f263', grounding=ChunkGrounding(box=ChunkGroundingBox(bottom=0.8998996019363403, left=0.08868715167045593, right=0.6722677946090698, top=0.7489556074142456), page=0), markdown=\"<a id='cb91c897-a682-4639-83ca-f2a755a8f263'></a>\\n\\n**For Check Payments (US Customers Only)**\\n\\nE-checks: Freshworks Inc, Dept LA 24888, Pasadena CA 91185-4888.\\n\\nPhysical checks: Freshworks Inc., 24888, 14005 Live Oak Ave, Irwindale CA 91706-1300.\\n\\n**Other Payment Methods**: PayPal ID: paypal@freshdesk.com (USD Only)\\n\\nFor questions/concerning regarding this invoice, please contact billing@freshworks.com\\n\\nClick this link to download the W9 certificate\", type='text')], markdown='<a id=\\'b8d98675-73c6-4b7c-ae20-83f5136e3518\\'></a>\\n\\n<::logo: Freshworks\\nfreshworks\\nA stylized leaf-like symbol composed of multiple facets in shades of gray.::>\\n\\n<a id=\\'2315934d-7178-445e-8557-45fa2008605a\\'></a>\\n\\nFreshworks Inc., (formerly known as Freshdesk Inc.)\\n2950 S. Delaware St,\\nSuite 201, San Mateo, CA 94403,\\nU.S.A.\\nPhone: +1 (866) 832 3090\\nTax ID: 33-1218825\\nTax Reg #: 33-1218825\\n\\n<a id=\\'c3068653-57d0-4361-9464-760eaa962d8c\\'></a>\\n\\nINVOICE\\n\\nInvoice #: FCL233308\\nInvoice Date: May 26, 2021\\nInvoice Amount: $10.00 (USD)\\nPayment Terms: Due Upon Receipt\\nPAID\\n\\n<a id=\\'0552a993-036a-477d-b4a2-83c6ab6fbcd1\\'></a>\\n\\nBILLED TO\\nLeo Charles Vincent\\nabaxystech\\n1061 Midvale Ave\\nMorrsiville, North Carolina 27560\\nUnited States\\n\\n<a id=\\'db645ec3-783d-49f8-b903-873dddd03e47\\'></a>\\n\\nSUBSCRIPTION\\nBilling Period May 26 to May 26, 2021\\n\\n<a id=\\'d9fb922e-b694-409a-9dc3-a6f0fa6659d0\\'></a>\\n\\n<table id=\"0-1\">\\n<tr><td id=\"0-2\">DESCRIPTION</td><td id=\"0-3\">UNITS</td><td id=\"0-4\">UNIT PRICE</td><td id=\"0-5\">AMOUNT (USD)</td></tr>\\n<tr><td id=\"0-6\">Freshcaller Phone Credits</td><td id=\"0-7\">10</td><td id=\"0-8\">$1.00</td><td id=\"0-9\">$10.00</td></tr>\\n<tr><td id=\"0-a\"></td><td id=\"0-b\"></td><td id=\"0-c\">Total</td><td id=\"0-d\">$10.00</td></tr>\\n<tr><td id=\"0-e\"></td><td id=\"0-f\"></td><td id=\"0-g\">Payments</td><td id=\"0-h\">($10.00)</td></tr>\\n<tr><td id=\"0-i\"></td><td id=\"0-j\" colspan=\"2\">Amount Due (USD)</td><td id=\"0-k\">$0.00</td></tr>\\n</table>\\n\\n<a id=\\'2db7ef46-270c-44dc-917e-cf59c4f22443\\'></a>\\n\\nPAYMENTS\\n\\n**$10.00** was paid on 26 May, 2021 11:49 PDT by Visa card ending 2136.\\n\\n<a id=\\'884a1089-d0f4-4ee4-bae7-1b430c0a95c5\\'></a>\\n\\nNOTES\\n---\\nPlease always include your invoice number when making any payment!\\n\\n<a id=\\'cb8dea1d-59d1-4c1c-b7f6-7c797d8038ee\\'></a>\\n\\n**Reference to our Bank details:**\\n\\nClick the appropriate currency below to view our respective Bank account details for payment processing.\\n\\nAUD EUR GBP USD\\n\\n<a id=\\'cb91c897-a682-4639-83ca-f2a755a8f263\\'></a>\\n\\n**For Check Payments (US Customers Only)**\\n\\nE-checks: Freshworks Inc, Dept LA 24888, Pasadena CA 91185-4888.\\n\\nPhysical checks: Freshworks Inc., 24888, 14005 Live Oak Ave, Irwindale CA 91706-1300.\\n\\n**Other Payment Methods**: PayPal ID: paypal@freshdesk.com (USD Only)\\n\\nFor questions/concerning regarding this invoice, please contact billing@freshworks.com\\n\\nClick this link to download the W9 certificate', metadata=Metadata(credit_usage=3.0, duration_ms=5935, filename='invoice_9.pdf', job_id='oneq1bxaobbd2h0v91f6arqyx', org_id='u3z0u1hn4acl', page_count=1, version='dpt-2-20250919'), splits=[Split(chunks=['b8d98675-73c6-4b7c-ae20-83f5136e3518', '2315934d-7178-445e-8557-45fa2008605a', 'c3068653-57d0-4361-9464-760eaa962d8c', '0552a993-036a-477d-b4a2-83c6ab6fbcd1', 'db645ec3-783d-49f8-b903-873dddd03e47', 'd9fb922e-b694-409a-9dc3-a6f0fa6659d0', '2db7ef46-270c-44dc-917e-cf59c4f22443', '884a1089-d0f4-4ee4-bae7-1b430c0a95c5', 'cb8dea1d-59d1-4c1c-b7f6-7c797d8038ee', 'cb91c897-a682-4639-83ca-f2a755a8f263'], class_='full', identifier='full', markdown='<a id=\\'b8d98675-73c6-4b7c-ae20-83f5136e3518\\'></a>\\n\\n<::logo: Freshworks\\nfreshworks\\nA stylized leaf-like symbol composed of multiple facets in shades of gray.::>\\n\\n<a id=\\'2315934d-7178-445e-8557-45fa2008605a\\'></a>\\n\\nFreshworks Inc., (formerly known as Freshdesk Inc.)\\n2950 S. Delaware St,\\nSuite 201, San Mateo, CA 94403,\\nU.S.A.\\nPhone: +1 (866) 832 3090\\nTax ID: 33-1218825\\nTax Reg #: 33-1218825\\n\\n<a id=\\'c3068653-57d0-4361-9464-760eaa962d8c\\'></a>\\n\\nINVOICE\\n\\nInvoice #: FCL233308\\nInvoice Date: May 26, 2021\\nInvoice Amount: $10.00 (USD)\\nPayment Terms: Due Upon Receipt\\nPAID\\n\\n<a id=\\'0552a993-036a-477d-b4a2-83c6ab6fbcd1\\'></a>\\n\\nBILLED TO\\nLeo Charles Vincent\\nabaxystech\\n1061 Midvale Ave\\nMorrsiville, North Carolina 27560\\nUnited States\\n\\n<a id=\\'db645ec3-783d-49f8-b903-873dddd03e47\\'></a>\\n\\nSUBSCRIPTION\\nBilling Period May 26 to May 26, 2021\\n\\n<a id=\\'d9fb922e-b694-409a-9dc3-a6f0fa6659d0\\'></a>\\n\\n<table id=\"0-1\">\\n<tr><td id=\"0-2\">DESCRIPTION</td><td id=\"0-3\">UNITS</td><td id=\"0-4\">UNIT PRICE</td><td id=\"0-5\">AMOUNT (USD)</td></tr>\\n<tr><td id=\"0-6\">Freshcaller Phone Credits</td><td id=\"0-7\">10</td><td id=\"0-8\">$1.00</td><td id=\"0-9\">$10.00</td></tr>\\n<tr><td id=\"0-a\"></td><td id=\"0-b\"></td><td id=\"0-c\">Total</td><td id=\"0-d\">$10.00</td></tr>\\n<tr><td id=\"0-e\"></td><td id=\"0-f\"></td><td id=\"0-g\">Payments</td><td id=\"0-h\">($10.00)</td></tr>\\n<tr><td id=\"0-i\"></td><td id=\"0-j\" colspan=\"2\">Amount Due (USD)</td><td id=\"0-k\">$0.00</td></tr>\\n</table>\\n\\n<a id=\\'2db7ef46-270c-44dc-917e-cf59c4f22443\\'></a>\\n\\nPAYMENTS\\n\\n**$10.00** was paid on 26 May, 2021 11:49 PDT by Visa card ending 2136.\\n\\n<a id=\\'884a1089-d0f4-4ee4-bae7-1b430c0a95c5\\'></a>\\n\\nNOTES\\n---\\nPlease always include your invoice number when making any payment!\\n\\n<a id=\\'cb8dea1d-59d1-4c1c-b7f6-7c797d8038ee\\'></a>\\n\\n**Reference to our Bank details:**\\n\\nClick the appropriate currency below to view our respective Bank account details for payment processing.\\n\\nAUD EUR GBP USD\\n\\n<a id=\\'cb91c897-a682-4639-83ca-f2a755a8f263\\'></a>\\n\\n**For Check Payments (US Customers Only)**\\n\\nE-checks: Freshworks Inc, Dept LA 24888, Pasadena CA 91185-4888.\\n\\nPhysical checks: Freshworks Inc., 24888, 14005 Live Oak Ave, Irwindale CA 91706-1300.\\n\\n**Other Payment Methods**: PayPal ID: paypal@freshdesk.com (USD Only)\\n\\nFor questions/concerning regarding this invoice, please contact billing@freshworks.com\\n\\nClick this link to download the W9 certificate', pages=[0], class='full')], grounding={'b8d98675-73c6-4b7c-ae20-83f5136e3518': Grounding(box=GroundingBox(bottom=0.096154123544693, left=0.08743181824684143, right=0.44194576144218445, top=0.033484891057014465), page=0, type='chunkLogo'), '2315934d-7178-445e-8557-45fa2008605a': Grounding(box=GroundingBox(bottom=0.21089597046375275, left=0.08651575446128845, right=0.4332708418369293, top=0.10671643912792206), page=0, type='chunkText'), 'c3068653-57d0-4361-9464-760eaa962d8c': Grounding(box=GroundingBox(bottom=0.19167819619178772, left=0.5961894392967224, right=0.8421856760978699, top=0.03922150284051895), page=0, type='chunkText'), '0552a993-036a-477d-b4a2-83c6ab6fbcd1': Grounding(box=GroundingBox(bottom=0.3217448592185974, left=0.08736848086118698, right=0.3143427073955536, top=0.23484545946121216), page=0, type='chunkText'), 'db645ec3-783d-49f8-b903-873dddd03e47': Grounding(box=GroundingBox(bottom=0.2687315344810486, left=0.59776771068573, right=0.8604755401611328, top=0.23522764444351196), page=0, type='chunkText'), 'd9fb922e-b694-409a-9dc3-a6f0fa6659d0': Grounding(box=GroundingBox(bottom=0.5344086289405823, left=0.08666667342185974, right=0.9102663993835449, top=0.3424803912639618), page=0, type='chunkTable'), '0-1': Grounding(box=GroundingBox(bottom=0.5320973059537017, left=0.09293526580336334, right=0.904593565420365, top=0.3449258925492694), page=0, type='table'), '0-2': Grounding(box=GroundingBox(bottom=0.37704173514721706, left=0.09293526580336334, right=0.5225989691308115, top=0.3449258925492694), page=0, type='tableCell'), '0-3': Grounding(box=GroundingBox(bottom=0.37704173514721706, left=0.5225989691308115, right=0.677762531442152, top=0.3449258925492694), page=0, type='tableCell'), '0-4': Grounding(box=GroundingBox(bottom=0.37704173514721706, left=0.677762531442152, right=0.8167628442744661, top=0.3449258925492694), page=0, type='tableCell'), '0-5': Grounding(box=GroundingBox(bottom=0.37704173514721706, left=0.8167628442744661, right=0.9046470248323182, top=0.3449258925492694), page=0, type='tableCell'), '0-6': Grounding(box=GroundingBox(bottom=0.4254231070089265, left=0.09293526580336334, right=0.5225989691308115, top=0.37704173514721706), page=0, type='tableCell'), '0-7': Grounding(box=GroundingBox(bottom=0.4254231070089265, left=0.5225989691308115, right=0.677762531442152, top=0.37704173514721706), page=0, type='tableCell'), '0-8': Grounding(box=GroundingBox(bottom=0.4254231070089265, left=0.677762531442152, right=0.8167628442744661, top=0.37704173514721706), page=0, type='tableCell'), '0-9': Grounding(box=GroundingBox(bottom=0.4254231070089265, left=0.8167628442744661, right=0.9046470248323182, top=0.37704173514721706), page=0, type='tableCell'), '0-a': Grounding(box=GroundingBox(bottom=0.45555653915953975, left=0.09293526580336334, right=0.5225989691308115, top=0.4254231070089265), page=0, type='tableCell'), '0-b': Grounding(box=GroundingBox(bottom=0.45555653915953975, left=0.5225989691308115, right=0.677762531442152, top=0.4254231070089265), page=0, type='tableCell'), '0-c': Grounding(box=GroundingBox(bottom=0.45555653915953975, left=0.677762531442152, right=0.8167628442744661, top=0.4254231070089265), page=0, type='tableCell'), '0-d': Grounding(box=GroundingBox(bottom=0.45555653915953975, left=0.8167628442744661, right=0.9046470248323182, top=0.4254231070089265), page=0, type='tableCell'), '0-e': Grounding(box=GroundingBox(bottom=0.4903378763941735, left=0.09293526580336334, right=0.5225989691308115, top=0.45555653915953975), page=0, type='tableCell'), '0-f': Grounding(box=GroundingBox(bottom=0.4903378763941735, left=0.5225989691308115, right=0.677762531442152, top=0.45555653915953975), page=0, type='tableCell'), '0-g': Grounding(box=GroundingBox(bottom=0.4903378763941735, left=0.677762531442152, right=0.8167628442744661, top=0.45555653915953975), page=0, type='tableCell'), '0-h': Grounding(box=GroundingBox(bottom=0.4903378763941735, left=0.8167628442744661, right=0.9046470248323182, top=0.45555653915953975), page=0, type='tableCell'), '0-i': Grounding(box=GroundingBox(bottom=0.5320973059537017, left=0.09293526580336334, right=0.5225989691308115, top=0.4903378763941735), page=0, type='tableCell'), '0-j': Grounding(box=GroundingBox(bottom=0.5320973059537017, left=0.5225989691308115, right=0.9046470248323182, top=0.4903378763941735), page=0, type='tableCell'), '0-k': Grounding(box=GroundingBox(bottom=0.5320973059537017, left=0.8167628442744661, right=0.9046470248323182, top=0.4903378763941735), page=0, type='tableCell'), '2db7ef46-270c-44dc-917e-cf59c4f22443': Grounding(box=GroundingBox(bottom=0.5945142507553101, left=0.08779513835906982, right=0.5508441925048828, top=0.5478050708770752), page=0, type='chunkText'), '884a1089-d0f4-4ee4-bae7-1b430c0a95c5': Grounding(box=GroundingBox(bottom=0.6606581807136536, left=0.08871494233608246, right=0.5692809820175171, top=0.6159620881080627), page=0, type='chunkText'), 'cb8dea1d-59d1-4c1c-b7f6-7c797d8038ee': Grounding(box=GroundingBox(bottom=0.7406542897224426, left=0.08950304985046387, right=0.7812685966491699, top=0.6689214110374451), page=0, type='chunkText'), 'cb91c897-a682-4639-83ca-f2a755a8f263': Grounding(box=GroundingBox(bottom=0.8998996019363403, left=0.08868715167045593, right=0.6722677946090698, top=0.7489556074142456), page=0, type='chunkText')}),\n",
       " ExtractResponse(extraction={'invoice_info': {'invoice_date_raw': 'May 26, 2021', 'invoice_date': '2021-05-26', 'invoice_number': 'FCL233308', 'order_date': None, 'po_number': None, 'status': 'PAID'}, 'customer_info': {'sold_to_name': 'Leo Charles Vincent', 'sold_to_address': 'abaxystech\\n1061 Midvale Ave\\nMorrsiville, North Carolina 27560\\nUnited States', 'customer_email': None}, 'company_info': {'supplier_name': 'Freshworks Inc.', 'supplier_address': '2950 S. Delaware St,\\nSuite 201, San Mateo, CA 94403,\\nU.S.A.', 'representative': None, 'email': 'billing@freshworks.com', 'phone': '+1 (866) 832 3090', 'gstin': None, 'pan': None}, 'order_details': {'payment_terms': 'Due Upon Receipt', 'ship_via': None, 'ship_date': None, 'tracking_number': None}, 'totals_summary': {'currency': 'USD', 'total_due_raw': '$0.00', 'total_due': 0, 'subtotal': 10, 'tax': None, 'shipping': None, 'handling_fee': None}, 'line_items': [{'line_number': None, 'sku': None, 'description': 'Freshcaller Phone Credits', 'quantity': 10, 'unit_price': 1, 'price': None, 'amount': 10, 'total': None}]}, extraction_metadata={'invoice_info': {'invoice_date_raw': {'value': 'May 26, 2021', 'references': ['c3068653-57d0-4361-9464-760eaa962d8c']}, 'invoice_date': {'value': '2021-05-26', 'references': ['c3068653-57d0-4361-9464-760eaa962d8c']}, 'invoice_number': {'value': 'FCL233308', 'references': ['c3068653-57d0-4361-9464-760eaa962d8c']}, 'order_date': {'value': None, 'references': []}, 'po_number': {'value': None, 'references': []}, 'status': {'value': 'PAID', 'references': ['c3068653-57d0-4361-9464-760eaa962d8c']}}, 'customer_info': {'sold_to_name': {'value': 'Leo Charles Vincent', 'references': ['0552a993-036a-477d-b4a2-83c6ab6fbcd1']}, 'sold_to_address': {'value': 'abaxystech\\n1061 Midvale Ave\\nMorrsiville, North Carolina 27560\\nUnited States', 'references': ['0552a993-036a-477d-b4a2-83c6ab6fbcd1']}, 'customer_email': {'value': None, 'references': []}}, 'company_info': {'supplier_name': {'value': 'Freshworks Inc.', 'references': ['2315934d-7178-445e-8557-45fa2008605a']}, 'supplier_address': {'value': '2950 S. Delaware St,\\nSuite 201, San Mateo, CA 94403,\\nU.S.A.', 'references': ['2315934d-7178-445e-8557-45fa2008605a']}, 'representative': {'value': None, 'references': []}, 'email': {'value': 'billing@freshworks.com', 'references': ['cb91c897-a682-4639-83ca-f2a755a8f263']}, 'phone': {'value': '+1 (866) 832 3090', 'references': ['2315934d-7178-445e-8557-45fa2008605a']}, 'gstin': {'value': None, 'references': []}, 'pan': {'value': None, 'references': []}}, 'order_details': {'payment_terms': {'value': 'Due Upon Receipt', 'references': ['c3068653-57d0-4361-9464-760eaa962d8c']}, 'ship_via': {'value': None, 'references': []}, 'ship_date': {'value': None, 'references': []}, 'tracking_number': {'value': None, 'references': []}}, 'totals_summary': {'currency': {'value': 'USD', 'references': ['c3068653-57d0-4361-9464-760eaa962d8c', '0-5', '0-9', '0-k']}, 'total_due_raw': {'value': '$0.00', 'references': ['0-k']}, 'total_due': {'value': 0, 'references': ['0-k']}, 'subtotal': {'value': 10, 'references': ['0-d']}, 'tax': {'value': None, 'references': []}, 'shipping': {'value': None, 'references': []}, 'handling_fee': {'value': None, 'references': []}}, 'line_items': [{'line_number': {'value': None, 'references': []}, 'sku': {'value': None, 'references': []}, 'description': {'value': 'Freshcaller Phone Credits', 'references': ['0-6']}, 'quantity': {'value': 10, 'references': ['0-7']}, 'unit_price': {'value': 1, 'references': ['0-8']}, 'price': {'value': None, 'references': []}, 'amount': {'value': 10, 'references': ['0-9']}, 'total': {'value': None, 'references': []}}]}, metadata=Metadata(credit_usage=1.6, duration_ms=4894, filename='upload', job_id='spv11fz91ep8b5ro20870908l', org_id='u3z0u1hn4acl', version='extract-20250930')))"
      ]
     },
     "execution_count": 18,
     "metadata": {},
     "output_type": "execute_result"
    }
   ],
   "source": [
    "# Send a single invoice for parsing, save output, send for extrcation, save output\n",
    "# Function found in utilities.py\n",
    "single_result_full_pipe = parse_extract_save(file_paths[2], client, InvoiceExtractionSchema, output_dir= results_folder)\n",
    "single_result_full_pipe"
   ]
  },
  {
   "cell_type": "markdown",
   "id": "364c0f06",
   "metadata": {},
   "source": [
    "## 🧩 Parallel ADE Parsing with Progress Tracking\n",
    "\n",
    "This section performs **parallel document parsing** using the LandingAI Agentic Document Extraction (ADE) client.  \n",
    "It scans the input directory for all `.pdf`, `.png`, `.jpg`, and `.jpeg` files, sends each file to the ADE API,  \n",
    "and saves the extracted results to the specified output folder.\n",
    "\n",
    "Key features:\n",
    "- ⚡ **Parallel processing** with `ThreadPoolExecutor` to speed up large batches  \n",
    "- 📊 **Real-time progress bar** using `tqdm` to visualize parsing progress  \n",
    "- 💾 **Automatic result saving** via `save_parse_results()`  \n",
    "- 🧱 **Robust handling** — skips over failed files gracefully  \n",
    "- 🧠 **Results aggregation** — all successful `ParseResponse` objects are stored in `results_summary`\n",
    "\n",
    "After execution, you'll see:\n",
    "- A live progress bar showing parsing completion\n",
    "- Status messages for each document\n",
    "- A summary of how many documents were successfully parsed and saved"
   ]
  },
  {
   "cell_type": "code",
   "execution_count": 19,
   "id": "495f821b",
   "metadata": {},
   "outputs": [
    {
     "name": "stdout",
     "output_type": "stream",
     "text": [
      "Found 27 documents to parse and extract.\n"
     ]
    },
    {
     "name": "stderr",
     "output_type": "stream",
     "text": [
      "Processing documents:   0%|          | 0/27 [00:00<?, ?it/s]"
     ]
    },
    {
     "name": "stdout",
     "output_type": "stream",
     "text": [
      "Parse results saved to: results_folder/parse_invoice_9.json\n",
      "Parse results saved to: results_folder/parse_invoice_12.json\n",
      "Parse results saved to: results_folder/parse_invoice_16.json\n",
      "Parse results saved to: results_folder/parse_invoice_14.json\n",
      "Parse results saved to: results_folder/parse_invoice_8.json\n",
      "Parse results saved to: results_folder/parse_invoice_17.json\n",
      "Parse results saved to: results_folder/parse_invoice_11.json\n",
      "Parse results saved to: results_folder/parse_invoice_13.json\n",
      "Parse results saved to: results_folder/parse_invoice_15.json\n",
      "Extract results saved to: results_folder/extract_invoice_9.json\n",
      "Parse results saved to: results_folder/parse_invoice_10.json\n"
     ]
    },
    {
     "name": "stderr",
     "output_type": "stream",
     "text": [
      "Processing documents:   4%|▎         | 1/27 [00:13<05:47, 13.36s/it]"
     ]
    },
    {
     "name": "stdout",
     "output_type": "stream",
     "text": [
      "Extract results saved to: results_folder/extract_invoice_17.json\n"
     ]
    },
    {
     "name": "stderr",
     "output_type": "stream",
     "text": [
      "Processing documents:   7%|▋         | 2/27 [00:14<02:37,  6.30s/it]"
     ]
    },
    {
     "name": "stdout",
     "output_type": "stream",
     "text": [
      "Extract results saved to: results_folder/extract_invoice_8.json\n"
     ]
    },
    {
     "name": "stderr",
     "output_type": "stream",
     "text": [
      "Processing documents:  11%|█         | 3/27 [00:17<01:52,  4.67s/it]"
     ]
    },
    {
     "name": "stdout",
     "output_type": "stream",
     "text": [
      "Extract results saved to: results_folder/extract_invoice_16.json\n"
     ]
    },
    {
     "name": "stderr",
     "output_type": "stream",
     "text": [
      "Processing documents:  15%|█▍        | 4/27 [00:18<01:13,  3.20s/it]"
     ]
    },
    {
     "name": "stdout",
     "output_type": "stream",
     "text": [
      "Extract results saved to: results_folder/extract_invoice_11.json\n"
     ]
    },
    {
     "name": "stderr",
     "output_type": "stream",
     "text": [
      "Processing documents:  19%|█▊        | 5/27 [00:18<00:47,  2.16s/it]"
     ]
    },
    {
     "name": "stdout",
     "output_type": "stream",
     "text": [
      "Parse results saved to: results_folder/parse_invoice_3.json\n",
      "Parse results saved to: results_folder/parse_invoice_27.json\n",
      "Extract results saved to: results_folder/extract_invoice_13.json\n",
      "Extract results saved to: results_folder/extract_invoice_14.json\n"
     ]
    },
    {
     "name": "stderr",
     "output_type": "stream",
     "text": [
      "Processing documents:  26%|██▌       | 7/27 [00:22<00:39,  1.95s/it]"
     ]
    },
    {
     "name": "stdout",
     "output_type": "stream",
     "text": [
      "Extract results saved to: results_folder/extract_invoice_12.json\n"
     ]
    },
    {
     "name": "stderr",
     "output_type": "stream",
     "text": [
      "Processing documents:  30%|██▉       | 8/27 [00:23<00:28,  1.48s/it]"
     ]
    },
    {
     "name": "stdout",
     "output_type": "stream",
     "text": [
      "Extract results saved to: results_folder/extract_invoice_10.json\n"
     ]
    },
    {
     "name": "stderr",
     "output_type": "stream",
     "text": [
      "Processing documents:  33%|███▎      | 9/27 [00:23<00:19,  1.10s/it]"
     ]
    },
    {
     "name": "stdout",
     "output_type": "stream",
     "text": [
      "Parse results saved to: results_folder/parse_invoice_2.json\n",
      "Parse results saved to: results_folder/parse_invoice_26.json\n",
      "Parse results saved to: results_folder/parse_invoice_18.json\n",
      "Parse results saved to: results_folder/parse_invoice_19.json\n",
      "Extract results saved to: results_folder/extract_invoice_27.json\n"
     ]
    },
    {
     "name": "stderr",
     "output_type": "stream",
     "text": [
      "Processing documents:  37%|███▋      | 10/27 [00:31<00:53,  3.14s/it]"
     ]
    },
    {
     "name": "stdout",
     "output_type": "stream",
     "text": [
      "Extract results saved to: results_folder/extract_invoice_3.json\n"
     ]
    },
    {
     "name": "stderr",
     "output_type": "stream",
     "text": [
      "Processing documents:  41%|████      | 11/27 [00:31<00:36,  2.26s/it]"
     ]
    },
    {
     "name": "stdout",
     "output_type": "stream",
     "text": [
      "Parse results saved to: results_folder/parse_invoice_1.json\n",
      "Extract results saved to: results_folder/extract_invoice_18.json\n"
     ]
    },
    {
     "name": "stderr",
     "output_type": "stream",
     "text": [
      "Processing documents:  44%|████▍     | 12/27 [00:33<00:31,  2.10s/it]"
     ]
    },
    {
     "name": "stdout",
     "output_type": "stream",
     "text": [
      "Extract results saved to: results_folder/extract_invoice_26.json\n"
     ]
    },
    {
     "name": "stderr",
     "output_type": "stream",
     "text": [
      "Processing documents:  48%|████▊     | 13/27 [00:34<00:23,  1.70s/it]"
     ]
    },
    {
     "name": "stdout",
     "output_type": "stream",
     "text": [
      "Extract results saved to: results_folder/extract_invoice_2.json\n"
     ]
    },
    {
     "name": "stderr",
     "output_type": "stream",
     "text": [
      "Processing documents:  52%|█████▏    | 14/27 [00:35<00:20,  1.55s/it]"
     ]
    },
    {
     "name": "stdout",
     "output_type": "stream",
     "text": [
      "Parse results saved to: results_folder/parse_invoice_24.json\n",
      "Parse results saved to: results_folder/parse_invoice_21.json\n",
      "Extract results saved to: results_folder/extract_invoice_19.json\n"
     ]
    },
    {
     "name": "stderr",
     "output_type": "stream",
     "text": [
      "Processing documents:  56%|█████▌    | 15/27 [00:39<00:27,  2.26s/it]"
     ]
    },
    {
     "name": "stdout",
     "output_type": "stream",
     "text": [
      "Extract results saved to: results_folder/extract_invoice_1.json\n"
     ]
    },
    {
     "name": "stderr",
     "output_type": "stream",
     "text": [
      "Processing documents:  59%|█████▉    | 16/27 [00:40<00:20,  1.84s/it]"
     ]
    },
    {
     "name": "stdout",
     "output_type": "stream",
     "text": [
      "Parse results saved to: results_folder/parse_invoice_20.json\n",
      "Parse results saved to: results_folder/parse_invoice_5.json\n",
      "Parse results saved to: results_folder/parse_invoice_4.json\n",
      "Parse results saved to: results_folder/parse_invoice_25.json\n",
      "Extract results saved to: results_folder/extract_invoice_15.json\n"
     ]
    },
    {
     "name": "stderr",
     "output_type": "stream",
     "text": [
      "Processing documents:  63%|██████▎   | 17/27 [00:43<00:22,  2.29s/it]"
     ]
    },
    {
     "name": "stdout",
     "output_type": "stream",
     "text": [
      "Extract results saved to: results_folder/extract_invoice_21.json\n"
     ]
    },
    {
     "name": "stderr",
     "output_type": "stream",
     "text": [
      "Processing documents:  67%|██████▋   | 18/27 [00:45<00:18,  2.09s/it]"
     ]
    },
    {
     "name": "stdout",
     "output_type": "stream",
     "text": [
      "Extract results saved to: results_folder/extract_invoice_24.json\n",
      "Parse results saved to: results_folder/parse_invoice_22.json\n"
     ]
    },
    {
     "name": "stderr",
     "output_type": "stream",
     "text": [
      "Processing documents:  70%|███████   | 19/27 [00:45<00:12,  1.59s/it]"
     ]
    },
    {
     "name": "stdout",
     "output_type": "stream",
     "text": [
      "Extract results saved to: results_folder/extract_invoice_5.json\n",
      "Parse results saved to: results_folder/parse_invoice_6.json\n"
     ]
    },
    {
     "name": "stderr",
     "output_type": "stream",
     "text": [
      "Processing documents:  74%|███████▍  | 20/27 [00:49<00:15,  2.20s/it]"
     ]
    },
    {
     "name": "stdout",
     "output_type": "stream",
     "text": [
      "Extract results saved to: results_folder/extract_invoice_20.json\n"
     ]
    },
    {
     "name": "stderr",
     "output_type": "stream",
     "text": [
      "Processing documents:  78%|███████▊  | 21/27 [00:49<00:10,  1.77s/it]"
     ]
    },
    {
     "name": "stdout",
     "output_type": "stream",
     "text": [
      "Parse results saved to: results_folder/parse_invoice_23.json\n",
      "Parse results saved to: results_folder/parse_invoice_7.json\n",
      "Extract results saved to: results_folder/extract_invoice_22.json\n"
     ]
    },
    {
     "name": "stderr",
     "output_type": "stream",
     "text": [
      "Processing documents:  81%|████████▏ | 22/27 [00:53<00:10,  2.17s/it]"
     ]
    },
    {
     "name": "stdout",
     "output_type": "stream",
     "text": [
      "Extract results saved to: results_folder/extract_invoice_4.json\n"
     ]
    },
    {
     "name": "stderr",
     "output_type": "stream",
     "text": [
      "Processing documents:  85%|████████▌ | 23/27 [00:54<00:07,  1.88s/it]"
     ]
    },
    {
     "name": "stdout",
     "output_type": "stream",
     "text": [
      "Extract results saved to: results_folder/extract_invoice_6.json\n"
     ]
    },
    {
     "name": "stderr",
     "output_type": "stream",
     "text": [
      "Processing documents:  89%|████████▉ | 24/27 [00:56<00:06,  2.14s/it]"
     ]
    },
    {
     "name": "stdout",
     "output_type": "stream",
     "text": [
      "Extract results saved to: results_folder/extract_invoice_25.json\n"
     ]
    },
    {
     "name": "stderr",
     "output_type": "stream",
     "text": [
      "Processing documents:  93%|█████████▎| 25/27 [00:58<00:03,  1.87s/it]"
     ]
    },
    {
     "name": "stdout",
     "output_type": "stream",
     "text": [
      "Extract results saved to: results_folder/extract_invoice_7.json\n"
     ]
    },
    {
     "name": "stderr",
     "output_type": "stream",
     "text": [
      "Processing documents:  96%|█████████▋| 26/27 [01:01<00:02,  2.21s/it]"
     ]
    },
    {
     "name": "stdout",
     "output_type": "stream",
     "text": [
      "Extract results saved to: results_folder/extract_invoice_23.json\n"
     ]
    },
    {
     "name": "stderr",
     "output_type": "stream",
     "text": [
      "Processing documents: 100%|██████████| 27/27 [01:12<00:00,  2.70s/it]"
     ]
    },
    {
     "name": "stdout",
     "output_type": "stream",
     "text": [
      "\n",
      "✅ Completed 27/27 documents successfully.\n",
      "📊 Each document has been parsed AND extracted with structured data.\n"
     ]
    },
    {
     "name": "stderr",
     "output_type": "stream",
     "text": [
      "\n"
     ]
    }
   ],
   "source": [
    "from pathlib import Path\n",
    "from landingai_ade import LandingAIADE\n",
    "from concurrent.futures import ThreadPoolExecutor, as_completed\n",
    "import time\n",
    "from tqdm import tqdm\n",
    "from utilities import parse_extract_save\n",
    "from invoice_schema import InvoiceExtractionSchema\n",
    "\n",
    "# --- CONFIG ---\n",
    "input_dir = Path(\"input_folder\")\n",
    "output_dir = Path(\"results_folder\")\n",
    "output_dir.mkdir(parents=True, exist_ok=True)\n",
    "\n",
    "max_workers = 10  # adjust for your system and ADE rate limits\n",
    "pause_between_requests = 0.2  # small delay to avoid hitting rate limits\n",
    "\n",
    "# --- CLIENT ---\n",
    "client = LandingAIADE()\n",
    "\n",
    "# --- FILE LIST ---\n",
    "file_paths = [p for p in input_dir.glob(\"*.*\") if p.suffix.lower() in (\".pdf\", \".png\", \".jpg\", \".jpeg\")]\n",
    "print(f\"Found {len(file_paths)} documents to parse and extract.\")\n",
    "\n",
    "# --- WORKER FUNCTION ---\n",
    "def process_file(path: Path):\n",
    "    try:\n",
    "        # Parse AND extract using the utility function\n",
    "        parse_result, extract_result = parse_extract_save(\n",
    "            path, \n",
    "            client, \n",
    "            InvoiceExtractionSchema, \n",
    "            output_dir=output_dir\n",
    "        )\n",
    "        time.sleep(pause_between_requests)\n",
    "        return (parse_result, extract_result)  # 👈 return both results as tuple\n",
    "    except Exception as e:\n",
    "        print(f\"❌ {path.name} failed: {e}\")\n",
    "        return None\n",
    "\n",
    "# --- PARALLEL EXECUTION WITH PROGRESS BAR ---\n",
    "results_summary = []\n",
    "with ThreadPoolExecutor(max_workers=max_workers) as executor:\n",
    "    futures = [executor.submit(process_file, p) for p in file_paths]\n",
    "    # tqdm progress bar updates as futures complete\n",
    "    for future in tqdm(as_completed(futures), total=len(futures), desc=\"Processing documents\"):\n",
    "        result = future.result()\n",
    "        if result is not None:\n",
    "            results_summary.append(result)\n",
    "\n",
    "# --- SUMMARY ---\n",
    "success_count = len([r for r in results_summary if r is not None])\n",
    "print(f\"\\n✅ Completed {success_count}/{len(file_paths)} documents successfully.\")\n",
    "print(f\"📊 Each document has been parsed AND extracted with structured data.\")"
   ]
  },
  {
   "cell_type": "code",
   "execution_count": 20,
   "id": "49e93b18",
   "metadata": {},
   "outputs": [
    {
     "data": {
      "text/plain": [
       "[(ParseResponse(chunks=[Chunk(id='91a9fca9-fe21-4cbb-9564-f42f8d5c5d97', grounding=ChunkGrounding(box=ChunkGroundingBox(bottom=0.096154123544693, left=0.08743181824684143, right=0.44194576144218445, top=0.033484891057014465), page=0), markdown=\"<a id='91a9fca9-fe21-4cbb-9564-f42f8d5c5d97'></a>\\n\\n<::logo: Freshworks\\nfreshworks\\nA stylized leaf-like symbol composed of multiple facets in shades of gray.::>\", type='logo'), Chunk(id='aa7a2b51-6d87-48d0-a809-bb6a948a707f', grounding=ChunkGrounding(box=ChunkGroundingBox(bottom=0.21089597046375275, left=0.08651575446128845, right=0.4332708418369293, top=0.10671643912792206), page=0), markdown=\"<a id='aa7a2b51-6d87-48d0-a809-bb6a948a707f'></a>\\n\\nFreshworks Inc., (formerly known as Freshdesk Inc.)\\n2950 S. Delaware St,\\nSuite 201, San Mateo, CA 94403,\\nU.S.A.\\nPhone: +1 (866) 832 3090\\nTax ID: 33-1218825\\nTax Reg #: 33-1218825\", type='text'), Chunk(id='69b3493a-bbb7-4e13-8923-968322bbee95', grounding=ChunkGrounding(box=ChunkGroundingBox(bottom=0.19167819619178772, left=0.5961894392967224, right=0.8421856760978699, top=0.03922150284051895), page=0), markdown=\"<a id='69b3493a-bbb7-4e13-8923-968322bbee95'></a>\\n\\nINVOICE\\n\\nInvoice #: FCL233308\\nInvoice Date: May 26, 2021\\nInvoice Amount: $10.00 (USD)\\nPayment Terms: Due Upon Receipt\\nPAID\", type='text'), Chunk(id='30d86071-0659-4537-bdce-7486b4093fa4', grounding=ChunkGrounding(box=ChunkGroundingBox(bottom=0.3217448592185974, left=0.08736848086118698, right=0.3143427073955536, top=0.23484545946121216), page=0), markdown=\"<a id='30d86071-0659-4537-bdce-7486b4093fa4'></a>\\n\\nBILLED TO\\nLeo Charles Vincent\\nabaxystech\\n1061 Midvale Ave\\nMorrsiville, North Carolina 27560\\nUnited States\", type='text'), Chunk(id='8ead2ed5-e678-48a9-b6a6-b639adf25234', grounding=ChunkGrounding(box=ChunkGroundingBox(bottom=0.2687315344810486, left=0.59776771068573, right=0.8604755401611328, top=0.23522764444351196), page=0), markdown=\"<a id='8ead2ed5-e678-48a9-b6a6-b639adf25234'></a>\\n\\nSUBSCRIPTION\\nBilling Period May 26 to May 26, 2021\", type='text'), Chunk(id='e321a4b7-dbab-4c7e-b2e0-0484c659c3fb', grounding=ChunkGrounding(box=ChunkGroundingBox(bottom=0.5344086289405823, left=0.08666667342185974, right=0.9102663993835449, top=0.3424803912639618), page=0), markdown='<a id=\\'e321a4b7-dbab-4c7e-b2e0-0484c659c3fb\\'></a>\\n\\n<table id=\"0-1\">\\n<tr><td id=\"0-2\">DESCRIPTION</td><td id=\"0-3\">UNITS</td><td id=\"0-4\">UNIT PRICE</td><td id=\"0-5\">AMOUNT (USD)</td></tr>\\n<tr><td id=\"0-6\">Freshcaller Phone Credits</td><td id=\"0-7\">10</td><td id=\"0-8\">$1.00</td><td id=\"0-9\">$10.00</td></tr>\\n<tr><td id=\"0-a\"></td><td id=\"0-b\"></td><td id=\"0-c\">Total</td><td id=\"0-d\">$10.00</td></tr>\\n<tr><td id=\"0-e\"></td><td id=\"0-f\"></td><td id=\"0-g\">Payments</td><td id=\"0-h\">($10.00)</td></tr>\\n<tr><td id=\"0-i\"></td><td id=\"0-j\" colspan=\"2\">Amount Due (USD)</td><td id=\"0-k\">$0.00</td></tr>\\n</table>', type='table'), Chunk(id='0c6a415e-16ec-4cd3-9fe6-8e3584eef8dd', grounding=ChunkGrounding(box=ChunkGroundingBox(bottom=0.5945142507553101, left=0.08779513835906982, right=0.5508441925048828, top=0.5478050708770752), page=0), markdown=\"<a id='0c6a415e-16ec-4cd3-9fe6-8e3584eef8dd'></a>\\n\\nPAYMENTS\\n\\n**$10.00** was paid on 26 May, 2021 11:49 PDT by Visa card ending 2136.\", type='text'), Chunk(id='bfe94130-96cf-4d5d-89d2-96c292be8bd7', grounding=ChunkGrounding(box=ChunkGroundingBox(bottom=0.6606581807136536, left=0.08871494233608246, right=0.5692809820175171, top=0.6159620881080627), page=0), markdown=\"<a id='bfe94130-96cf-4d5d-89d2-96c292be8bd7'></a>\\n\\nNOTES\\n---\\nPlease always include your invoice number when making any payment!\", type='text'), Chunk(id='58fc33a6-bbf7-41b6-91fc-55262dcd469c', grounding=ChunkGrounding(box=ChunkGroundingBox(bottom=0.7406542897224426, left=0.08950304985046387, right=0.7812685966491699, top=0.6689214110374451), page=0), markdown=\"<a id='58fc33a6-bbf7-41b6-91fc-55262dcd469c'></a>\\n\\n**Reference to our Bank details:**\\n\\nClick the appropriate currency below to view our respective Bank account details for payment processing.\\n\\nAUD EUR GBP USD\", type='text'), Chunk(id='47858450-b707-41d4-a945-485f328f9b6b', grounding=ChunkGrounding(box=ChunkGroundingBox(bottom=0.8998996019363403, left=0.08868715167045593, right=0.6722677946090698, top=0.7489556074142456), page=0), markdown=\"<a id='47858450-b707-41d4-a945-485f328f9b6b'></a>\\n\\n**For Check Payments (US Customers Only)**\\n\\nE-checks: Freshworks Inc, Dept LA 24888, Pasadena CA 91185-4888.\\n\\nPhysical checks: Freshworks Inc., 24888, 14005 Live Oak Ave, Irwindale CA 91706-1300.\\n\\n**Other Payment Methods**: PayPal ID: paypal@freshdesk.com (USD Only)\\n\\nFor questions/concerning regarding this invoice, please contact billing@freshworks.com\\n\\nClick this link to download the W9 certificate\", type='text')], markdown='<a id=\\'91a9fca9-fe21-4cbb-9564-f42f8d5c5d97\\'></a>\\n\\n<::logo: Freshworks\\nfreshworks\\nA stylized leaf-like symbol composed of multiple facets in shades of gray.::>\\n\\n<a id=\\'aa7a2b51-6d87-48d0-a809-bb6a948a707f\\'></a>\\n\\nFreshworks Inc., (formerly known as Freshdesk Inc.)\\n2950 S. Delaware St,\\nSuite 201, San Mateo, CA 94403,\\nU.S.A.\\nPhone: +1 (866) 832 3090\\nTax ID: 33-1218825\\nTax Reg #: 33-1218825\\n\\n<a id=\\'69b3493a-bbb7-4e13-8923-968322bbee95\\'></a>\\n\\nINVOICE\\n\\nInvoice #: FCL233308\\nInvoice Date: May 26, 2021\\nInvoice Amount: $10.00 (USD)\\nPayment Terms: Due Upon Receipt\\nPAID\\n\\n<a id=\\'30d86071-0659-4537-bdce-7486b4093fa4\\'></a>\\n\\nBILLED TO\\nLeo Charles Vincent\\nabaxystech\\n1061 Midvale Ave\\nMorrsiville, North Carolina 27560\\nUnited States\\n\\n<a id=\\'8ead2ed5-e678-48a9-b6a6-b639adf25234\\'></a>\\n\\nSUBSCRIPTION\\nBilling Period May 26 to May 26, 2021\\n\\n<a id=\\'e321a4b7-dbab-4c7e-b2e0-0484c659c3fb\\'></a>\\n\\n<table id=\"0-1\">\\n<tr><td id=\"0-2\">DESCRIPTION</td><td id=\"0-3\">UNITS</td><td id=\"0-4\">UNIT PRICE</td><td id=\"0-5\">AMOUNT (USD)</td></tr>\\n<tr><td id=\"0-6\">Freshcaller Phone Credits</td><td id=\"0-7\">10</td><td id=\"0-8\">$1.00</td><td id=\"0-9\">$10.00</td></tr>\\n<tr><td id=\"0-a\"></td><td id=\"0-b\"></td><td id=\"0-c\">Total</td><td id=\"0-d\">$10.00</td></tr>\\n<tr><td id=\"0-e\"></td><td id=\"0-f\"></td><td id=\"0-g\">Payments</td><td id=\"0-h\">($10.00)</td></tr>\\n<tr><td id=\"0-i\"></td><td id=\"0-j\" colspan=\"2\">Amount Due (USD)</td><td id=\"0-k\">$0.00</td></tr>\\n</table>\\n\\n<a id=\\'0c6a415e-16ec-4cd3-9fe6-8e3584eef8dd\\'></a>\\n\\nPAYMENTS\\n\\n**$10.00** was paid on 26 May, 2021 11:49 PDT by Visa card ending 2136.\\n\\n<a id=\\'bfe94130-96cf-4d5d-89d2-96c292be8bd7\\'></a>\\n\\nNOTES\\n---\\nPlease always include your invoice number when making any payment!\\n\\n<a id=\\'58fc33a6-bbf7-41b6-91fc-55262dcd469c\\'></a>\\n\\n**Reference to our Bank details:**\\n\\nClick the appropriate currency below to view our respective Bank account details for payment processing.\\n\\nAUD EUR GBP USD\\n\\n<a id=\\'47858450-b707-41d4-a945-485f328f9b6b\\'></a>\\n\\n**For Check Payments (US Customers Only)**\\n\\nE-checks: Freshworks Inc, Dept LA 24888, Pasadena CA 91185-4888.\\n\\nPhysical checks: Freshworks Inc., 24888, 14005 Live Oak Ave, Irwindale CA 91706-1300.\\n\\n**Other Payment Methods**: PayPal ID: paypal@freshdesk.com (USD Only)\\n\\nFor questions/concerning regarding this invoice, please contact billing@freshworks.com\\n\\nClick this link to download the W9 certificate', metadata=Metadata(credit_usage=3.0, duration_ms=6178, filename='invoice_9.pdf', job_id='yvg4ypq8z34carbav4cmme7fd', org_id='u3z0u1hn4acl', page_count=1, version='dpt-2-20250919'), splits=[Split(chunks=['91a9fca9-fe21-4cbb-9564-f42f8d5c5d97', 'aa7a2b51-6d87-48d0-a809-bb6a948a707f', '69b3493a-bbb7-4e13-8923-968322bbee95', '30d86071-0659-4537-bdce-7486b4093fa4', '8ead2ed5-e678-48a9-b6a6-b639adf25234', 'e321a4b7-dbab-4c7e-b2e0-0484c659c3fb', '0c6a415e-16ec-4cd3-9fe6-8e3584eef8dd', 'bfe94130-96cf-4d5d-89d2-96c292be8bd7', '58fc33a6-bbf7-41b6-91fc-55262dcd469c', '47858450-b707-41d4-a945-485f328f9b6b'], class_='full', identifier='full', markdown='<a id=\\'91a9fca9-fe21-4cbb-9564-f42f8d5c5d97\\'></a>\\n\\n<::logo: Freshworks\\nfreshworks\\nA stylized leaf-like symbol composed of multiple facets in shades of gray.::>\\n\\n<a id=\\'aa7a2b51-6d87-48d0-a809-bb6a948a707f\\'></a>\\n\\nFreshworks Inc., (formerly known as Freshdesk Inc.)\\n2950 S. Delaware St,\\nSuite 201, San Mateo, CA 94403,\\nU.S.A.\\nPhone: +1 (866) 832 3090\\nTax ID: 33-1218825\\nTax Reg #: 33-1218825\\n\\n<a id=\\'69b3493a-bbb7-4e13-8923-968322bbee95\\'></a>\\n\\nINVOICE\\n\\nInvoice #: FCL233308\\nInvoice Date: May 26, 2021\\nInvoice Amount: $10.00 (USD)\\nPayment Terms: Due Upon Receipt\\nPAID\\n\\n<a id=\\'30d86071-0659-4537-bdce-7486b4093fa4\\'></a>\\n\\nBILLED TO\\nLeo Charles Vincent\\nabaxystech\\n1061 Midvale Ave\\nMorrsiville, North Carolina 27560\\nUnited States\\n\\n<a id=\\'8ead2ed5-e678-48a9-b6a6-b639adf25234\\'></a>\\n\\nSUBSCRIPTION\\nBilling Period May 26 to May 26, 2021\\n\\n<a id=\\'e321a4b7-dbab-4c7e-b2e0-0484c659c3fb\\'></a>\\n\\n<table id=\"0-1\">\\n<tr><td id=\"0-2\">DESCRIPTION</td><td id=\"0-3\">UNITS</td><td id=\"0-4\">UNIT PRICE</td><td id=\"0-5\">AMOUNT (USD)</td></tr>\\n<tr><td id=\"0-6\">Freshcaller Phone Credits</td><td id=\"0-7\">10</td><td id=\"0-8\">$1.00</td><td id=\"0-9\">$10.00</td></tr>\\n<tr><td id=\"0-a\"></td><td id=\"0-b\"></td><td id=\"0-c\">Total</td><td id=\"0-d\">$10.00</td></tr>\\n<tr><td id=\"0-e\"></td><td id=\"0-f\"></td><td id=\"0-g\">Payments</td><td id=\"0-h\">($10.00)</td></tr>\\n<tr><td id=\"0-i\"></td><td id=\"0-j\" colspan=\"2\">Amount Due (USD)</td><td id=\"0-k\">$0.00</td></tr>\\n</table>\\n\\n<a id=\\'0c6a415e-16ec-4cd3-9fe6-8e3584eef8dd\\'></a>\\n\\nPAYMENTS\\n\\n**$10.00** was paid on 26 May, 2021 11:49 PDT by Visa card ending 2136.\\n\\n<a id=\\'bfe94130-96cf-4d5d-89d2-96c292be8bd7\\'></a>\\n\\nNOTES\\n---\\nPlease always include your invoice number when making any payment!\\n\\n<a id=\\'58fc33a6-bbf7-41b6-91fc-55262dcd469c\\'></a>\\n\\n**Reference to our Bank details:**\\n\\nClick the appropriate currency below to view our respective Bank account details for payment processing.\\n\\nAUD EUR GBP USD\\n\\n<a id=\\'47858450-b707-41d4-a945-485f328f9b6b\\'></a>\\n\\n**For Check Payments (US Customers Only)**\\n\\nE-checks: Freshworks Inc, Dept LA 24888, Pasadena CA 91185-4888.\\n\\nPhysical checks: Freshworks Inc., 24888, 14005 Live Oak Ave, Irwindale CA 91706-1300.\\n\\n**Other Payment Methods**: PayPal ID: paypal@freshdesk.com (USD Only)\\n\\nFor questions/concerning regarding this invoice, please contact billing@freshworks.com\\n\\nClick this link to download the W9 certificate', pages=[0], class='full')], grounding={'91a9fca9-fe21-4cbb-9564-f42f8d5c5d97': Grounding(box=GroundingBox(bottom=0.096154123544693, left=0.08743181824684143, right=0.44194576144218445, top=0.033484891057014465), page=0, type='chunkLogo'), 'aa7a2b51-6d87-48d0-a809-bb6a948a707f': Grounding(box=GroundingBox(bottom=0.21089597046375275, left=0.08651575446128845, right=0.4332708418369293, top=0.10671643912792206), page=0, type='chunkText'), '69b3493a-bbb7-4e13-8923-968322bbee95': Grounding(box=GroundingBox(bottom=0.19167819619178772, left=0.5961894392967224, right=0.8421856760978699, top=0.03922150284051895), page=0, type='chunkText'), '30d86071-0659-4537-bdce-7486b4093fa4': Grounding(box=GroundingBox(bottom=0.3217448592185974, left=0.08736848086118698, right=0.3143427073955536, top=0.23484545946121216), page=0, type='chunkText'), '8ead2ed5-e678-48a9-b6a6-b639adf25234': Grounding(box=GroundingBox(bottom=0.2687315344810486, left=0.59776771068573, right=0.8604755401611328, top=0.23522764444351196), page=0, type='chunkText'), 'e321a4b7-dbab-4c7e-b2e0-0484c659c3fb': Grounding(box=GroundingBox(bottom=0.5344086289405823, left=0.08666667342185974, right=0.9102663993835449, top=0.3424803912639618), page=0, type='chunkTable'), '0-1': Grounding(box=GroundingBox(bottom=0.5320973059537017, left=0.09293526580336334, right=0.904593565420365, top=0.3449258925492694), page=0, type='table'), '0-2': Grounding(box=GroundingBox(bottom=0.37704173514721706, left=0.09293526580336334, right=0.5225989691308115, top=0.3449258925492694), page=0, type='tableCell'), '0-3': Grounding(box=GroundingBox(bottom=0.37704173514721706, left=0.5225989691308115, right=0.677762531442152, top=0.3449258925492694), page=0, type='tableCell'), '0-4': Grounding(box=GroundingBox(bottom=0.37704173514721706, left=0.677762531442152, right=0.8167628442744661, top=0.3449258925492694), page=0, type='tableCell'), '0-5': Grounding(box=GroundingBox(bottom=0.37704173514721706, left=0.8167628442744661, right=0.9046470248323182, top=0.3449258925492694), page=0, type='tableCell'), '0-6': Grounding(box=GroundingBox(bottom=0.4254231070089265, left=0.09293526580336334, right=0.5225989691308115, top=0.37704173514721706), page=0, type='tableCell'), '0-7': Grounding(box=GroundingBox(bottom=0.4254231070089265, left=0.5225989691308115, right=0.677762531442152, top=0.37704173514721706), page=0, type='tableCell'), '0-8': Grounding(box=GroundingBox(bottom=0.4254231070089265, left=0.677762531442152, right=0.8167628442744661, top=0.37704173514721706), page=0, type='tableCell'), '0-9': Grounding(box=GroundingBox(bottom=0.4254231070089265, left=0.8167628442744661, right=0.9046470248323182, top=0.37704173514721706), page=0, type='tableCell'), '0-a': Grounding(box=GroundingBox(bottom=0.45555653915953975, left=0.09293526580336334, right=0.5225989691308115, top=0.4254231070089265), page=0, type='tableCell'), '0-b': Grounding(box=GroundingBox(bottom=0.45555653915953975, left=0.5225989691308115, right=0.677762531442152, top=0.4254231070089265), page=0, type='tableCell'), '0-c': Grounding(box=GroundingBox(bottom=0.45555653915953975, left=0.677762531442152, right=0.8167628442744661, top=0.4254231070089265), page=0, type='tableCell'), '0-d': Grounding(box=GroundingBox(bottom=0.45555653915953975, left=0.8167628442744661, right=0.9046470248323182, top=0.4254231070089265), page=0, type='tableCell'), '0-e': Grounding(box=GroundingBox(bottom=0.4903378763941735, left=0.09293526580336334, right=0.5225989691308115, top=0.45555653915953975), page=0, type='tableCell'), '0-f': Grounding(box=GroundingBox(bottom=0.4903378763941735, left=0.5225989691308115, right=0.677762531442152, top=0.45555653915953975), page=0, type='tableCell'), '0-g': Grounding(box=GroundingBox(bottom=0.4903378763941735, left=0.677762531442152, right=0.8167628442744661, top=0.45555653915953975), page=0, type='tableCell'), '0-h': Grounding(box=GroundingBox(bottom=0.4903378763941735, left=0.8167628442744661, right=0.9046470248323182, top=0.45555653915953975), page=0, type='tableCell'), '0-i': Grounding(box=GroundingBox(bottom=0.5320973059537017, left=0.09293526580336334, right=0.5225989691308115, top=0.4903378763941735), page=0, type='tableCell'), '0-j': Grounding(box=GroundingBox(bottom=0.5320973059537017, left=0.5225989691308115, right=0.9046470248323182, top=0.4903378763941735), page=0, type='tableCell'), '0-k': Grounding(box=GroundingBox(bottom=0.5320973059537017, left=0.8167628442744661, right=0.9046470248323182, top=0.4903378763941735), page=0, type='tableCell'), '0c6a415e-16ec-4cd3-9fe6-8e3584eef8dd': Grounding(box=GroundingBox(bottom=0.5945142507553101, left=0.08779513835906982, right=0.5508441925048828, top=0.5478050708770752), page=0, type='chunkText'), 'bfe94130-96cf-4d5d-89d2-96c292be8bd7': Grounding(box=GroundingBox(bottom=0.6606581807136536, left=0.08871494233608246, right=0.5692809820175171, top=0.6159620881080627), page=0, type='chunkText'), '58fc33a6-bbf7-41b6-91fc-55262dcd469c': Grounding(box=GroundingBox(bottom=0.7406542897224426, left=0.08950304985046387, right=0.7812685966491699, top=0.6689214110374451), page=0, type='chunkText'), '47858450-b707-41d4-a945-485f328f9b6b': Grounding(box=GroundingBox(bottom=0.8998996019363403, left=0.08868715167045593, right=0.6722677946090698, top=0.7489556074142456), page=0, type='chunkText')}),\n",
       "  ExtractResponse(extraction={'invoice_info': {'invoice_date_raw': 'May 26, 2021', 'invoice_date': '2021-05-26', 'invoice_number': 'FCL233308', 'order_date': None, 'po_number': None, 'status': 'PAID'}, 'customer_info': {'sold_to_name': 'Leo Charles Vincent', 'sold_to_address': 'abaxystech\\n1061 Midvale Ave\\nMorrsiville, North Carolina 27560\\nUnited States', 'customer_email': None}, 'company_info': {'supplier_name': 'Freshworks Inc., (formerly known as Freshdesk Inc.)', 'supplier_address': '2950 S. Delaware St,\\nSuite 201, San Mateo, CA 94403,\\nU.S.A.', 'representative': None, 'email': 'billing@freshworks.com', 'phone': '+1 (866) 832 3090', 'gstin': None, 'pan': None}, 'order_details': {'payment_terms': 'Due Upon Receipt', 'ship_via': None, 'ship_date': None, 'tracking_number': None}, 'totals_summary': {'currency': 'USD', 'total_due_raw': '$0.00', 'total_due': 0, 'subtotal': None, 'tax': None, 'shipping': None, 'handling_fee': None}, 'line_items': [{'line_number': None, 'sku': None, 'description': 'Freshcaller Phone Credits', 'quantity': 10, 'unit_price': 1, 'price': None, 'amount': 10, 'total': None}]}, extraction_metadata={'invoice_info': {'invoice_date_raw': {'value': 'May 26, 2021', 'references': ['69b3493a-bbb7-4e13-8923-968322bbee95']}, 'invoice_date': {'value': '2021-05-26', 'references': ['69b3493a-bbb7-4e13-8923-968322bbee95']}, 'invoice_number': {'value': 'FCL233308', 'references': ['69b3493a-bbb7-4e13-8923-968322bbee95']}, 'order_date': {'value': None, 'references': []}, 'po_number': {'value': None, 'references': []}, 'status': {'value': 'PAID', 'references': ['69b3493a-bbb7-4e13-8923-968322bbee95']}}, 'customer_info': {'sold_to_name': {'value': 'Leo Charles Vincent', 'references': ['30d86071-0659-4537-bdce-7486b4093fa4']}, 'sold_to_address': {'value': 'abaxystech\\n1061 Midvale Ave\\nMorrsiville, North Carolina 27560\\nUnited States', 'references': ['30d86071-0659-4537-bdce-7486b4093fa4']}, 'customer_email': {'value': None, 'references': []}}, 'company_info': {'supplier_name': {'value': 'Freshworks Inc., (formerly known as Freshdesk Inc.)', 'references': ['aa7a2b51-6d87-48d0-a809-bb6a948a707f']}, 'supplier_address': {'value': '2950 S. Delaware St,\\nSuite 201, San Mateo, CA 94403,\\nU.S.A.', 'references': ['aa7a2b51-6d87-48d0-a809-bb6a948a707f']}, 'representative': {'value': None, 'references': []}, 'email': {'value': 'billing@freshworks.com', 'references': ['47858450-b707-41d4-a945-485f328f9b6b']}, 'phone': {'value': '+1 (866) 832 3090', 'references': ['aa7a2b51-6d87-48d0-a809-bb6a948a707f']}, 'gstin': {'value': None, 'references': []}, 'pan': {'value': None, 'references': []}}, 'order_details': {'payment_terms': {'value': 'Due Upon Receipt', 'references': ['69b3493a-bbb7-4e13-8923-968322bbee95']}, 'ship_via': {'value': None, 'references': []}, 'ship_date': {'value': None, 'references': []}, 'tracking_number': {'value': None, 'references': []}}, 'totals_summary': {'currency': {'value': 'USD', 'references': ['69b3493a-bbb7-4e13-8923-968322bbee95', '0-k']}, 'total_due_raw': {'value': '$0.00', 'references': ['0-k']}, 'total_due': {'value': 0, 'references': ['0-k']}, 'subtotal': {'value': None, 'references': []}, 'tax': {'value': None, 'references': []}, 'shipping': {'value': None, 'references': []}, 'handling_fee': {'value': None, 'references': []}}, 'line_items': [{'line_number': {'value': None, 'references': []}, 'sku': {'value': None, 'references': []}, 'description': {'value': 'Freshcaller Phone Credits', 'references': ['0-6']}, 'quantity': {'value': 10, 'references': ['0-7']}, 'unit_price': {'value': 1, 'references': ['0-8']}, 'price': {'value': None, 'references': []}, 'amount': {'value': 10, 'references': ['0-9']}, 'total': {'value': None, 'references': []}}]}, metadata=Metadata(credit_usage=1.6, duration_ms=5218, filename='upload', job_id='dg1z0j4od2w0fyzrvag5zxsix', org_id='u3z0u1hn4acl', version='extract-20250930'))),\n",
       " (ParseResponse(chunks=[Chunk(id='960d63e5-ea32-4c17-b4b7-56eeaee689f5', grounding=ChunkGrounding(box=ChunkGroundingBox(bottom=0.35451340675354004, left=0.07401201128959656, right=0.9164379835128784, top=0.05636787414550781), page=0), markdown='<a id=\\'960d63e5-ea32-4c17-b4b7-56eeaee689f5\\'></a>\\n\\n<table id=\"0-1\">\\n<tr><td id=\"0-2\" colspan=\"3\">Tata Invoice</td></tr>\\n<tr><td id=\"0-3\" rowspan=\"3\">Variant Technologies Sgar Complex, Off No. 19 A Tower, Near Nashik Phata Kasarwadi. Pune - 411034 E-Mail : sales@vtechpune.co.in</td><td id=\"0-4\">Invoice No: 2014/00355</td><td id=\"0-5\">Dated 10-Dec-14</td></tr>\\n<tr><td id=\"0-6\">Delivery Note By Road</td><td id=\"0-7\">Mode/Terms Of Payment 100% Against receipt of Material</td></tr>\\n<tr><td id=\"0-8\" rowspan=\"2\">Buyers Order No.</td><td id=\"0-9\" rowspan=\"2\">PO Dated</td></tr>\\n<tr><td id=\"0-a\" rowspan=\"2\">Buyer Sandip Patil Ambegaon Bk, Pune</td></tr>\\n<tr><td id=\"0-b\" colspan=\"2\">Terms Of Delivery Delivared at Place</td></tr>\\n</table>', type='table'), Chunk(id='cf06c5a8-8b3c-4559-9c70-22706f39a0ad', grounding=ChunkGrounding(box=ChunkGroundingBox(bottom=0.7674177885055542, left=0.07360115647315979, right=0.9162291288375854, top=0.34660741686820984), page=0), markdown='<a id=\\'cf06c5a8-8b3c-4559-9c70-22706f39a0ad\\'></a>\\n\\n<table id=\"0-c\">\\n<tr><td id=\"0-d\">SrNo</td><td id=\"0-e\">Description of Goods</td><td id=\"0-f\">Part No</td><td id=\"0-g\">Qty</td><td id=\"0-h\">VAT</td><td id=\"0-i\">Rate</td><td id=\"0-j\">Amount</td></tr>\\n<tr><td id=\"0-k\">1</td><td id=\"0-l\">Tata Photon 3G Plan 750@7GB</td><td id=\"0-m\"></td><td id=\"0-n\">1</td><td id=\"0-o\"></td><td id=\"0-p\">2800.00</td><td id=\"0-q\">2800.00</td></tr>\\n<tr><td id=\"0-r\"></td><td id=\"0-s\">Sub Total</td><td id=\"0-t\"></td><td id=\"0-u\"></td><td id=\"0-v\"></td><td id=\"0-w\"></td><td id=\"0-x\">2800.00</td></tr>\\n<tr><td id=\"0-y\"></td><td id=\"0-z\"></td><td id=\"0-A\"></td><td id=\"0-B\"></td><td id=\"0-C\"></td><td id=\"0-D\"></td><td id=\"0-E\"></td></tr>\\n<tr><td id=\"0-F\"></td><td id=\"0-G\">Total</td><td id=\"0-H\"></td><td id=\"0-I\"></td><td id=\"0-J\"></td><td id=\"0-K\" colspan=\"2\">2800.00</td></tr>\\n</table>', type='table'), Chunk(id='6f96ffad-caa9-4410-8969-86963766fbee', grounding=ChunkGrounding(box=ChunkGroundingBox(bottom=0.9222245216369629, left=0.07496252655982971, right=0.5906327962875366, top=0.7598319053649902), page=0), markdown=\"<a id='6f96ffad-caa9-4410-8969-86963766fbee'></a>\\n\\nAmount Chargeable(in words)\\nRs. Two Thousand Eight Hundred Only.\\n\\nDeclaration\\nWe declare that this invoice shows the actual price of the\\ngoods described and that all particulars are true\", type='text'), Chunk(id='17fdb831-0a57-4193-a6b7-6441fd8dea21', grounding=ChunkGrounding(box=ChunkGroundingBox(bottom=0.9237267971038818, left=0.583089292049408, right=0.9134795069694519, top=0.7877967357635498), page=0), markdown='<a id=\\'17fdb831-0a57-4193-a6b7-6441fd8dea21\\'></a>\\n\\n<::attestation: Signature and Official Stamp\\nSigned, Stamped\\nSignature: illegible\\nFor Variant Technologies\\nVariant Technologies\\nVT\\n+91 20 46700005\\nM +91 95-60000000\\nwww.vtechpune.co.in\\nPune-34\\nA handwritten signature is placed above the text \"For Variant Technologies\", with a circular company stamp overlapping the signature and text, positioned on the right side of the signature.::>', type='attestation'), Chunk(id='bb758d6b-5a2b-48b6-8921-c807f0340198', grounding=ChunkGrounding(box=ChunkGroundingBox(bottom=0.8771019577980042, left=0.737311840057373, right=0.8757553100585938, top=0.7924855351448059), page=0), markdown=\"<a id='bb758d6b-5a2b-48b6-8921-c807f0340198'></a>\\n\\n<::attestation: Official Stamp\\nStamped\\nVariant Technologies\\nVT.tech\\nT +91 20 46700305\\nM +91 98-60000800\\nPune-34\\nweb: www.vttechpune.co.in\\nA circular blue ink stamp with company name, logo, contact details, and address, centrally located in the image.\\n::>\", type='attestation'), Chunk(id='d1830a26-9b9b-4b36-91b5-ee8ade362d6f', grounding=ChunkGrounding(box=ChunkGroundingBox(bottom=0.9353894591331482, left=0.409298837184906, right=0.6812650561332703, top=0.918374240398407), page=0), markdown=\"<a id='d1830a26-9b9b-4b36-91b5-ee8ade362d6f'></a>\\n\\nThis is a Computer Generated Invoice\", type='marginalia')], markdown='<a id=\\'960d63e5-ea32-4c17-b4b7-56eeaee689f5\\'></a>\\n\\n<table id=\"0-1\">\\n<tr><td id=\"0-2\" colspan=\"3\">Tata Invoice</td></tr>\\n<tr><td id=\"0-3\" rowspan=\"3\">Variant Technologies Sgar Complex, Off No. 19 A Tower, Near Nashik Phata Kasarwadi. Pune - 411034 E-Mail : sales@vtechpune.co.in</td><td id=\"0-4\">Invoice No: 2014/00355</td><td id=\"0-5\">Dated 10-Dec-14</td></tr>\\n<tr><td id=\"0-6\">Delivery Note By Road</td><td id=\"0-7\">Mode/Terms Of Payment 100% Against receipt of Material</td></tr>\\n<tr><td id=\"0-8\" rowspan=\"2\">Buyers Order No.</td><td id=\"0-9\" rowspan=\"2\">PO Dated</td></tr>\\n<tr><td id=\"0-a\" rowspan=\"2\">Buyer Sandip Patil Ambegaon Bk, Pune</td></tr>\\n<tr><td id=\"0-b\" colspan=\"2\">Terms Of Delivery Delivared at Place</td></tr>\\n</table>\\n\\n<a id=\\'cf06c5a8-8b3c-4559-9c70-22706f39a0ad\\'></a>\\n\\n<table id=\"0-c\">\\n<tr><td id=\"0-d\">SrNo</td><td id=\"0-e\">Description of Goods</td><td id=\"0-f\">Part No</td><td id=\"0-g\">Qty</td><td id=\"0-h\">VAT</td><td id=\"0-i\">Rate</td><td id=\"0-j\">Amount</td></tr>\\n<tr><td id=\"0-k\">1</td><td id=\"0-l\">Tata Photon 3G Plan 750@7GB</td><td id=\"0-m\"></td><td id=\"0-n\">1</td><td id=\"0-o\"></td><td id=\"0-p\">2800.00</td><td id=\"0-q\">2800.00</td></tr>\\n<tr><td id=\"0-r\"></td><td id=\"0-s\">Sub Total</td><td id=\"0-t\"></td><td id=\"0-u\"></td><td id=\"0-v\"></td><td id=\"0-w\"></td><td id=\"0-x\">2800.00</td></tr>\\n<tr><td id=\"0-y\"></td><td id=\"0-z\"></td><td id=\"0-A\"></td><td id=\"0-B\"></td><td id=\"0-C\"></td><td id=\"0-D\"></td><td id=\"0-E\"></td></tr>\\n<tr><td id=\"0-F\"></td><td id=\"0-G\">Total</td><td id=\"0-H\"></td><td id=\"0-I\"></td><td id=\"0-J\"></td><td id=\"0-K\" colspan=\"2\">2800.00</td></tr>\\n</table>\\n\\n<a id=\\'6f96ffad-caa9-4410-8969-86963766fbee\\'></a>\\n\\nAmount Chargeable(in words)\\nRs. Two Thousand Eight Hundred Only.\\n\\nDeclaration\\nWe declare that this invoice shows the actual price of the\\ngoods described and that all particulars are true\\n\\n<a id=\\'17fdb831-0a57-4193-a6b7-6441fd8dea21\\'></a>\\n\\n<::attestation: Signature and Official Stamp\\nSigned, Stamped\\nSignature: illegible\\nFor Variant Technologies\\nVariant Technologies\\nVT\\n+91 20 46700005\\nM +91 95-60000000\\nwww.vtechpune.co.in\\nPune-34\\nA handwritten signature is placed above the text \"For Variant Technologies\", with a circular company stamp overlapping the signature and text, positioned on the right side of the signature.::>\\n\\n<a id=\\'bb758d6b-5a2b-48b6-8921-c807f0340198\\'></a>\\n\\n<::attestation: Official Stamp\\nStamped\\nVariant Technologies\\nVT.tech\\nT +91 20 46700305\\nM +91 98-60000800\\nPune-34\\nweb: www.vttechpune.co.in\\nA circular blue ink stamp with company name, logo, contact details, and address, centrally located in the image.\\n::>\\n\\n<a id=\\'d1830a26-9b9b-4b36-91b5-ee8ade362d6f\\'></a>\\n\\nThis is a Computer Generated Invoice', metadata=Metadata(credit_usage=3.0, duration_ms=8847, filename='invoice_17.pdf', job_id='p0xsprniv0xbviqfz4i0bxtna', org_id='u3z0u1hn4acl', page_count=1, version='dpt-2-20250919'), splits=[Split(chunks=['960d63e5-ea32-4c17-b4b7-56eeaee689f5', 'cf06c5a8-8b3c-4559-9c70-22706f39a0ad', '6f96ffad-caa9-4410-8969-86963766fbee', '17fdb831-0a57-4193-a6b7-6441fd8dea21', 'bb758d6b-5a2b-48b6-8921-c807f0340198', 'd1830a26-9b9b-4b36-91b5-ee8ade362d6f'], class_='full', identifier='full', markdown='<a id=\\'960d63e5-ea32-4c17-b4b7-56eeaee689f5\\'></a>\\n\\n<table id=\"0-1\">\\n<tr><td id=\"0-2\" colspan=\"3\">Tata Invoice</td></tr>\\n<tr><td id=\"0-3\" rowspan=\"3\">Variant Technologies Sgar Complex, Off No. 19 A Tower, Near Nashik Phata Kasarwadi. Pune - 411034 E-Mail : sales@vtechpune.co.in</td><td id=\"0-4\">Invoice No: 2014/00355</td><td id=\"0-5\">Dated 10-Dec-14</td></tr>\\n<tr><td id=\"0-6\">Delivery Note By Road</td><td id=\"0-7\">Mode/Terms Of Payment 100% Against receipt of Material</td></tr>\\n<tr><td id=\"0-8\" rowspan=\"2\">Buyers Order No.</td><td id=\"0-9\" rowspan=\"2\">PO Dated</td></tr>\\n<tr><td id=\"0-a\" rowspan=\"2\">Buyer Sandip Patil Ambegaon Bk, Pune</td></tr>\\n<tr><td id=\"0-b\" colspan=\"2\">Terms Of Delivery Delivared at Place</td></tr>\\n</table>\\n\\n<a id=\\'cf06c5a8-8b3c-4559-9c70-22706f39a0ad\\'></a>\\n\\n<table id=\"0-c\">\\n<tr><td id=\"0-d\">SrNo</td><td id=\"0-e\">Description of Goods</td><td id=\"0-f\">Part No</td><td id=\"0-g\">Qty</td><td id=\"0-h\">VAT</td><td id=\"0-i\">Rate</td><td id=\"0-j\">Amount</td></tr>\\n<tr><td id=\"0-k\">1</td><td id=\"0-l\">Tata Photon 3G Plan 750@7GB</td><td id=\"0-m\"></td><td id=\"0-n\">1</td><td id=\"0-o\"></td><td id=\"0-p\">2800.00</td><td id=\"0-q\">2800.00</td></tr>\\n<tr><td id=\"0-r\"></td><td id=\"0-s\">Sub Total</td><td id=\"0-t\"></td><td id=\"0-u\"></td><td id=\"0-v\"></td><td id=\"0-w\"></td><td id=\"0-x\">2800.00</td></tr>\\n<tr><td id=\"0-y\"></td><td id=\"0-z\"></td><td id=\"0-A\"></td><td id=\"0-B\"></td><td id=\"0-C\"></td><td id=\"0-D\"></td><td id=\"0-E\"></td></tr>\\n<tr><td id=\"0-F\"></td><td id=\"0-G\">Total</td><td id=\"0-H\"></td><td id=\"0-I\"></td><td id=\"0-J\"></td><td id=\"0-K\" colspan=\"2\">2800.00</td></tr>\\n</table>\\n\\n<a id=\\'6f96ffad-caa9-4410-8969-86963766fbee\\'></a>\\n\\nAmount Chargeable(in words)\\nRs. Two Thousand Eight Hundred Only.\\n\\nDeclaration\\nWe declare that this invoice shows the actual price of the\\ngoods described and that all particulars are true\\n\\n<a id=\\'17fdb831-0a57-4193-a6b7-6441fd8dea21\\'></a>\\n\\n<::attestation: Signature and Official Stamp\\nSigned, Stamped\\nSignature: illegible\\nFor Variant Technologies\\nVariant Technologies\\nVT\\n+91 20 46700005\\nM +91 95-60000000\\nwww.vtechpune.co.in\\nPune-34\\nA handwritten signature is placed above the text \"For Variant Technologies\", with a circular company stamp overlapping the signature and text, positioned on the right side of the signature.::>\\n\\n<a id=\\'bb758d6b-5a2b-48b6-8921-c807f0340198\\'></a>\\n\\n<::attestation: Official Stamp\\nStamped\\nVariant Technologies\\nVT.tech\\nT +91 20 46700305\\nM +91 98-60000800\\nPune-34\\nweb: www.vttechpune.co.in\\nA circular blue ink stamp with company name, logo, contact details, and address, centrally located in the image.\\n::>\\n\\n<a id=\\'d1830a26-9b9b-4b36-91b5-ee8ade362d6f\\'></a>\\n\\nThis is a Computer Generated Invoice', pages=[0], class='full')], grounding={'960d63e5-ea32-4c17-b4b7-56eeaee689f5': Grounding(box=GroundingBox(bottom=0.35451340675354004, left=0.07401201128959656, right=0.9164379835128784, top=0.05636787414550781), page=0, type='chunkTable'), '0-1': Grounding(box=GroundingBox(bottom=0.3517957448952984, left=0.08110803955232362, right=0.909051172304169, top=0.06362086736114092), page=0, type='table'), '0-2': Grounding(box=GroundingBox(bottom=0.1482182004300583, left=0.08110803955232362, right=0.9091298552929601, top=0.06362086736114092), page=0, type='tableCell'), '0-3': Grounding(box=GroundingBox(bottom=0.2732261587673861, left=0.08110803955232362, right=0.7119805635204575, top=0.0855971446238275), page=0, type='tableCell'), '0-4': Grounding(box=GroundingBox(bottom=0.1482182004300583, left=0.49643305995856046, right=0.7119805635204575, top=0.0855971446238275), page=0, type='tableCell'), '0-5': Grounding(box=GroundingBox(bottom=0.1482182004300583, left=0.7119805635204575, right=0.9091298552929601, top=0.0855971446238275), page=0, type='tableCell'), '0-6': Grounding(box=GroundingBox(bottom=0.21094964214560719, left=0.49643305995856046, right=0.7119805635204575, top=0.1482182004300583), page=0, type='tableCell'), '0-7': Grounding(box=GroundingBox(bottom=0.21094964214560719, left=0.7119805635204575, right=0.9091298552929601, top=0.1482182004300583), page=0, type='tableCell'), '0-8': Grounding(box=GroundingBox(bottom=0.3517957448952984, left=0.49643305995856046, right=0.9091298552929601, top=0.21094964214560719), page=0, type='tableCell'), '0-9': Grounding(box=GroundingBox(bottom=0.3517957448952984, left=0.7119805635204575, right=0.9091298552929601, top=0.21094964214560719), page=0, type='tableCell'), '0-a': Grounding(box=GroundingBox(bottom=0.3517957448952984, left=0.08110803955232362, right=0.7119805635204575, top=0.22612615083740195), page=0, type='tableCell'), '0-b': Grounding(box=GroundingBox(bottom=0.3517957448952984, left=0.49643305995856046, right=0.9091298552929601, top=0.2732261587673861), page=0, type='tableCell'), 'cf06c5a8-8b3c-4559-9c70-22706f39a0ad': Grounding(box=GroundingBox(bottom=0.7674177885055542, left=0.07360115647315979, right=0.9162291288375854, top=0.34660741686820984), page=0, type='chunkTable'), '0-c': Grounding(box=GroundingBox(bottom=0.7626664573729478, left=0.0809778160847128, right=0.9085340762418586, top=0.35058251302523646), page=0, type='table'), '0-d': Grounding(box=GroundingBox(bottom=0.36615632868248926, left=0.0809778160847128, right=0.14022069525094238, top=0.35058251302523646), page=0, type='tableCell'), '0-e': Grounding(box=GroundingBox(bottom=0.36615632868248926, left=0.14022069525094238, right=0.49617823963624197, top=0.35058251302523646), page=0, type='tableCell'), '0-f': Grounding(box=GroundingBox(bottom=0.36615632868248926, left=0.49617823963624197, right=0.5895801153356732, top=0.35058251302523646), page=0, type='tableCell'), '0-g': Grounding(box=GroundingBox(bottom=0.36615632868248926, left=0.5895801153356732, right=0.6562613800743087, top=0.35058251302523646), page=0, type='tableCell'), '0-h': Grounding(box=GroundingBox(bottom=0.36615632868248926, left=0.6562613800743087, right=0.7118612527668162, top=0.35058251302523646), page=0, type='tableCell'), '0-i': Grounding(box=GroundingBox(bottom=0.36615632868248926, left=0.7118612527668162, right=0.7980996021876123, top=0.35058251302523646), page=0, type='tableCell'), '0-j': Grounding(box=GroundingBox(bottom=0.36615632868248926, left=0.7980996021876123, right=0.9086024820666605, top=0.35058251302523646), page=0, type='tableCell'), '0-k': Grounding(box=GroundingBox(bottom=0.6320185963007621, left=0.0809778160847128, right=0.14022069525094238, top=0.36615632868248926), page=0, type='tableCell'), '0-l': Grounding(box=GroundingBox(bottom=0.6320185963007621, left=0.14022069525094238, right=0.49617823963624197, top=0.36615632868248926), page=0, type='tableCell'), '0-m': Grounding(box=GroundingBox(bottom=0.6320185963007621, left=0.49617823963624197, right=0.5895801153356732, top=0.36615632868248926), page=0, type='tableCell'), '0-n': Grounding(box=GroundingBox(bottom=0.6320185963007621, left=0.5895801153356732, right=0.6562613800743087, top=0.36615632868248926), page=0, type='tableCell'), '0-o': Grounding(box=GroundingBox(bottom=0.6320185963007621, left=0.6562613800743087, right=0.7118612527668162, top=0.36615632868248926), page=0, type='tableCell'), '0-p': Grounding(box=GroundingBox(bottom=0.6320185963007621, left=0.7118612527668162, right=0.7980996021876123, top=0.36615632868248926), page=0, type='tableCell'), '0-q': Grounding(box=GroundingBox(bottom=0.6320185963007621, left=0.7980996021876123, right=0.9086024820666605, top=0.36615632868248926), page=0, type='tableCell'), '0-r': Grounding(box=GroundingBox(bottom=0.6472478629310636, left=0.0809778160847128, right=0.14022069525094238, top=0.6320185963007621), page=0, type='tableCell'), '0-s': Grounding(box=GroundingBox(bottom=0.6472478629310636, left=0.14022069525094238, right=0.49617823963624197, top=0.6320185963007621), page=0, type='tableCell'), '0-t': Grounding(box=GroundingBox(bottom=0.6472478629310636, left=0.49617823963624197, right=0.5895801153356732, top=0.6320185963007621), page=0, type='tableCell'), '0-u': Grounding(box=GroundingBox(bottom=0.6472478629310636, left=0.5895801153356732, right=0.6562613800743087, top=0.6320185963007621), page=0, type='tableCell'), '0-v': Grounding(box=GroundingBox(bottom=0.6472478629310636, left=0.6562613800743087, right=0.7118612527668162, top=0.6320185963007621), page=0, type='tableCell'), '0-w': Grounding(box=GroundingBox(bottom=0.6472478629310636, left=0.7118612527668162, right=0.7980996021876123, top=0.6320185963007621), page=0, type='tableCell'), '0-x': Grounding(box=GroundingBox(bottom=0.6472478629310636, left=0.7980996021876123, right=0.9086024820666605, top=0.6320185963007621), page=0, type='tableCell'), '0-y': Grounding(box=GroundingBox(bottom=0.7413034763336714, left=0.0809778160847128, right=0.14022069525094238, top=0.6472478629310636), page=0, type='tableCell'), '0-z': Grounding(box=GroundingBox(bottom=0.7413034763336714, left=0.14022069525094238, right=0.49617823963624197, top=0.6472478629310636), page=0, type='tableCell'), '0-A': Grounding(box=GroundingBox(bottom=0.7413034763336714, left=0.49617823963624197, right=0.5895801153356732, top=0.6472478629310636), page=0, type='tableCell'), '0-B': Grounding(box=GroundingBox(bottom=0.7413034763336714, left=0.5895801153356732, right=0.6562613800743087, top=0.6472478629310636), page=0, type='tableCell'), '0-C': Grounding(box=GroundingBox(bottom=0.7413034763336714, left=0.6562613800743087, right=0.7118612527668162, top=0.6472478629310636), page=0, type='tableCell'), '0-D': Grounding(box=GroundingBox(bottom=0.7413034763336714, left=0.7118612527668162, right=0.7980996021876123, top=0.6472478629310636), page=0, type='tableCell'), '0-E': Grounding(box=GroundingBox(bottom=0.7413034763336714, left=0.7980996021876123, right=0.9086024820666605, top=0.6472478629310636), page=0, type='tableCell'), '0-F': Grounding(box=GroundingBox(bottom=0.7626664573729478, left=0.0809778160847128, right=0.14022069525094238, top=0.7413034763336714), page=0, type='tableCell'), '0-G': Grounding(box=GroundingBox(bottom=0.7626664573729478, left=0.14022069525094238, right=0.49617823963624197, top=0.7413034763336714), page=0, type='tableCell'), '0-H': Grounding(box=GroundingBox(bottom=0.7626664573729478, left=0.49617823963624197, right=0.5895801153356732, top=0.7413034763336714), page=0, type='tableCell'), '0-I': Grounding(box=GroundingBox(bottom=0.7626664573729478, left=0.5895801153356732, right=0.6562613800743087, top=0.7413034763336714), page=0, type='tableCell'), '0-J': Grounding(box=GroundingBox(bottom=0.7626664573729478, left=0.6562613800743087, right=0.7118612527668162, top=0.7413034763336714), page=0, type='tableCell'), '0-K': Grounding(box=GroundingBox(bottom=0.7626664573729478, left=0.7118612527668162, right=0.9086024820666605, top=0.7413034763336714), page=0, type='tableCell'), '6f96ffad-caa9-4410-8969-86963766fbee': Grounding(box=GroundingBox(bottom=0.9222245216369629, left=0.07496252655982971, right=0.5906327962875366, top=0.7598319053649902), page=0, type='chunkText'), '17fdb831-0a57-4193-a6b7-6441fd8dea21': Grounding(box=GroundingBox(bottom=0.9237267971038818, left=0.583089292049408, right=0.9134795069694519, top=0.7877967357635498), page=0, type='chunkAttestation'), 'bb758d6b-5a2b-48b6-8921-c807f0340198': Grounding(box=GroundingBox(bottom=0.8771019577980042, left=0.737311840057373, right=0.8757553100585938, top=0.7924855351448059), page=0, type='chunkAttestation'), 'd1830a26-9b9b-4b36-91b5-ee8ade362d6f': Grounding(box=GroundingBox(bottom=0.9353894591331482, left=0.409298837184906, right=0.6812650561332703, top=0.918374240398407), page=0, type='chunkMarginalia')}),\n",
       "  ExtractResponse(extraction={'invoice_info': {'invoice_date_raw': 'Dated 10-Dec-14', 'invoice_date': '2014-12-10', 'invoice_number': '2014/00355', 'order_date': None, 'po_number': None, 'status': None}, 'customer_info': {'sold_to_name': 'Sandip Patil', 'sold_to_address': 'Ambegaon Bk, Pune', 'customer_email': None}, 'company_info': {'supplier_name': 'Variant Technologies', 'supplier_address': 'Sgar Complex, Off No. 19 A Tower, Near Nashik Phata Kasarwadi. Pune - 411034', 'representative': None, 'email': 'sales@vtechpune.co.in', 'phone': '+91 20 46700005', 'gstin': None, 'pan': None}, 'order_details': {'payment_terms': '100% Against receipt of Material', 'ship_via': 'By Road', 'ship_date': None, 'tracking_number': None}, 'totals_summary': {'currency': None, 'total_due_raw': '2800.00', 'total_due': 2800, 'subtotal': 2800, 'tax': None, 'shipping': None, 'handling_fee': None}, 'line_items': [{'line_number': '1', 'sku': None, 'description': 'Tata Photon 3G Plan 750@7GB', 'quantity': 1, 'unit_price': 2800, 'price': None, 'amount': 2800, 'total': None}]}, extraction_metadata={'invoice_info': {'invoice_date_raw': {'value': 'Dated 10-Dec-14', 'references': ['0-5']}, 'invoice_date': {'value': '2014-12-10', 'references': ['0-5']}, 'invoice_number': {'value': '2014/00355', 'references': ['0-4']}, 'order_date': {'value': None, 'references': []}, 'po_number': {'value': None, 'references': []}, 'status': {'value': None, 'references': []}}, 'customer_info': {'sold_to_name': {'value': 'Sandip Patil', 'references': ['0-a']}, 'sold_to_address': {'value': 'Ambegaon Bk, Pune', 'references': ['0-a']}, 'customer_email': {'value': None, 'references': []}}, 'company_info': {'supplier_name': {'value': 'Variant Technologies', 'references': ['0-3']}, 'supplier_address': {'value': 'Sgar Complex, Off No. 19 A Tower, Near Nashik Phata Kasarwadi. Pune - 411034', 'references': ['0-3']}, 'representative': {'value': None, 'references': []}, 'email': {'value': 'sales@vtechpune.co.in', 'references': ['0-3']}, 'phone': {'value': '+91 20 46700005', 'references': ['17fdb831-0a57-4193-a6b7-6441fd8dea21']}, 'gstin': {'value': None, 'references': []}, 'pan': {'value': None, 'references': []}}, 'order_details': {'payment_terms': {'value': '100% Against receipt of Material', 'references': ['0-7']}, 'ship_via': {'value': 'By Road', 'references': ['0-6']}, 'ship_date': {'value': None, 'references': []}, 'tracking_number': {'value': None, 'references': []}}, 'totals_summary': {'currency': {'value': None, 'references': []}, 'total_due_raw': {'value': '2800.00', 'references': ['0-K']}, 'total_due': {'value': 2800, 'references': ['0-K']}, 'subtotal': {'value': 2800, 'references': ['0-x']}, 'tax': {'value': None, 'references': []}, 'shipping': {'value': None, 'references': []}, 'handling_fee': {'value': None, 'references': []}}, 'line_items': [{'line_number': {'value': '1', 'references': ['0-k']}, 'sku': {'value': None, 'references': []}, 'description': {'value': 'Tata Photon 3G Plan 750@7GB', 'references': ['0-l']}, 'quantity': {'value': 1, 'references': ['0-n']}, 'unit_price': {'value': 2800, 'references': ['0-p']}, 'price': {'value': None, 'references': []}, 'amount': {'value': 2800, 'references': ['0-q']}, 'total': {'value': None, 'references': []}}]}, metadata=Metadata(credit_usage=1.6, duration_ms=4101, filename='upload', job_id='dx2s66hf7jaqvai8tyu0c7byi', org_id='u3z0u1hn4acl', version='extract-20250930'))),\n",
       " (ParseResponse(chunks=[Chunk(id='a24acd30-2126-4953-854b-b4d9635480ea', grounding=ChunkGrounding(box=ChunkGroundingBox(bottom=0.0993993878364563, left=0.648505687713623, right=0.8924366235733032, top=0.05987708270549774), page=0), markdown=\"<a id='a24acd30-2126-4953-854b-b4d9635480ea'></a>\\n\\nINVOICE\", type='text'), Chunk(id='1d7b248e-2235-43d2-a96f-e80d1b81f195', grounding=ChunkGrounding(box=ChunkGroundingBox(bottom=0.16577720642089844, left=0.11045388877391815, right=0.44505274295806885, top=0.08873892575502396), page=0), markdown=\"<a id='1d7b248e-2235-43d2-a96f-e80d1b81f195'></a>\\n\\n_East Padden Animal Hospital_\\n15721 NE Fourth Plain Blvd.\\nVancouver, WA 98682\\n360-892-1500\", type='text'), Chunk(id='e30625d8-f317-4f36-b401-49e0c5652d4b', grounding=ChunkGrounding(box=ChunkGroundingBox(bottom=0.21208135783672333, left=0.3117828071117401, right=0.6903002262115479, top=0.18910838663578033), page=0), markdown=\"<a id='e30625d8-f317-4f36-b401-49e0c5652d4b'></a>\\n\\nYour OTHER Family Doctor. We love what we do!\", type='text'), Chunk(id='2dbe995f-69d3-4b81-81fd-295e44ab9561', grounding=ChunkGrounding(box=ChunkGroundingBox(bottom=0.3027985692024231, left=0.1118985265493393, right=0.34580886363983154, top=0.2351713329553604), page=0), markdown=\"<a id='2dbe995f-69d3-4b81-81fd-295e44ab9561'></a>\\n\\nFOR: Andrea Kropp\\n227 N 5th Ave\\nPO Box 1168\\nRidgefield, WA 98642\", type='text'), Chunk(id='a5a6334a-ec82-46cc-a892-e1f7ebf6dce0', grounding=ChunkGrounding(box=ChunkGroundingBox(bottom=0.27267423272132874, left=0.664871335029602, right=0.8875643014907837, top=0.22185461223125458), page=0), markdown=\"<a id='a5a6334a-ec82-46cc-a892-e1f7ebf6dce0'></a>\\n\\nPrinted: 08-18-23 at 3:14p\\nDate: 08-18-23\\nAccount: 41283\", type='text'), Chunk(id='1927aed9-a494-4984-b701-25647d2a975e', grounding=ChunkGrounding(box=ChunkGroundingBox(bottom=0.3020061254501343, left=0.6643661260604858, right=0.8162983655929565, top=0.28150027990341187), page=0), markdown=\"<a id='1927aed9-a494-4984-b701-25647d2a975e'></a>\\n\\nInvoice: 412824\", type='text'), Chunk(id='40966379-6674-4caf-94c1-a6235cddf187', grounding=ChunkGrounding(box=ChunkGroundingBox(bottom=0.5216607451438904, left=0.10764092206954956, right=0.8923571705818176, top=0.30991435050964355), page=0), markdown='<a id=\\'40966379-6674-4caf-94c1-a6235cddf187\\'></a>\\n\\n<table id=\"0-1\">\\n<tr><td id=\"0-2\">Date</td><td id=\"0-3\">For</td><td id=\"0-4\">Qty Description</td><td id=\"0-5\">Price</td><td id=\"0-6\">Discount</td><td id=\"0-7\">Price</td></tr>\\n<tr><td id=\"0-8\">08-18-23</td><td id=\"0-9\" colspan=\"4\">Zazzles 2 Selarid Feline 5-15lb Revolution Ge* Apply contents of one tube (follow label directions for administration technique) to skin once monthly to prevent fleas, roundworms, hookworms, heartworms, and ear mites. Wait at least 2 hours after application for bathing.</td><td id=\"0-a\">42.00</td></tr>\\n<tr><td id=\"0-b\">08-18-23</td><td id=\"0-c\" colspan=\"3\">1 HCP Combo Vaccine (1 Year) The HCP vaccine was given under the skin of the right front leg.</td><td id=\"0-d\"></td><td id=\"0-e\">45.00</td></tr>\\n<tr><td id=\"0-f\">08-18-23</td><td id=\"0-g\" colspan=\"3\">1 Technician Appointment</td><td id=\"0-h\"></td><td id=\"0-i\">0.00</td></tr>\\n<tr><td id=\"0-j\">08-18-23</td><td id=\"0-k\" colspan=\"3\">Visa payment</td><td id=\"0-l\"></td><td id=\"0-m\">-90.53</td></tr>\\n</table>', type='table'), Chunk(id='16e0a4ce-ba4f-4980-bace-30618d82186a', grounding=ChunkGrounding(box=ChunkGroundingBox(bottom=0.5566332340240479, left=0.11078664660453796, right=0.7374686002731323, top=0.5237376689910889), page=0), markdown=\"<a id='16e0a4ce-ba4f-4980-bace-30618d82186a'></a>\\n\\nMerchant ID: 4445060632312\\nApproval code: 00301D\\nTransaction ID: 753403776\\nRef #: 153071494\\nAct #: ************3800\\nEntry: ContactIcc\\nCard: VISA\", type='text'), Chunk(id='a4180b9b-4961-466c-aab4-6564ef737bc0', grounding=ChunkGrounding(box=ChunkGroundingBox(bottom=0.5911219716072083, left=0.1110023558139801, right=0.8052910566329956, top=0.5554140210151672), page=0), markdown=\"<a id='a4180b9b-4961-466c-aab4-6564ef737bc0'></a>\\n\\nYour card balance is not available\\nI AGREE TO PAY ABOVE TOTAL AMOUNT ACCORDING TO CARD ISSUER AGREEMENT\", type='text'), Chunk(id='19ea1947-1465-4e26-850b-1d5f2562c0e9', grounding=ChunkGrounding(box=ChunkGroundingBox(bottom=0.6232918500900269, left=0.6430811285972595, right=0.8892853856086731, top=0.5954693555831909), page=0), markdown=\"<a id='19ea1947-1465-4e26-850b-1d5f2562c0e9'></a>\\n\\n<::attestation: Signature mark\\nMark made\\nSignature: legible\\nReadable Text: X\\nA prominent 'X' followed by a long horizontal line, centered horizontally in the image.::>\", type='attestation'), Chunk(id='e77958b1-73be-40e6-b521-6106c0a2b56b', grounding=ChunkGrounding(box=ChunkGroundingBox(bottom=0.7013563513755798, left=0.11261692643165588, right=0.8897533416748047, top=0.6369664072990417), page=0), markdown='<a id=\\'e77958b1-73be-40e6-b521-6106c0a2b56b\\'></a>\\n\\n<table id=\"0-n\">\\n<tr><td id=\"0-o\">Old balance</td><td id=\"0-p\">Charges</td><td id=\"0-q\">Tax</td><td id=\"0-r\">Payments</td><td id=\"0-s\">New balance</td></tr>\\n<tr><td id=\"0-t\">0.00</td><td id=\"0-u\">87.00</td><td id=\"0-v\">*3.53</td><td id=\"0-w\">90.53</td><td id=\"0-x\">0.00</td></tr>\\n<tr><td id=\"0-y\"></td><td id=\"0-z\"></td><td id=\"0-A\"></td><td id=\"0-B\"></td><td id=\"0-C\"></td></tr>\\n</table>', type='table'), Chunk(id='538918d4-16bf-49b0-a692-45eeef120446', grounding=ChunkGrounding(box=ChunkGroundingBox(bottom=0.7442029118537903, left=0.10851822793483734, right=0.4471859931945801, top=0.7024720311164856), page=0), markdown=\"<a id='538918d4-16bf-49b0-a692-45eeef120446'></a>\\n\\n**Patient**\\nZazzles\\n\\n**Total charges**\\n90.53\", type='text'), Chunk(id='608e352a-2df9-4101-881a-74aab5116be0', grounding=ChunkGrounding(box=ChunkGroundingBox(bottom=0.8873994946479797, left=0.10837957262992859, right=0.6389297246932983, top=0.7772925496101379), page=0), markdown='<a id=\\'608e352a-2df9-4101-881a-74aab5116be0\\'></a>\\n\\nReminders for: **Zazzles** (Weight: 9.9 lbs - 12y) Last done\\n<table id=\"0-D\">\\n<tr><td id=\"0-E\">07-28-19</td><td id=\"0-F\">Cardiopet proBNP</td><td id=\"0-G\"></td></tr>\\n<tr><td id=\"0-H\">07-28-19</td><td id=\"0-I\">Blood Pressure</td><td id=\"0-J\"></td></tr>\\n<tr><td id=\"0-K\">10-17-23</td><td id=\"0-L\">Monthly Topical Parasite Contr</td><td id=\"0-M\">08-18-23</td></tr>\\n<tr><td id=\"0-N\">07-26-24</td><td id=\"0-O\">Purevax Rabies Vaccine(1 year)</td><td id=\"0-P\">07-27-23</td></tr>\\n<tr><td id=\"0-Q\">07-26-24</td><td id=\"0-R\">Annual Wellness Exam</td><td id=\"0-S\">07-27-23</td></tr>\\n</table>', type='table'), Chunk(id='99d8aea3-3c3b-420b-92cc-535410a03e97', grounding=ChunkGrounding(box=ChunkGroundingBox(bottom=0.14777608215808868, left=0.11084091663360596, right=0.6324667930603027, top=0.0872635543346405), page=1), markdown='<a id=\\'99d8aea3-3c3b-420b-92cc-535410a03e97\\'></a>\\n\\n<table id=\"1-1\">\\n<tr><td id=\"1-2\" colspan=\"2\">Reminders for: Zazzles (Weight: 9.9 lbs - 12y)</td><td id=\"1-3\">Last done</td></tr>\\n<tr><td id=\"1-4\">07-26-24 08-17-24</td><td id=\"1-5\">Annual Labwork HCP Combo Vaccine - 3 year</td><td id=\"1-6\">07-27-23</td></tr>\\n</table>', type='table'), Chunk(id='9da7956d-570d-4a64-a91c-2306ef0eb49e', grounding=ChunkGrounding(box=ChunkGroundingBox(bottom=0.1931646764278412, left=0.11036616563796997, right=0.30907732248306274, top=0.17099395394325256), page=1), markdown=\"<a id='9da7956d-570d-4a64-a91c-2306ef0eb49e'></a>\\n\\n**_Doctor's Instructions_**\", type='text'), Chunk(id='ec684082-e03b-441c-abb1-85f9860e827f', grounding=ChunkGrounding(box=ChunkGroundingBox(bottom=0.26389002799987793, left=0.1408413052558899, right=0.7300625443458557, top=0.20298194885253906), page=1), markdown=\"<a id='ec684082-e03b-441c-abb1-85f9860e827f'></a>\\n\\nSelarid Feline 5-15lb Revolution Generic\\nApply contents of one tube (follow label directions for administration technique) to skin once monthly to prevent fleas, ticks, roundworms, hookworms, heartworms, and ear mites. Wait at least 2 hours after application for bathing.\", type='text'), Chunk(id='ce470258-2a24-4709-8ce8-49326859a7ff', grounding=ChunkGrounding(box=ChunkGroundingBox(bottom=0.3587850332260132, left=0.14142760634422302, right=0.7522639036178589, top=0.2715039849281311), page=1), markdown=\"<a id='ce470258-2a24-4709-8ce8-49326859a7ff'></a>\\n\\nHCP Combo Vaccine (1 Year)\\nHCP 1 year - Zazzles has been vaccinated with an HCP\\n(Rhinotracheitis-Calici-Panleukopenia) vaccination today. It was given in the right front\\nleg. The site may be slightly tender for a day or two. If you are concerned about your\\ncat's comfort, please call us. This vaccine will need a booster in 1 year. Please call us at\\n360-892-1500 to schedule an appointment.\", type='text'), Chunk(id='eb8a329f-d1c7-4eaa-9baa-01857fcab43f', grounding=ChunkGrounding(box=ChunkGroundingBox(bottom=0.4096997380256653, left=0.1111437976360321, right=0.5680332183837891, top=0.3664489984512329), page=1), markdown=\"<a id='eb8a329f-d1c7-4eaa-9baa-01857fcab43f'></a>\\n\\nZazzles's weight history (in lbs)\\n<table><thead><tr><th>Col&nbsp;1</th><th>Col&nbsp;2</th></tr></thead><tbody><tr><td>07-27-23</td><td>9.90</td></tr></tbody></table>\", type='table'), Chunk(id='ee61e70b-ecc1-4808-94d8-ce3a0b4b2e55', grounding=ChunkGrounding(box=ChunkGroundingBox(bottom=0.4903180003166199, left=0.15780320763587952, right=0.7299712896347046, top=0.4449028968811035), page=1), markdown='<a id=\\'ee61e70b-ecc1-4808-94d8-ce3a0b4b2e55\\'></a>\\n\\n**If Zazzles leaves with a pressure bandage, or \"band-aid\" in place, please be sure to remove this in 15 minutes or when you arrive at home. Failure to do so can result in swelling of the limb, discomfort, and further complications.**', type='text'), Chunk(id='06c591ec-4ae8-4afe-8a27-65641ac8dff4', grounding=ChunkGrounding(box=ChunkGroundingBox(bottom=0.5187317132949829, left=0.1593550145626068, right=0.6983004808425903, top=0.49839553236961365), page=1), markdown=\"<a id='06c591ec-4ae8-4afe-8a27-65641ac8dff4'></a>\\n\\nVisit our Online Pharmacy: https://eastpaddenah.securevetsource.com/index.pml\", type='text'), Chunk(id='e32b8eb7-fe10-439b-bf63-83c6afb1cf38', grounding=ChunkGrounding(box=ChunkGroundingBox(bottom=0.5602798461914062, left=0.15954184532165527, right=0.7438620924949646, top=0.5253926515579224), page=1), markdown=\"<a id='e32b8eb7-fe10-439b-bf63-83c6afb1cf38'></a>\\n\\nThank you for choosing East Padden Animal Hospital for all of your pet's medical needs.\\nWe appreciate your confidence in our care and welcome any feedback you may have!\", type='text')], markdown='<a id=\\'a24acd30-2126-4953-854b-b4d9635480ea\\'></a>\\n\\nINVOICE\\n\\n<a id=\\'1d7b248e-2235-43d2-a96f-e80d1b81f195\\'></a>\\n\\n_East Padden Animal Hospital_\\n15721 NE Fourth Plain Blvd.\\nVancouver, WA 98682\\n360-892-1500\\n\\n<a id=\\'e30625d8-f317-4f36-b401-49e0c5652d4b\\'></a>\\n\\nYour OTHER Family Doctor. We love what we do!\\n\\n<a id=\\'2dbe995f-69d3-4b81-81fd-295e44ab9561\\'></a>\\n\\nFOR: Andrea Kropp\\n227 N 5th Ave\\nPO Box 1168\\nRidgefield, WA 98642\\n\\n<a id=\\'a5a6334a-ec82-46cc-a892-e1f7ebf6dce0\\'></a>\\n\\nPrinted: 08-18-23 at 3:14p\\nDate: 08-18-23\\nAccount: 41283\\n\\n<a id=\\'1927aed9-a494-4984-b701-25647d2a975e\\'></a>\\n\\nInvoice: 412824\\n\\n<a id=\\'40966379-6674-4caf-94c1-a6235cddf187\\'></a>\\n\\n<table id=\"0-1\">\\n<tr><td id=\"0-2\">Date</td><td id=\"0-3\">For</td><td id=\"0-4\">Qty Description</td><td id=\"0-5\">Price</td><td id=\"0-6\">Discount</td><td id=\"0-7\">Price</td></tr>\\n<tr><td id=\"0-8\">08-18-23</td><td id=\"0-9\" colspan=\"4\">Zazzles 2 Selarid Feline 5-15lb Revolution Ge* Apply contents of one tube (follow label directions for administration technique) to skin once monthly to prevent fleas, roundworms, hookworms, heartworms, and ear mites. Wait at least 2 hours after application for bathing.</td><td id=\"0-a\">42.00</td></tr>\\n<tr><td id=\"0-b\">08-18-23</td><td id=\"0-c\" colspan=\"3\">1 HCP Combo Vaccine (1 Year) The HCP vaccine was given under the skin of the right front leg.</td><td id=\"0-d\"></td><td id=\"0-e\">45.00</td></tr>\\n<tr><td id=\"0-f\">08-18-23</td><td id=\"0-g\" colspan=\"3\">1 Technician Appointment</td><td id=\"0-h\"></td><td id=\"0-i\">0.00</td></tr>\\n<tr><td id=\"0-j\">08-18-23</td><td id=\"0-k\" colspan=\"3\">Visa payment</td><td id=\"0-l\"></td><td id=\"0-m\">-90.53</td></tr>\\n</table>\\n\\n<a id=\\'16e0a4ce-ba4f-4980-bace-30618d82186a\\'></a>\\n\\nMerchant ID: 4445060632312\\nApproval code: 00301D\\nTransaction ID: 753403776\\nRef #: 153071494\\nAct #: ************3800\\nEntry: ContactIcc\\nCard: VISA\\n\\n<a id=\\'a4180b9b-4961-466c-aab4-6564ef737bc0\\'></a>\\n\\nYour card balance is not available\\nI AGREE TO PAY ABOVE TOTAL AMOUNT ACCORDING TO CARD ISSUER AGREEMENT\\n\\n<a id=\\'19ea1947-1465-4e26-850b-1d5f2562c0e9\\'></a>\\n\\n<::attestation: Signature mark\\nMark made\\nSignature: legible\\nReadable Text: X\\nA prominent \\'X\\' followed by a long horizontal line, centered horizontally in the image.::>\\n\\n<a id=\\'e77958b1-73be-40e6-b521-6106c0a2b56b\\'></a>\\n\\n<table id=\"0-n\">\\n<tr><td id=\"0-o\">Old balance</td><td id=\"0-p\">Charges</td><td id=\"0-q\">Tax</td><td id=\"0-r\">Payments</td><td id=\"0-s\">New balance</td></tr>\\n<tr><td id=\"0-t\">0.00</td><td id=\"0-u\">87.00</td><td id=\"0-v\">*3.53</td><td id=\"0-w\">90.53</td><td id=\"0-x\">0.00</td></tr>\\n<tr><td id=\"0-y\"></td><td id=\"0-z\"></td><td id=\"0-A\"></td><td id=\"0-B\"></td><td id=\"0-C\"></td></tr>\\n</table>\\n\\n<a id=\\'538918d4-16bf-49b0-a692-45eeef120446\\'></a>\\n\\n**Patient**\\nZazzles\\n\\n**Total charges**\\n90.53\\n\\n<a id=\\'608e352a-2df9-4101-881a-74aab5116be0\\'></a>\\n\\nReminders for: **Zazzles** (Weight: 9.9 lbs - 12y) Last done\\n<table id=\"0-D\">\\n<tr><td id=\"0-E\">07-28-19</td><td id=\"0-F\">Cardiopet proBNP</td><td id=\"0-G\"></td></tr>\\n<tr><td id=\"0-H\">07-28-19</td><td id=\"0-I\">Blood Pressure</td><td id=\"0-J\"></td></tr>\\n<tr><td id=\"0-K\">10-17-23</td><td id=\"0-L\">Monthly Topical Parasite Contr</td><td id=\"0-M\">08-18-23</td></tr>\\n<tr><td id=\"0-N\">07-26-24</td><td id=\"0-O\">Purevax Rabies Vaccine(1 year)</td><td id=\"0-P\">07-27-23</td></tr>\\n<tr><td id=\"0-Q\">07-26-24</td><td id=\"0-R\">Annual Wellness Exam</td><td id=\"0-S\">07-27-23</td></tr>\\n</table>\\n\\n<a id=\\'99d8aea3-3c3b-420b-92cc-535410a03e97\\'></a>\\n\\n<table id=\"1-1\">\\n<tr><td id=\"1-2\" colspan=\"2\">Reminders for: Zazzles (Weight: 9.9 lbs - 12y)</td><td id=\"1-3\">Last done</td></tr>\\n<tr><td id=\"1-4\">07-26-24 08-17-24</td><td id=\"1-5\">Annual Labwork HCP Combo Vaccine - 3 year</td><td id=\"1-6\">07-27-23</td></tr>\\n</table>\\n\\n<a id=\\'9da7956d-570d-4a64-a91c-2306ef0eb49e\\'></a>\\n\\n**_Doctor\\'s Instructions_**\\n\\n<a id=\\'ec684082-e03b-441c-abb1-85f9860e827f\\'></a>\\n\\nSelarid Feline 5-15lb Revolution Generic\\nApply contents of one tube (follow label directions for administration technique) to skin once monthly to prevent fleas, ticks, roundworms, hookworms, heartworms, and ear mites. Wait at least 2 hours after application for bathing.\\n\\n<a id=\\'ce470258-2a24-4709-8ce8-49326859a7ff\\'></a>\\n\\nHCP Combo Vaccine (1 Year)\\nHCP 1 year - Zazzles has been vaccinated with an HCP\\n(Rhinotracheitis-Calici-Panleukopenia) vaccination today. It was given in the right front\\nleg. The site may be slightly tender for a day or two. If you are concerned about your\\ncat\\'s comfort, please call us. This vaccine will need a booster in 1 year. Please call us at\\n360-892-1500 to schedule an appointment.\\n\\n<a id=\\'eb8a329f-d1c7-4eaa-9baa-01857fcab43f\\'></a>\\n\\nZazzles\\'s weight history (in lbs)\\n<table><thead><tr><th>Col&nbsp;1</th><th>Col&nbsp;2</th></tr></thead><tbody><tr><td>07-27-23</td><td>9.90</td></tr></tbody></table>\\n\\n<a id=\\'ee61e70b-ecc1-4808-94d8-ce3a0b4b2e55\\'></a>\\n\\n**If Zazzles leaves with a pressure bandage, or \"band-aid\" in place, please be sure to remove this in 15 minutes or when you arrive at home. Failure to do so can result in swelling of the limb, discomfort, and further complications.**\\n\\n<a id=\\'06c591ec-4ae8-4afe-8a27-65641ac8dff4\\'></a>\\n\\nVisit our Online Pharmacy: https://eastpaddenah.securevetsource.com/index.pml\\n\\n<a id=\\'e32b8eb7-fe10-439b-bf63-83c6afb1cf38\\'></a>\\n\\nThank you for choosing East Padden Animal Hospital for all of your pet\\'s medical needs.\\nWe appreciate your confidence in our care and welcome any feedback you may have!', metadata=Metadata(credit_usage=6.0, duration_ms=8643, filename='invoice_8.PDF', job_id='nw1ibe7drxa2nb992oi3p8gmy', org_id='u3z0u1hn4acl', page_count=2, version='dpt-2-20250919'), splits=[Split(chunks=['a24acd30-2126-4953-854b-b4d9635480ea', '1d7b248e-2235-43d2-a96f-e80d1b81f195', 'e30625d8-f317-4f36-b401-49e0c5652d4b', '2dbe995f-69d3-4b81-81fd-295e44ab9561', 'a5a6334a-ec82-46cc-a892-e1f7ebf6dce0', '1927aed9-a494-4984-b701-25647d2a975e', '40966379-6674-4caf-94c1-a6235cddf187', '16e0a4ce-ba4f-4980-bace-30618d82186a', 'a4180b9b-4961-466c-aab4-6564ef737bc0', '19ea1947-1465-4e26-850b-1d5f2562c0e9', 'e77958b1-73be-40e6-b521-6106c0a2b56b', '538918d4-16bf-49b0-a692-45eeef120446', '608e352a-2df9-4101-881a-74aab5116be0', '99d8aea3-3c3b-420b-92cc-535410a03e97', '9da7956d-570d-4a64-a91c-2306ef0eb49e', 'ec684082-e03b-441c-abb1-85f9860e827f', 'ce470258-2a24-4709-8ce8-49326859a7ff', 'eb8a329f-d1c7-4eaa-9baa-01857fcab43f', 'ee61e70b-ecc1-4808-94d8-ce3a0b4b2e55', '06c591ec-4ae8-4afe-8a27-65641ac8dff4', 'e32b8eb7-fe10-439b-bf63-83c6afb1cf38'], class_='full', identifier='full', markdown='<a id=\\'a24acd30-2126-4953-854b-b4d9635480ea\\'></a>\\n\\nINVOICE\\n\\n<a id=\\'1d7b248e-2235-43d2-a96f-e80d1b81f195\\'></a>\\n\\n_East Padden Animal Hospital_\\n15721 NE Fourth Plain Blvd.\\nVancouver, WA 98682\\n360-892-1500\\n\\n<a id=\\'e30625d8-f317-4f36-b401-49e0c5652d4b\\'></a>\\n\\nYour OTHER Family Doctor. We love what we do!\\n\\n<a id=\\'2dbe995f-69d3-4b81-81fd-295e44ab9561\\'></a>\\n\\nFOR: Andrea Kropp\\n227 N 5th Ave\\nPO Box 1168\\nRidgefield, WA 98642\\n\\n<a id=\\'a5a6334a-ec82-46cc-a892-e1f7ebf6dce0\\'></a>\\n\\nPrinted: 08-18-23 at 3:14p\\nDate: 08-18-23\\nAccount: 41283\\n\\n<a id=\\'1927aed9-a494-4984-b701-25647d2a975e\\'></a>\\n\\nInvoice: 412824\\n\\n<a id=\\'40966379-6674-4caf-94c1-a6235cddf187\\'></a>\\n\\n<table id=\"0-1\">\\n<tr><td id=\"0-2\">Date</td><td id=\"0-3\">For</td><td id=\"0-4\">Qty Description</td><td id=\"0-5\">Price</td><td id=\"0-6\">Discount</td><td id=\"0-7\">Price</td></tr>\\n<tr><td id=\"0-8\">08-18-23</td><td id=\"0-9\" colspan=\"4\">Zazzles 2 Selarid Feline 5-15lb Revolution Ge* Apply contents of one tube (follow label directions for administration technique) to skin once monthly to prevent fleas, roundworms, hookworms, heartworms, and ear mites. Wait at least 2 hours after application for bathing.</td><td id=\"0-a\">42.00</td></tr>\\n<tr><td id=\"0-b\">08-18-23</td><td id=\"0-c\" colspan=\"3\">1 HCP Combo Vaccine (1 Year) The HCP vaccine was given under the skin of the right front leg.</td><td id=\"0-d\"></td><td id=\"0-e\">45.00</td></tr>\\n<tr><td id=\"0-f\">08-18-23</td><td id=\"0-g\" colspan=\"3\">1 Technician Appointment</td><td id=\"0-h\"></td><td id=\"0-i\">0.00</td></tr>\\n<tr><td id=\"0-j\">08-18-23</td><td id=\"0-k\" colspan=\"3\">Visa payment</td><td id=\"0-l\"></td><td id=\"0-m\">-90.53</td></tr>\\n</table>\\n\\n<a id=\\'16e0a4ce-ba4f-4980-bace-30618d82186a\\'></a>\\n\\nMerchant ID: 4445060632312\\nApproval code: 00301D\\nTransaction ID: 753403776\\nRef #: 153071494\\nAct #: ************3800\\nEntry: ContactIcc\\nCard: VISA\\n\\n<a id=\\'a4180b9b-4961-466c-aab4-6564ef737bc0\\'></a>\\n\\nYour card balance is not available\\nI AGREE TO PAY ABOVE TOTAL AMOUNT ACCORDING TO CARD ISSUER AGREEMENT\\n\\n<a id=\\'19ea1947-1465-4e26-850b-1d5f2562c0e9\\'></a>\\n\\n<::attestation: Signature mark\\nMark made\\nSignature: legible\\nReadable Text: X\\nA prominent \\'X\\' followed by a long horizontal line, centered horizontally in the image.::>\\n\\n<a id=\\'e77958b1-73be-40e6-b521-6106c0a2b56b\\'></a>\\n\\n<table id=\"0-n\">\\n<tr><td id=\"0-o\">Old balance</td><td id=\"0-p\">Charges</td><td id=\"0-q\">Tax</td><td id=\"0-r\">Payments</td><td id=\"0-s\">New balance</td></tr>\\n<tr><td id=\"0-t\">0.00</td><td id=\"0-u\">87.00</td><td id=\"0-v\">*3.53</td><td id=\"0-w\">90.53</td><td id=\"0-x\">0.00</td></tr>\\n<tr><td id=\"0-y\"></td><td id=\"0-z\"></td><td id=\"0-A\"></td><td id=\"0-B\"></td><td id=\"0-C\"></td></tr>\\n</table>\\n\\n<a id=\\'538918d4-16bf-49b0-a692-45eeef120446\\'></a>\\n\\n**Patient**\\nZazzles\\n\\n**Total charges**\\n90.53\\n\\n<a id=\\'608e352a-2df9-4101-881a-74aab5116be0\\'></a>\\n\\nReminders for: **Zazzles** (Weight: 9.9 lbs - 12y) Last done\\n<table id=\"0-D\">\\n<tr><td id=\"0-E\">07-28-19</td><td id=\"0-F\">Cardiopet proBNP</td><td id=\"0-G\"></td></tr>\\n<tr><td id=\"0-H\">07-28-19</td><td id=\"0-I\">Blood Pressure</td><td id=\"0-J\"></td></tr>\\n<tr><td id=\"0-K\">10-17-23</td><td id=\"0-L\">Monthly Topical Parasite Contr</td><td id=\"0-M\">08-18-23</td></tr>\\n<tr><td id=\"0-N\">07-26-24</td><td id=\"0-O\">Purevax Rabies Vaccine(1 year)</td><td id=\"0-P\">07-27-23</td></tr>\\n<tr><td id=\"0-Q\">07-26-24</td><td id=\"0-R\">Annual Wellness Exam</td><td id=\"0-S\">07-27-23</td></tr>\\n</table>\\n\\n<a id=\\'99d8aea3-3c3b-420b-92cc-535410a03e97\\'></a>\\n\\n<table id=\"1-1\">\\n<tr><td id=\"1-2\" colspan=\"2\">Reminders for: Zazzles (Weight: 9.9 lbs - 12y)</td><td id=\"1-3\">Last done</td></tr>\\n<tr><td id=\"1-4\">07-26-24 08-17-24</td><td id=\"1-5\">Annual Labwork HCP Combo Vaccine - 3 year</td><td id=\"1-6\">07-27-23</td></tr>\\n</table>\\n\\n<a id=\\'9da7956d-570d-4a64-a91c-2306ef0eb49e\\'></a>\\n\\n**_Doctor\\'s Instructions_**\\n\\n<a id=\\'ec684082-e03b-441c-abb1-85f9860e827f\\'></a>\\n\\nSelarid Feline 5-15lb Revolution Generic\\nApply contents of one tube (follow label directions for administration technique) to skin once monthly to prevent fleas, ticks, roundworms, hookworms, heartworms, and ear mites. Wait at least 2 hours after application for bathing.\\n\\n<a id=\\'ce470258-2a24-4709-8ce8-49326859a7ff\\'></a>\\n\\nHCP Combo Vaccine (1 Year)\\nHCP 1 year - Zazzles has been vaccinated with an HCP\\n(Rhinotracheitis-Calici-Panleukopenia) vaccination today. It was given in the right front\\nleg. The site may be slightly tender for a day or two. If you are concerned about your\\ncat\\'s comfort, please call us. This vaccine will need a booster in 1 year. Please call us at\\n360-892-1500 to schedule an appointment.\\n\\n<a id=\\'eb8a329f-d1c7-4eaa-9baa-01857fcab43f\\'></a>\\n\\nZazzles\\'s weight history (in lbs)\\n<table><thead><tr><th>Col&nbsp;1</th><th>Col&nbsp;2</th></tr></thead><tbody><tr><td>07-27-23</td><td>9.90</td></tr></tbody></table>\\n\\n<a id=\\'ee61e70b-ecc1-4808-94d8-ce3a0b4b2e55\\'></a>\\n\\n**If Zazzles leaves with a pressure bandage, or \"band-aid\" in place, please be sure to remove this in 15 minutes or when you arrive at home. Failure to do so can result in swelling of the limb, discomfort, and further complications.**\\n\\n<a id=\\'06c591ec-4ae8-4afe-8a27-65641ac8dff4\\'></a>\\n\\nVisit our Online Pharmacy: https://eastpaddenah.securevetsource.com/index.pml\\n\\n<a id=\\'e32b8eb7-fe10-439b-bf63-83c6afb1cf38\\'></a>\\n\\nThank you for choosing East Padden Animal Hospital for all of your pet\\'s medical needs.\\nWe appreciate your confidence in our care and welcome any feedback you may have!', pages=[0, 1], class='full')], grounding={'a24acd30-2126-4953-854b-b4d9635480ea': Grounding(box=GroundingBox(bottom=0.0993993878364563, left=0.648505687713623, right=0.8924366235733032, top=0.05987708270549774), page=0, type='chunkText'), '1d7b248e-2235-43d2-a96f-e80d1b81f195': Grounding(box=GroundingBox(bottom=0.16577720642089844, left=0.11045388877391815, right=0.44505274295806885, top=0.08873892575502396), page=0, type='chunkText'), 'e30625d8-f317-4f36-b401-49e0c5652d4b': Grounding(box=GroundingBox(bottom=0.21208135783672333, left=0.3117828071117401, right=0.6903002262115479, top=0.18910838663578033), page=0, type='chunkText'), '2dbe995f-69d3-4b81-81fd-295e44ab9561': Grounding(box=GroundingBox(bottom=0.3027985692024231, left=0.1118985265493393, right=0.34580886363983154, top=0.2351713329553604), page=0, type='chunkText'), 'a5a6334a-ec82-46cc-a892-e1f7ebf6dce0': Grounding(box=GroundingBox(bottom=0.27267423272132874, left=0.664871335029602, right=0.8875643014907837, top=0.22185461223125458), page=0, type='chunkText'), '1927aed9-a494-4984-b701-25647d2a975e': Grounding(box=GroundingBox(bottom=0.3020061254501343, left=0.6643661260604858, right=0.8162983655929565, top=0.28150027990341187), page=0, type='chunkText'), '40966379-6674-4caf-94c1-a6235cddf187': Grounding(box=GroundingBox(bottom=0.5216607451438904, left=0.10764092206954956, right=0.8923571705818176, top=0.30991435050964355), page=0, type='chunkTable'), '0-1': Grounding(box=GroundingBox(bottom=0.5139402607651178, left=0.11427048708680598, right=0.8864492131005477, top=0.31241545091861417), page=0, type='table'), '0-2': Grounding(box=GroundingBox(bottom=0.3373148198814091, left=0.11427048708680598, right=0.18869426264685618, top=0.31241545091861417), page=0, type='tableCell'), '0-3': Grounding(box=GroundingBox(bottom=0.3373148198814091, left=0.18869426264685618, right=0.29084744970110066, top=0.31241545091861417), page=0, type='tableCell'), '0-4': Grounding(box=GroundingBox(bottom=0.3373148198814091, left=0.29084744970110066, right=0.6656745221062152, top=0.31241545091861417), page=0, type='tableCell'), '0-5': Grounding(box=GroundingBox(bottom=0.3373148198814091, left=0.6656745221062152, right=0.7172467458244327, top=0.31241545091861417), page=0, type='tableCell'), '0-6': Grounding(box=GroundingBox(bottom=0.3373148198814091, left=0.7172467458244327, right=0.8163030225118462, top=0.31241545091861417), page=0, type='tableCell'), '0-7': Grounding(box=GroundingBox(bottom=0.3373148198814091, left=0.8163030225118462, right=0.8863311119491115, top=0.31241545091861417), page=0, type='tableCell'), '0-8': Grounding(box=GroundingBox(bottom=0.40816570972044275, left=0.11427048708680598, right=0.18869426264685618, top=0.3373148198814091), page=0, type='tableCell'), '0-9': Grounding(box=GroundingBox(bottom=0.45371411149524477, left=0.18869426264685618, right=0.8863311119491115, top=0.3373148198814091), page=0, type='tableCell'), '0-a': Grounding(box=GroundingBox(bottom=0.40816570972044275, left=0.8163030225118462, right=0.8863311119491115, top=0.3373148198814091), page=0, type='tableCell'), '0-b': Grounding(box=GroundingBox(bottom=0.45371411149524477, left=0.11427048708680598, right=0.18869426264685618, top=0.40816570972044275), page=0, type='tableCell'), '0-c': Grounding(box=GroundingBox(bottom=0.4857021468444067, left=0.18869426264685618, right=0.8163030225118462, top=0.40816570972044275), page=0, type='tableCell'), '0-d': Grounding(box=GroundingBox(bottom=0.45371411149524477, left=0.7172467458244327, right=0.8163030225118462, top=0.40816570972044275), page=0, type='tableCell'), '0-e': Grounding(box=GroundingBox(bottom=0.45371411149524477, left=0.8163030225118462, right=0.8863311119491115, top=0.40816570972044275), page=0, type='tableCell'), '0-f': Grounding(box=GroundingBox(bottom=0.4857021468444067, left=0.11427048708680598, right=0.18869426264685618, top=0.45371411149524477), page=0, type='tableCell'), '0-g': Grounding(box=GroundingBox(bottom=0.5139402607651178, left=0.18869426264685618, right=0.8163030225118462, top=0.45371411149524477), page=0, type='tableCell'), '0-h': Grounding(box=GroundingBox(bottom=0.4857021468444067, left=0.7172467458244327, right=0.8163030225118462, top=0.45371411149524477), page=0, type='tableCell'), '0-i': Grounding(box=GroundingBox(bottom=0.4857021468444067, left=0.8163030225118462, right=0.8863311119491115, top=0.45371411149524477), page=0, type='tableCell'), '0-j': Grounding(box=GroundingBox(bottom=0.5139402607651178, left=0.11427048708680598, right=0.18869426264685618, top=0.4857021468444067), page=0, type='tableCell'), '0-k': Grounding(box=GroundingBox(bottom=0.5139402607651178, left=0.18869426264685618, right=0.8163030225118462, top=0.4857021468444067), page=0, type='tableCell'), '0-l': Grounding(box=GroundingBox(bottom=0.5139402607651178, left=0.7172467458244327, right=0.8163030225118462, top=0.4857021468444067), page=0, type='tableCell'), '0-m': Grounding(box=GroundingBox(bottom=0.5139402607651178, left=0.8163030225118462, right=0.8863311119491115, top=0.4857021468444067), page=0, type='tableCell'), '16e0a4ce-ba4f-4980-bace-30618d82186a': Grounding(box=GroundingBox(bottom=0.5566332340240479, left=0.11078664660453796, right=0.7374686002731323, top=0.5237376689910889), page=0, type='chunkText'), 'a4180b9b-4961-466c-aab4-6564ef737bc0': Grounding(box=GroundingBox(bottom=0.5911219716072083, left=0.1110023558139801, right=0.8052910566329956, top=0.5554140210151672), page=0, type='chunkText'), '19ea1947-1465-4e26-850b-1d5f2562c0e9': Grounding(box=GroundingBox(bottom=0.6232918500900269, left=0.6430811285972595, right=0.8892853856086731, top=0.5954693555831909), page=0, type='chunkAttestation'), 'e77958b1-73be-40e6-b521-6106c0a2b56b': Grounding(box=GroundingBox(bottom=0.7013563513755798, left=0.11261692643165588, right=0.8897533416748047, top=0.6369664072990417), page=0, type='chunkTable'), '0-n': Grounding(box=GroundingBox(bottom=0.6970955435928801, left=0.1162688888807413, right=0.8856814531255743, top=0.6388885130075783), page=0, type='table'), '0-o': Grounding(box=GroundingBox(bottom=0.6626648680294807, left=0.1162688888807413, right=0.2416973590900291, top=0.6388885130075783), page=0, type='tableCell'), '0-p': Grounding(box=GroundingBox(bottom=0.6626648680294807, left=0.2416973590900291, right=0.3476043287384458, top=0.6388885130075783), page=0, type='tableCell'), '0-q': Grounding(box=GroundingBox(bottom=0.6626648680294807, left=0.3476043287384458, right=0.44102699444780047, top=0.6388885130075783), page=0, type='tableCell'), '0-r': Grounding(box=GroundingBox(bottom=0.6626648680294807, left=0.44102699444780047, right=0.5582090367368249, top=0.6388885130075783), page=0, type='tableCell'), '0-s': Grounding(box=GroundingBox(bottom=0.6626648680294807, left=0.5582090367368249, right=0.8853292750189627, top=0.6388885130075783), page=0, type='tableCell'), '0-t': Grounding(box=GroundingBox(bottom=0.678927596544284, left=0.1162688888807413, right=0.2416973590900291, top=0.6626648680294807), page=0, type='tableCell'), '0-u': Grounding(box=GroundingBox(bottom=0.678927596544284, left=0.2416973590900291, right=0.3476043287384458, top=0.6626648680294807), page=0, type='tableCell'), '0-v': Grounding(box=GroundingBox(bottom=0.678927596544284, left=0.3476043287384458, right=0.44102699444780047, top=0.6626648680294807), page=0, type='tableCell'), '0-w': Grounding(box=GroundingBox(bottom=0.678927596544284, left=0.44102699444780047, right=0.5582090367368249, top=0.6626648680294807), page=0, type='tableCell'), '0-x': Grounding(box=GroundingBox(bottom=0.678927596544284, left=0.5582090367368249, right=0.8853292750189627, top=0.6626648680294807), page=0, type='tableCell'), '0-y': Grounding(box=GroundingBox(bottom=0.6970955435928801, left=0.1162688888807413, right=0.2416973590900291, top=0.678927596544284), page=0, type='tableCell'), '0-z': Grounding(box=GroundingBox(bottom=0.6970955435928801, left=0.2416973590900291, right=0.3476043287384458, top=0.678927596544284), page=0, type='tableCell'), '0-A': Grounding(box=GroundingBox(bottom=0.6970955435928801, left=0.3476043287384458, right=0.44102699444780047, top=0.678927596544284), page=0, type='tableCell'), '0-B': Grounding(box=GroundingBox(bottom=0.6970955435928801, left=0.44102699444780047, right=0.5582090367368249, top=0.678927596544284), page=0, type='tableCell'), '0-C': Grounding(box=GroundingBox(bottom=0.6970955435928801, left=0.5582090367368249, right=0.8853292750189627, top=0.678927596544284), page=0, type='tableCell'), '538918d4-16bf-49b0-a692-45eeef120446': Grounding(box=GroundingBox(bottom=0.7442029118537903, left=0.10851822793483734, right=0.4471859931945801, top=0.7024720311164856), page=0, type='chunkText'), '608e352a-2df9-4101-881a-74aab5116be0': Grounding(box=GroundingBox(bottom=0.8873994946479797, left=0.10837957262992859, right=0.6389297246932983, top=0.7772925496101379), page=0, type='chunkTable'), '0-D': Grounding(box=GroundingBox(bottom=0.8818731711019439, left=0.11670183753173508, right=0.6291943164102065, top=0.800500134531994), page=0, type='table'), '0-E': Grounding(box=GroundingBox(bottom=0.8208797787210216, left=0.11670183753173508, right=0.21012732703468728, top=0.800500134531994), page=0, type='tableCell'), '0-F': Grounding(box=GroundingBox(bottom=0.8208797787210216, left=0.21012732703468728, right=0.4685189062633306, top=0.800500134531994), page=0, type='tableCell'), '0-G': Grounding(box=GroundingBox(bottom=0.8208797787210216, left=0.4685189062633306, right=0.6213044411925779, top=0.800500134531994), page=0, type='tableCell'), '0-H': Grounding(box=GroundingBox(bottom=0.8354443668639249, left=0.11670183753173508, right=0.21012732703468728, top=0.8208797787210216), page=0, type='tableCell'), '0-I': Grounding(box=GroundingBox(bottom=0.8354443668639249, left=0.21012732703468728, right=0.4685189062633306, top=0.8208797787210216), page=0, type='tableCell'), '0-J': Grounding(box=GroundingBox(bottom=0.8354443668639249, left=0.4685189062633306, right=0.6213044411925779, top=0.8208797787210216), page=0, type='tableCell'), '0-K': Grounding(box=GroundingBox(bottom=0.8513053250307223, left=0.11670183753173508, right=0.21012732703468728, top=0.8354443668639249), page=0, type='tableCell'), '0-L': Grounding(box=GroundingBox(bottom=0.8513053250307223, left=0.21012732703468728, right=0.4685189062633306, top=0.8354443668639249), page=0, type='tableCell'), '0-M': Grounding(box=GroundingBox(bottom=0.8513053250307223, left=0.4685189062633306, right=0.6213044411925779, top=0.8354443668639249), page=0, type='tableCell'), '0-N': Grounding(box=GroundingBox(bottom=0.865884656695556, left=0.11670183753173508, right=0.21012732703468728, top=0.8513053250307223), page=0, type='tableCell'), '0-O': Grounding(box=GroundingBox(bottom=0.865884656695556, left=0.21012732703468728, right=0.4685189062633306, top=0.8513053250307223), page=0, type='tableCell'), '0-P': Grounding(box=GroundingBox(bottom=0.865884656695556, left=0.4685189062633306, right=0.6213044411925779, top=0.8513053250307223), page=0, type='tableCell'), '0-Q': Grounding(box=GroundingBox(bottom=0.8818731711019439, left=0.11670183753173508, right=0.21012732703468728, top=0.865884656695556), page=0, type='tableCell'), '0-R': Grounding(box=GroundingBox(bottom=0.8818731711019439, left=0.21012732703468728, right=0.4685189062633306, top=0.865884656695556), page=0, type='tableCell'), '0-S': Grounding(box=GroundingBox(bottom=0.8818731711019439, left=0.4685189062633306, right=0.6213044411925779, top=0.865884656695556), page=0, type='tableCell'), '99d8aea3-3c3b-420b-92cc-535410a03e97': Grounding(box=GroundingBox(bottom=0.14777608215808868, left=0.11084091663360596, right=0.6324667930603027, top=0.0872635543346405), page=1, type='chunkTable'), '1-1': Grounding(box=GroundingBox(bottom=0.14777571065483297, left=0.11637239516630526, right=0.6241128338359019, top=0.09044621168043149), page=1, type='table'), '1-2': Grounding(box=GroundingBox(bottom=0.14777571065483297, left=0.11637239516630526, right=0.6241999517287482, top=0.09044621168043149), page=1, type='tableCell'), '1-3': Grounding(box=GroundingBox(bottom=0.10938928013661053, left=0.4594571248631212, right=0.6241999517287482, top=0.09044621168043149), page=1, type='tableCell'), '1-4': Grounding(box=GroundingBox(bottom=0.14777571065483297, left=0.11637239516630526, right=0.2198881817425029, top=0.10938928013661053), page=1, type='tableCell'), '1-5': Grounding(box=GroundingBox(bottom=0.14777571065483297, left=0.2198881817425029, right=0.4594571248631212, top=0.10938928013661053), page=1, type='tableCell'), '1-6': Grounding(box=GroundingBox(bottom=0.14777571065483297, left=0.4594571248631212, right=0.6241999517287482, top=0.10938928013661053), page=1, type='tableCell'), '9da7956d-570d-4a64-a91c-2306ef0eb49e': Grounding(box=GroundingBox(bottom=0.1931646764278412, left=0.11036616563796997, right=0.30907732248306274, top=0.17099395394325256), page=1, type='chunkText'), 'ec684082-e03b-441c-abb1-85f9860e827f': Grounding(box=GroundingBox(bottom=0.26389002799987793, left=0.1408413052558899, right=0.7300625443458557, top=0.20298194885253906), page=1, type='chunkText'), 'ce470258-2a24-4709-8ce8-49326859a7ff': Grounding(box=GroundingBox(bottom=0.3587850332260132, left=0.14142760634422302, right=0.7522639036178589, top=0.2715039849281311), page=1, type='chunkText'), 'eb8a329f-d1c7-4eaa-9baa-01857fcab43f': Grounding(box=GroundingBox(bottom=0.4096997380256653, left=0.1111437976360321, right=0.5680332183837891, top=0.3664489984512329), page=1, type='chunkTable'), 'ee61e70b-ecc1-4808-94d8-ce3a0b4b2e55': Grounding(box=GroundingBox(bottom=0.4903180003166199, left=0.15780320763587952, right=0.7299712896347046, top=0.4449028968811035), page=1, type='chunkText'), '06c591ec-4ae8-4afe-8a27-65641ac8dff4': Grounding(box=GroundingBox(bottom=0.5187317132949829, left=0.1593550145626068, right=0.6983004808425903, top=0.49839553236961365), page=1, type='chunkText'), 'e32b8eb7-fe10-439b-bf63-83c6afb1cf38': Grounding(box=GroundingBox(bottom=0.5602798461914062, left=0.15954184532165527, right=0.7438620924949646, top=0.5253926515579224), page=1, type='chunkText')}),\n",
       "  ExtractResponse(extraction={'invoice_info': {'invoice_date_raw': '08-18-23', 'invoice_date': '2023-08-18', 'invoice_number': '412824', 'order_date': None, 'po_number': None, 'status': None}, 'customer_info': {'sold_to_name': 'Andrea Kropp', 'sold_to_address': '227 N 5th Ave\\nPO Box 1168\\nRidgefield, WA 98642', 'customer_email': None}, 'company_info': {'supplier_name': 'East Padden Animal Hospital', 'supplier_address': '15721 NE Fourth Plain Blvd.\\nVancouver, WA 98682', 'representative': None, 'email': None, 'phone': '360-892-1500', 'gstin': None, 'pan': None}, 'order_details': {'payment_terms': None, 'ship_via': None, 'ship_date': None, 'tracking_number': None}, 'totals_summary': {'currency': None, 'total_due_raw': '90.53', 'total_due': 90.53, 'subtotal': 87.0, 'tax': 3.53, 'shipping': None, 'handling_fee': None}, 'line_items': [{'line_number': None, 'sku': None, 'description': 'Zazzles 2 Selarid Feline 5-15lb Revolution Ge* Apply contents of one tube (follow label directions for administration technique) to skin once monthly to prevent fleas, roundworms, hookworms, heartworms, and ear mites. Wait at least 2 hours after application for bathing.', 'quantity': 2, 'unit_price': None, 'price': None, 'amount': 42.0, 'total': None}, {'line_number': None, 'sku': None, 'description': '1 HCP Combo Vaccine (1 Year) The HCP vaccine was given under the skin of the right front leg.', 'quantity': 1, 'unit_price': None, 'price': None, 'amount': 45.0, 'total': None}, {'line_number': None, 'sku': None, 'description': '1 Technician Appointment', 'quantity': 1, 'unit_price': None, 'price': None, 'amount': 0.0, 'total': None}, {'line_number': None, 'sku': None, 'description': 'Visa payment', 'quantity': None, 'unit_price': None, 'price': None, 'amount': -90.53, 'total': None}]}, extraction_metadata={'invoice_info': {'invoice_date_raw': {'value': '08-18-23', 'references': ['a5a6334a-ec82-46cc-a892-e1f7ebf6dce0']}, 'invoice_date': {'value': '2023-08-18', 'references': ['a5a6334a-ec82-46cc-a892-e1f7ebf6dce0']}, 'invoice_number': {'value': '412824', 'references': ['1927aed9-a494-4984-b701-25647d2a975e']}, 'order_date': {'value': None, 'references': []}, 'po_number': {'value': None, 'references': []}, 'status': {'value': None, 'references': []}}, 'customer_info': {'sold_to_name': {'value': 'Andrea Kropp', 'references': ['2dbe995f-69d3-4b81-81fd-295e44ab9561']}, 'sold_to_address': {'value': '227 N 5th Ave\\nPO Box 1168\\nRidgefield, WA 98642', 'references': ['2dbe995f-69d3-4b81-81fd-295e44ab9561']}, 'customer_email': {'value': None, 'references': []}}, 'company_info': {'supplier_name': {'value': 'East Padden Animal Hospital', 'references': ['1d7b248e-2235-43d2-a96f-e80d1b81f195']}, 'supplier_address': {'value': '15721 NE Fourth Plain Blvd.\\nVancouver, WA 98682', 'references': ['1d7b248e-2235-43d2-a96f-e80d1b81f195']}, 'representative': {'value': None, 'references': []}, 'email': {'value': None, 'references': []}, 'phone': {'value': '360-892-1500', 'references': ['1d7b248e-2235-43d2-a96f-e80d1b81f195']}, 'gstin': {'value': None, 'references': []}, 'pan': {'value': None, 'references': []}}, 'order_details': {'payment_terms': {'value': None, 'references': []}, 'ship_via': {'value': None, 'references': []}, 'ship_date': {'value': None, 'references': []}, 'tracking_number': {'value': None, 'references': []}}, 'totals_summary': {'currency': {'value': None, 'references': []}, 'total_due_raw': {'value': '90.53', 'references': ['538918d4-16bf-49b0-a692-45eeef120446']}, 'total_due': {'value': 90.53, 'references': ['538918d4-16bf-49b0-a692-45eeef120446']}, 'subtotal': {'value': 87.0, 'references': ['0-u']}, 'tax': {'value': 3.53, 'references': ['0-v']}, 'shipping': {'value': None, 'references': []}, 'handling_fee': {'value': None, 'references': []}}, 'line_items': [{'line_number': {'value': None, 'references': []}, 'sku': {'value': None, 'references': []}, 'description': {'value': 'Zazzles 2 Selarid Feline 5-15lb Revolution Ge* Apply contents of one tube (follow label directions for administration technique) to skin once monthly to prevent fleas, roundworms, hookworms, heartworms, and ear mites. Wait at least 2 hours after application for bathing.', 'references': ['0-9']}, 'quantity': {'value': 2, 'references': ['0-9']}, 'unit_price': {'value': None, 'references': []}, 'price': {'value': None, 'references': []}, 'amount': {'value': 42.0, 'references': ['0-a']}, 'total': {'value': None, 'references': []}}, {'line_number': {'value': None, 'references': []}, 'sku': {'value': None, 'references': []}, 'description': {'value': '1 HCP Combo Vaccine (1 Year) The HCP vaccine was given under the skin of the right front leg.', 'references': ['0-c']}, 'quantity': {'value': 1, 'references': ['0-c']}, 'unit_price': {'value': None, 'references': []}, 'price': {'value': None, 'references': []}, 'amount': {'value': 45.0, 'references': ['0-e']}, 'total': {'value': None, 'references': []}}, {'line_number': {'value': None, 'references': []}, 'sku': {'value': None, 'references': []}, 'description': {'value': '1 Technician Appointment', 'references': ['0-g']}, 'quantity': {'value': 1, 'references': ['0-g']}, 'unit_price': {'value': None, 'references': []}, 'price': {'value': None, 'references': []}, 'amount': {'value': 0.0, 'references': ['0-i']}, 'total': {'value': None, 'references': []}}, {'line_number': {'value': None, 'references': []}, 'sku': {'value': None, 'references': []}, 'description': {'value': 'Visa payment', 'references': ['0-k']}, 'quantity': {'value': None, 'references': []}, 'unit_price': {'value': None, 'references': []}, 'price': {'value': None, 'references': []}, 'amount': {'value': -90.53, 'references': ['0-m']}, 'total': {'value': None, 'references': []}}]}, metadata=Metadata(credit_usage=2.9, duration_ms=6991, filename='upload', job_id='roe7cknvobmf7znafr6f63jvf', org_id='u3z0u1hn4acl', version='extract-20250930'))),\n",
       " (ParseResponse(chunks=[Chunk(id='7e376974-b72e-4f94-bddc-25b2f9858525', grounding=ChunkGrounding(box=ChunkGroundingBox(bottom=0.0683220848441124, left=0.06346899271011353, right=0.31800419092178345, top=0.013747559860348701), page=0), markdown='<a id=\\'7e376974-b72e-4f94-bddc-25b2f9858525\\'></a>\\n\\n<::logo: Walmart\\nWalmart\\nThe logo features the word \"Walmart\" in blue, followed by a yellow starburst or spark symbol.::>', type='logo'), Chunk(id='1c38904f-e556-4762-8bfa-a5463b29ce92', grounding=ChunkGrounding(box=ChunkGroundingBox(bottom=0.06546010822057724, left=0.7425883412361145, right=0.9319116473197937, top=0.02914281375706196), page=0), markdown=\"<a id='1c38904f-e556-4762-8bfa-a5463b29ce92'></a>\\n\\nINVOICE\", type='text'), Chunk(id='113e504d-8c54-4bf6-a6ba-a661fb85e4df', grounding=ChunkGrounding(box=ChunkGroundingBox(bottom=0.09021911025047302, left=0.8900976181030273, right=0.924933671951294, top=0.06961585581302643), page=0), markdown=\"<a id='113e504d-8c54-4bf6-a6ba-a661fb85e4df'></a>\\n\\n# 1\", type='text'), Chunk(id='89d0dd6b-d9d4-4966-a347-605a1a0e8cef', grounding=ChunkGrounding(box=ChunkGroundingBox(bottom=0.09710293263196945, left=0.08596646040678024, right=0.21533679962158203, top=0.07731985300779343), page=0), markdown=\"<a id='89d0dd6b-d9d4-4966-a347-605a1a0e8cef'></a>\\n\\nWalmart Invoice\", type='text'), Chunk(id='d1541e85-622c-4e62-b3ef-6886c51639a0', grounding=ChunkGrounding(box=ChunkGroundingBox(bottom=0.22299142181873322, left=0.08346673846244812, right=0.2409939169883728, top=0.13726027309894562), page=0), markdown=\"<a id='d1541e85-622c-4e62-b3ef-6886c51639a0'></a>\\n\\nBill To:\\nMansoer Walizada\\n10517 San Vincente\\nAve, South Gate, CA\\n90280, USA\", type='text'), Chunk(id='26b13fb7-a3a1-40d8-b90e-93121b4cb841', grounding=ChunkGrounding(box=ChunkGroundingBox(bottom=0.2224615514278412, left=0.29656487703323364, right=0.4537496566772461, top=0.13848578929901123), page=0), markdown=\"<a id='26b13fb7-a3a1-40d8-b90e-93121b4cb841'></a>\\n\\nShip To:\\nMansoer Walizada\\n10517 San Vincente\\nAve, South Gate, CA\\n90280, USA\", type='text'), Chunk(id='86325e05-b872-44c0-a97c-850d0e6c5f79', grounding=ChunkGrounding(box=ChunkGroundingBox(bottom=0.24315859377384186, left=0.5667673349380493, right=0.9301954507827759, top=0.13229094445705414), page=0), markdown=\"<a id='86325e05-b872-44c0-a97c-850d0e6c5f79'></a>\\n\\nDate: Mar 20, 2023\\n\\nPayment Terms: MasterCard 8453\\n\\nDue Date: Mar 20, 2023\\n\\n**Balance Due:** 0,00 US$\", type='text'), Chunk(id='09faf306-e48d-472c-964f-0ea8ce614b90', grounding=ChunkGrounding(box=ChunkGroundingBox(bottom=0.48624157905578613, left=0.05590417981147766, right=0.9426224231719971, top=0.2871524691581726), page=0), markdown='<a id=\\'09faf306-e48d-472c-964f-0ea8ce614b90\\'></a>\\n\\n<table id=\"0-1\">\\n<tr><td id=\"0-2\">Item</td><td id=\"0-3\">Quantity</td><td id=\"0-4\">Rate</td><td id=\"0-5\">Amount</td></tr>\\n<tr><td id=\"0-6\">Lenovo ThinkPad X1 Carbon Gen 10 21CB - 180-degree hinge</td><td id=\"0-7\">1</td><td id=\"0-8\">1 529,94 US$</td><td id=\"0-9\">1 529,94 US$</td></tr>\\n<tr><td id=\"0-a\">design - Intel Core i7 1260P/2.1 GHz - Evo - Win 10 Pro 64-bit</td><td id=\"0-b\"></td><td id=\"0-c\"></td><td id=\"0-d\"></td></tr>\\n<tr><td id=\"0-e\">(includes Win 11 Pro License) - Intel Iris Xe Graphics - 16 GB RAM -</td><td id=\"0-f\"></td><td id=\"0-g\"></td><td id=\"0-h\"></td></tr>\\n<tr><td id=\"0-i\">512 GB SSD TCG Opal Encryption 2, NVMe, Performance - 14\" IPS</td><td id=\"0-j\"></td><td id=\"0-k\"></td><td id=\"0-l\"></td></tr>\\n<tr><td id=\"0-m\">touchscreen 1920 x 1200 - 802.11a/b/g/n/ac/ax (Wi-Fi 6E) - deep</td><td id=\"0-n\"></td><td id=\"0-o\"></td><td id=\"0-p\"></td></tr>\\n<tr><td id=\"0-q\">black paint - kbd: US - with 3 Years Lenovo Premier Support + 3</td><td id=\"0-r\"></td><td id=\"0-s\"></td><td id=\"0-t\"></td></tr>\\n<tr><td id=\"0-u\">Years Lenovo Sealed Battery Add On</td><td id=\"0-v\"></td><td id=\"0-w\"></td><td id=\"0-x\"></td></tr>\\n<tr><td id=\"0-y\">Serial Number: PF4AJSC9</td><td id=\"0-z\"></td><td id=\"0-A\"></td><td id=\"0-B\"></td></tr>\\n</table>', type='table'), Chunk(id='3098a6e9-5bb2-4473-8f39-52e5966ee385', grounding=ChunkGrounding(box=ChunkGroundingBox(bottom=0.6456047296524048, left=0.6456890106201172, right=0.9273192882537842, top=0.5349776744842529), page=0), markdown=\"<a id='3098a6e9-5bb2-4473-8f39-52e5966ee385'></a>\\n\\nSubtotal: 1 529,94 US$\\nTax (7.25%): 110,92 US$\\nTotal: 1 640,86 US$\\nAmount Paid: 1 640,86 US$\", type='text'), Chunk(id='dd2fff85-befb-4923-a342-8666fd9a2f20', grounding=ChunkGrounding(box=ChunkGroundingBox(bottom=0.7329089045524597, left=0.0842241644859314, right=0.80986487865448, top=0.6895976662635803), page=0), markdown=\"<a id='dd2fff85-befb-4923-a342-8666fd9a2f20'></a>\\n\\nNotes:\\nTo ensure we are able to help you as best we can, please include your reference number: HEUQ5GZ6R\", type='text'), Chunk(id='b3c5f36d-81b4-45dc-8569-4e672079b5ae', grounding=ChunkGrounding(box=ChunkGroundingBox(bottom=0.7876304388046265, left=0.08418288826942444, right=0.3564498722553253, top=0.7462542057037354), page=0), markdown=\"<a id='b3c5f36d-81b4-45dc-8569-4e672079b5ae'></a>\\n\\nTerms:\\n© 2023 Walmart. All Rights Reserved.\", type='text')], markdown='<a id=\\'7e376974-b72e-4f94-bddc-25b2f9858525\\'></a>\\n\\n<::logo: Walmart\\nWalmart\\nThe logo features the word \"Walmart\" in blue, followed by a yellow starburst or spark symbol.::>\\n\\n<a id=\\'1c38904f-e556-4762-8bfa-a5463b29ce92\\'></a>\\n\\nINVOICE\\n\\n<a id=\\'113e504d-8c54-4bf6-a6ba-a661fb85e4df\\'></a>\\n\\n# 1\\n\\n<a id=\\'89d0dd6b-d9d4-4966-a347-605a1a0e8cef\\'></a>\\n\\nWalmart Invoice\\n\\n<a id=\\'d1541e85-622c-4e62-b3ef-6886c51639a0\\'></a>\\n\\nBill To:\\nMansoer Walizada\\n10517 San Vincente\\nAve, South Gate, CA\\n90280, USA\\n\\n<a id=\\'26b13fb7-a3a1-40d8-b90e-93121b4cb841\\'></a>\\n\\nShip To:\\nMansoer Walizada\\n10517 San Vincente\\nAve, South Gate, CA\\n90280, USA\\n\\n<a id=\\'86325e05-b872-44c0-a97c-850d0e6c5f79\\'></a>\\n\\nDate: Mar 20, 2023\\n\\nPayment Terms: MasterCard 8453\\n\\nDue Date: Mar 20, 2023\\n\\n**Balance Due:** 0,00 US$\\n\\n<a id=\\'09faf306-e48d-472c-964f-0ea8ce614b90\\'></a>\\n\\n<table id=\"0-1\">\\n<tr><td id=\"0-2\">Item</td><td id=\"0-3\">Quantity</td><td id=\"0-4\">Rate</td><td id=\"0-5\">Amount</td></tr>\\n<tr><td id=\"0-6\">Lenovo ThinkPad X1 Carbon Gen 10 21CB - 180-degree hinge</td><td id=\"0-7\">1</td><td id=\"0-8\">1 529,94 US$</td><td id=\"0-9\">1 529,94 US$</td></tr>\\n<tr><td id=\"0-a\">design - Intel Core i7 1260P/2.1 GHz - Evo - Win 10 Pro 64-bit</td><td id=\"0-b\"></td><td id=\"0-c\"></td><td id=\"0-d\"></td></tr>\\n<tr><td id=\"0-e\">(includes Win 11 Pro License) - Intel Iris Xe Graphics - 16 GB RAM -</td><td id=\"0-f\"></td><td id=\"0-g\"></td><td id=\"0-h\"></td></tr>\\n<tr><td id=\"0-i\">512 GB SSD TCG Opal Encryption 2, NVMe, Performance - 14\" IPS</td><td id=\"0-j\"></td><td id=\"0-k\"></td><td id=\"0-l\"></td></tr>\\n<tr><td id=\"0-m\">touchscreen 1920 x 1200 - 802.11a/b/g/n/ac/ax (Wi-Fi 6E) - deep</td><td id=\"0-n\"></td><td id=\"0-o\"></td><td id=\"0-p\"></td></tr>\\n<tr><td id=\"0-q\">black paint - kbd: US - with 3 Years Lenovo Premier Support + 3</td><td id=\"0-r\"></td><td id=\"0-s\"></td><td id=\"0-t\"></td></tr>\\n<tr><td id=\"0-u\">Years Lenovo Sealed Battery Add On</td><td id=\"0-v\"></td><td id=\"0-w\"></td><td id=\"0-x\"></td></tr>\\n<tr><td id=\"0-y\">Serial Number: PF4AJSC9</td><td id=\"0-z\"></td><td id=\"0-A\"></td><td id=\"0-B\"></td></tr>\\n</table>\\n\\n<a id=\\'3098a6e9-5bb2-4473-8f39-52e5966ee385\\'></a>\\n\\nSubtotal: 1 529,94 US$\\nTax (7.25%): 110,92 US$\\nTotal: 1 640,86 US$\\nAmount Paid: 1 640,86 US$\\n\\n<a id=\\'dd2fff85-befb-4923-a342-8666fd9a2f20\\'></a>\\n\\nNotes:\\nTo ensure we are able to help you as best we can, please include your reference number: HEUQ5GZ6R\\n\\n<a id=\\'b3c5f36d-81b4-45dc-8569-4e672079b5ae\\'></a>\\n\\nTerms:\\n© 2023 Walmart. All Rights Reserved.', metadata=Metadata(credit_usage=3.0, duration_ms=7068, filename='invoice_16.pdf', job_id='sq2mgta7pmfj0d5vwktfql3ug', org_id='u3z0u1hn4acl', page_count=1, version='dpt-2-20250919'), splits=[Split(chunks=['7e376974-b72e-4f94-bddc-25b2f9858525', '1c38904f-e556-4762-8bfa-a5463b29ce92', '113e504d-8c54-4bf6-a6ba-a661fb85e4df', '89d0dd6b-d9d4-4966-a347-605a1a0e8cef', 'd1541e85-622c-4e62-b3ef-6886c51639a0', '26b13fb7-a3a1-40d8-b90e-93121b4cb841', '86325e05-b872-44c0-a97c-850d0e6c5f79', '09faf306-e48d-472c-964f-0ea8ce614b90', '3098a6e9-5bb2-4473-8f39-52e5966ee385', 'dd2fff85-befb-4923-a342-8666fd9a2f20', 'b3c5f36d-81b4-45dc-8569-4e672079b5ae'], class_='full', identifier='full', markdown='<a id=\\'7e376974-b72e-4f94-bddc-25b2f9858525\\'></a>\\n\\n<::logo: Walmart\\nWalmart\\nThe logo features the word \"Walmart\" in blue, followed by a yellow starburst or spark symbol.::>\\n\\n<a id=\\'1c38904f-e556-4762-8bfa-a5463b29ce92\\'></a>\\n\\nINVOICE\\n\\n<a id=\\'113e504d-8c54-4bf6-a6ba-a661fb85e4df\\'></a>\\n\\n# 1\\n\\n<a id=\\'89d0dd6b-d9d4-4966-a347-605a1a0e8cef\\'></a>\\n\\nWalmart Invoice\\n\\n<a id=\\'d1541e85-622c-4e62-b3ef-6886c51639a0\\'></a>\\n\\nBill To:\\nMansoer Walizada\\n10517 San Vincente\\nAve, South Gate, CA\\n90280, USA\\n\\n<a id=\\'26b13fb7-a3a1-40d8-b90e-93121b4cb841\\'></a>\\n\\nShip To:\\nMansoer Walizada\\n10517 San Vincente\\nAve, South Gate, CA\\n90280, USA\\n\\n<a id=\\'86325e05-b872-44c0-a97c-850d0e6c5f79\\'></a>\\n\\nDate: Mar 20, 2023\\n\\nPayment Terms: MasterCard 8453\\n\\nDue Date: Mar 20, 2023\\n\\n**Balance Due:** 0,00 US$\\n\\n<a id=\\'09faf306-e48d-472c-964f-0ea8ce614b90\\'></a>\\n\\n<table id=\"0-1\">\\n<tr><td id=\"0-2\">Item</td><td id=\"0-3\">Quantity</td><td id=\"0-4\">Rate</td><td id=\"0-5\">Amount</td></tr>\\n<tr><td id=\"0-6\">Lenovo ThinkPad X1 Carbon Gen 10 21CB - 180-degree hinge</td><td id=\"0-7\">1</td><td id=\"0-8\">1 529,94 US$</td><td id=\"0-9\">1 529,94 US$</td></tr>\\n<tr><td id=\"0-a\">design - Intel Core i7 1260P/2.1 GHz - Evo - Win 10 Pro 64-bit</td><td id=\"0-b\"></td><td id=\"0-c\"></td><td id=\"0-d\"></td></tr>\\n<tr><td id=\"0-e\">(includes Win 11 Pro License) - Intel Iris Xe Graphics - 16 GB RAM -</td><td id=\"0-f\"></td><td id=\"0-g\"></td><td id=\"0-h\"></td></tr>\\n<tr><td id=\"0-i\">512 GB SSD TCG Opal Encryption 2, NVMe, Performance - 14\" IPS</td><td id=\"0-j\"></td><td id=\"0-k\"></td><td id=\"0-l\"></td></tr>\\n<tr><td id=\"0-m\">touchscreen 1920 x 1200 - 802.11a/b/g/n/ac/ax (Wi-Fi 6E) - deep</td><td id=\"0-n\"></td><td id=\"0-o\"></td><td id=\"0-p\"></td></tr>\\n<tr><td id=\"0-q\">black paint - kbd: US - with 3 Years Lenovo Premier Support + 3</td><td id=\"0-r\"></td><td id=\"0-s\"></td><td id=\"0-t\"></td></tr>\\n<tr><td id=\"0-u\">Years Lenovo Sealed Battery Add On</td><td id=\"0-v\"></td><td id=\"0-w\"></td><td id=\"0-x\"></td></tr>\\n<tr><td id=\"0-y\">Serial Number: PF4AJSC9</td><td id=\"0-z\"></td><td id=\"0-A\"></td><td id=\"0-B\"></td></tr>\\n</table>\\n\\n<a id=\\'3098a6e9-5bb2-4473-8f39-52e5966ee385\\'></a>\\n\\nSubtotal: 1 529,94 US$\\nTax (7.25%): 110,92 US$\\nTotal: 1 640,86 US$\\nAmount Paid: 1 640,86 US$\\n\\n<a id=\\'dd2fff85-befb-4923-a342-8666fd9a2f20\\'></a>\\n\\nNotes:\\nTo ensure we are able to help you as best we can, please include your reference number: HEUQ5GZ6R\\n\\n<a id=\\'b3c5f36d-81b4-45dc-8569-4e672079b5ae\\'></a>\\n\\nTerms:\\n© 2023 Walmart. All Rights Reserved.', pages=[0], class='full')], grounding={'7e376974-b72e-4f94-bddc-25b2f9858525': Grounding(box=GroundingBox(bottom=0.0683220848441124, left=0.06346899271011353, right=0.31800419092178345, top=0.013747559860348701), page=0, type='chunkLogo'), '1c38904f-e556-4762-8bfa-a5463b29ce92': Grounding(box=GroundingBox(bottom=0.06546010822057724, left=0.7425883412361145, right=0.9319116473197937, top=0.02914281375706196), page=0, type='chunkText'), '113e504d-8c54-4bf6-a6ba-a661fb85e4df': Grounding(box=GroundingBox(bottom=0.09021911025047302, left=0.8900976181030273, right=0.924933671951294, top=0.06961585581302643), page=0, type='chunkText'), '89d0dd6b-d9d4-4966-a347-605a1a0e8cef': Grounding(box=GroundingBox(bottom=0.09710293263196945, left=0.08596646040678024, right=0.21533679962158203, top=0.07731985300779343), page=0, type='chunkText'), 'd1541e85-622c-4e62-b3ef-6886c51639a0': Grounding(box=GroundingBox(bottom=0.22299142181873322, left=0.08346673846244812, right=0.2409939169883728, top=0.13726027309894562), page=0, type='chunkText'), '26b13fb7-a3a1-40d8-b90e-93121b4cb841': Grounding(box=GroundingBox(bottom=0.2224615514278412, left=0.29656487703323364, right=0.4537496566772461, top=0.13848578929901123), page=0, type='chunkText'), '86325e05-b872-44c0-a97c-850d0e6c5f79': Grounding(box=GroundingBox(bottom=0.24315859377384186, left=0.5667673349380493, right=0.9301954507827759, top=0.13229094445705414), page=0, type='chunkText'), '09faf306-e48d-472c-964f-0ea8ce614b90': Grounding(box=GroundingBox(bottom=0.48624157905578613, left=0.05590417981147766, right=0.9426224231719971, top=0.2871524691581726), page=0, type='chunkTable'), '0-1': Grounding(box=GroundingBox(bottom=0.48468288459335795, left=0.061122340662983346, right=0.9388437846844901, top=0.29092126777754934), page=0, type='table'), '0-2': Grounding(box=GroundingBox(bottom=0.3173370073239976, left=0.061122340662983346, right=0.5815884570997856, top=0.29092126777754934), page=0, type='tableCell'), '0-3': Grounding(box=GroundingBox(bottom=0.3173370073239976, left=0.5815884570997856, right=0.6687521028974412, top=0.29092126777754934), page=0, type='tableCell'), '0-4': Grounding(box=GroundingBox(bottom=0.3173370073239976, left=0.6687521028974412, right=0.8040507638486627, top=0.29092126777754934), page=0, type='tableCell'), '0-5': Grounding(box=GroundingBox(bottom=0.3173370073239976, left=0.8040507638486627, right=0.939074644517671, top=0.29092126777754934), page=0, type='tableCell'), '0-6': Grounding(box=GroundingBox(bottom=0.34328122869776223, left=0.061122340662983346, right=0.5815884570997856, top=0.3173370073239976), page=0, type='tableCell'), '0-7': Grounding(box=GroundingBox(bottom=0.34328122869776223, left=0.5815884570997856, right=0.6687521028974412, top=0.3173370073239976), page=0, type='tableCell'), '0-8': Grounding(box=GroundingBox(bottom=0.34328122869776223, left=0.6687521028974412, right=0.8040507638486627, top=0.3173370073239976), page=0, type='tableCell'), '0-9': Grounding(box=GroundingBox(bottom=0.34328122869776223, left=0.8040507638486627, right=0.939074644517671, top=0.3173370073239976), page=0, type='tableCell'), '0-a': Grounding(box=GroundingBox(bottom=0.36340169094833996, left=0.061122340662983346, right=0.5815884570997856, top=0.34328122869776223), page=0, type='tableCell'), '0-b': Grounding(box=GroundingBox(bottom=0.36340169094833996, left=0.5815884570997856, right=0.6687521028974412, top=0.34328122869776223), page=0, type='tableCell'), '0-c': Grounding(box=GroundingBox(bottom=0.36340169094833996, left=0.6687521028974412, right=0.8040507638486627, top=0.34328122869776223), page=0, type='tableCell'), '0-d': Grounding(box=GroundingBox(bottom=0.36340169094833996, left=0.8040507638486627, right=0.939074644517671, top=0.34328122869776223), page=0, type='tableCell'), '0-e': Grounding(box=GroundingBox(bottom=0.382267185276568, left=0.061122340662983346, right=0.5815884570997856, top=0.36340169094833996), page=0, type='tableCell'), '0-f': Grounding(box=GroundingBox(bottom=0.382267185276568, left=0.5815884570997856, right=0.6687521028974412, top=0.36340169094833996), page=0, type='tableCell'), '0-g': Grounding(box=GroundingBox(bottom=0.382267185276568, left=0.6687521028974412, right=0.8040507638486627, top=0.36340169094833996), page=0, type='tableCell'), '0-h': Grounding(box=GroundingBox(bottom=0.382267185276568, left=0.8040507638486627, right=0.939074644517671, top=0.36340169094833996), page=0, type='tableCell'), '0-i': Grounding(box=GroundingBox(bottom=0.40050568217568383, left=0.061122340662983346, right=0.5815884570997856, top=0.382267185276568), page=0, type='tableCell'), '0-j': Grounding(box=GroundingBox(bottom=0.40050568217568383, left=0.5815884570997856, right=0.6687521028974412, top=0.382267185276568), page=0, type='tableCell'), '0-k': Grounding(box=GroundingBox(bottom=0.40050568217568383, left=0.6687521028974412, right=0.8040507638486627, top=0.382267185276568), page=0, type='tableCell'), '0-l': Grounding(box=GroundingBox(bottom=0.40050568217568383, left=0.8040507638486627, right=0.939074644517671, top=0.382267185276568), page=0, type='tableCell'), '0-m': Grounding(box=GroundingBox(bottom=0.4191763263461432, left=0.061122340662983346, right=0.5815884570997856, top=0.40050568217568383), page=0, type='tableCell'), '0-n': Grounding(box=GroundingBox(bottom=0.4191763263461432, left=0.5815884570997856, right=0.6687521028974412, top=0.40050568217568383), page=0, type='tableCell'), '0-o': Grounding(box=GroundingBox(bottom=0.4191763263461432, left=0.6687521028974412, right=0.8040507638486627, top=0.40050568217568383), page=0, type='tableCell'), '0-p': Grounding(box=GroundingBox(bottom=0.4191763263461432, left=0.8040507638486627, right=0.939074644517671, top=0.40050568217568383), page=0, type='tableCell'), '0-q': Grounding(box=GroundingBox(bottom=0.4385506145455338, left=0.061122340662983346, right=0.5815884570997856, top=0.4191763263461432), page=0, type='tableCell'), '0-r': Grounding(box=GroundingBox(bottom=0.4385506145455338, left=0.5815884570997856, right=0.6687521028974412, top=0.4191763263461432), page=0, type='tableCell'), '0-s': Grounding(box=GroundingBox(bottom=0.4385506145455338, left=0.6687521028974412, right=0.8040507638486627, top=0.4191763263461432), page=0, type='tableCell'), '0-t': Grounding(box=GroundingBox(bottom=0.4385506145455338, left=0.8040507638486627, right=0.939074644517671, top=0.4191763263461432), page=0, type='tableCell'), '0-u': Grounding(box=GroundingBox(bottom=0.4573049303641312, left=0.061122340662983346, right=0.5815884570997856, top=0.4385506145455338), page=0, type='tableCell'), '0-v': Grounding(box=GroundingBox(bottom=0.4573049303641312, left=0.5815884570997856, right=0.6687521028974412, top=0.4385506145455338), page=0, type='tableCell'), '0-w': Grounding(box=GroundingBox(bottom=0.4573049303641312, left=0.6687521028974412, right=0.8040507638486627, top=0.4385506145455338), page=0, type='tableCell'), '0-x': Grounding(box=GroundingBox(bottom=0.4573049303641312, left=0.8040507638486627, right=0.939074644517671, top=0.4385506145455338), page=0, type='tableCell'), '0-y': Grounding(box=GroundingBox(bottom=0.48468288459335795, left=0.061122340662983346, right=0.5815884570997856, top=0.4573049303641312), page=0, type='tableCell'), '0-z': Grounding(box=GroundingBox(bottom=0.48468288459335795, left=0.5815884570997856, right=0.6687521028974412, top=0.4573049303641312), page=0, type='tableCell'), '0-A': Grounding(box=GroundingBox(bottom=0.48468288459335795, left=0.6687521028974412, right=0.8040507638486627, top=0.4573049303641312), page=0, type='tableCell'), '0-B': Grounding(box=GroundingBox(bottom=0.48468288459335795, left=0.8040507638486627, right=0.939074644517671, top=0.4573049303641312), page=0, type='tableCell'), '3098a6e9-5bb2-4473-8f39-52e5966ee385': Grounding(box=GroundingBox(bottom=0.6456047296524048, left=0.6456890106201172, right=0.9273192882537842, top=0.5349776744842529), page=0, type='chunkText'), 'dd2fff85-befb-4923-a342-8666fd9a2f20': Grounding(box=GroundingBox(bottom=0.7329089045524597, left=0.0842241644859314, right=0.80986487865448, top=0.6895976662635803), page=0, type='chunkText'), 'b3c5f36d-81b4-45dc-8569-4e672079b5ae': Grounding(box=GroundingBox(bottom=0.7876304388046265, left=0.08418288826942444, right=0.3564498722553253, top=0.7462542057037354), page=0, type='chunkText')}),\n",
       "  ExtractResponse(extraction={'invoice_info': {'invoice_date_raw': 'Mar 20, 2023', 'invoice_date': '2023-03-20', 'invoice_number': '', 'order_date': None, 'po_number': None, 'status': None}, 'customer_info': {'sold_to_name': 'Mansoer Walizada', 'sold_to_address': '10517 San Vincente Ave, South Gate, CA 90280, USA', 'customer_email': None}, 'company_info': {'supplier_name': 'Walmart', 'supplier_address': None, 'representative': None, 'email': None, 'phone': None, 'gstin': None, 'pan': None}, 'order_details': {'payment_terms': 'MasterCard 8453', 'ship_via': None, 'ship_date': None, 'tracking_number': None}, 'totals_summary': {'currency': 'USD', 'total_due_raw': '0,00 US$', 'total_due': 0, 'subtotal': 1529.94, 'tax': 110.92, 'shipping': None, 'handling_fee': None}, 'line_items': [{'line_number': None, 'sku': 'PF4AJSC9', 'description': 'Lenovo ThinkPad X1 Carbon Gen 10 21CB - 180-degree hinge; design - Intel Core i7 1260P/2.1 GHz - Evo - Win 10 Pro 64-bit; (includes Win 11 Pro License) - Intel Iris Xe Graphics - 16 GB RAM - 512 GB SSD TCG Opal Encryption 2, NVMe, Performance - 14\" IPS touchscreen 1920 x 1200 - 802.11a/b/g/n/ac/ax (Wi-Fi 6E) - deep black paint - kbd: US - with 3 Years Lenovo Premier Support + 3 Years Lenovo Sealed Battery Add On', 'quantity': 1, 'unit_price': 1529.94, 'price': None, 'amount': 1529.94, 'total': None}]}, extraction_metadata={'invoice_info': {'invoice_date_raw': {'value': 'Mar 20, 2023', 'references': ['86325e05-b872-44c0-a97c-850d0e6c5f79']}, 'invoice_date': {'value': '2023-03-20', 'references': ['86325e05-b872-44c0-a97c-850d0e6c5f79']}, 'invoice_number': {'value': '', 'references': []}, 'order_date': {'value': None, 'references': []}, 'po_number': {'value': None, 'references': []}, 'status': {'value': None, 'references': []}}, 'customer_info': {'sold_to_name': {'value': 'Mansoer Walizada', 'references': ['d1541e85-622c-4e62-b3ef-6886c51639a0']}, 'sold_to_address': {'value': '10517 San Vincente Ave, South Gate, CA 90280, USA', 'references': ['d1541e85-622c-4e62-b3ef-6886c51639a0']}, 'customer_email': {'value': None, 'references': []}}, 'company_info': {'supplier_name': {'value': 'Walmart', 'references': ['7e376974-b72e-4f94-bddc-25b2f9858525']}, 'supplier_address': {'value': None, 'references': []}, 'representative': {'value': None, 'references': []}, 'email': {'value': None, 'references': []}, 'phone': {'value': None, 'references': []}, 'gstin': {'value': None, 'references': []}, 'pan': {'value': None, 'references': []}}, 'order_details': {'payment_terms': {'value': 'MasterCard 8453', 'references': ['86325e05-b872-44c0-a97c-850d0e6c5f79']}, 'ship_via': {'value': None, 'references': []}, 'ship_date': {'value': None, 'references': []}, 'tracking_number': {'value': None, 'references': []}}, 'totals_summary': {'currency': {'value': 'USD', 'references': ['86325e05-b872-44c0-a97c-850d0e6c5f79', '0-8', '0-9', '3098a6e9-5bb2-4473-8f39-52e5966ee385']}, 'total_due_raw': {'value': '0,00 US$', 'references': ['86325e05-b872-44c0-a97c-850d0e6c5f79']}, 'total_due': {'value': 0, 'references': ['86325e05-b872-44c0-a97c-850d0e6c5f79']}, 'subtotal': {'value': 1529.94, 'references': ['3098a6e9-5bb2-4473-8f39-52e5966ee385']}, 'tax': {'value': 110.92, 'references': ['3098a6e9-5bb2-4473-8f39-52e5966ee385']}, 'shipping': {'value': None, 'references': []}, 'handling_fee': {'value': None, 'references': []}}, 'line_items': [{'line_number': {'value': None, 'references': []}, 'sku': {'value': 'PF4AJSC9', 'references': ['0-y']}, 'description': {'value': 'Lenovo ThinkPad X1 Carbon Gen 10 21CB - 180-degree hinge; design - Intel Core i7 1260P/2.1 GHz - Evo - Win 10 Pro 64-bit; (includes Win 11 Pro License) - Intel Iris Xe Graphics - 16 GB RAM - 512 GB SSD TCG Opal Encryption 2, NVMe, Performance - 14\" IPS touchscreen 1920 x 1200 - 802.11a/b/g/n/ac/ax (Wi-Fi 6E) - deep black paint - kbd: US - with 3 Years Lenovo Premier Support + 3 Years Lenovo Sealed Battery Add On', 'references': ['0-6', '0-a', '0-e', '0-i', '0-m', '0-q', '0-u']}, 'quantity': {'value': 1, 'references': ['0-7']}, 'unit_price': {'value': 1529.94, 'references': ['0-8']}, 'price': {'value': None, 'references': []}, 'amount': {'value': 1529.94, 'references': ['0-9']}, 'total': {'value': None, 'references': []}}]}, metadata=Metadata(credit_usage=1.9, duration_ms=9416, filename='upload', job_id='txqho2rhhwcz09g1gkk5y5iln', org_id='u3z0u1hn4acl', version='extract-20250930'))),\n",
       " (ParseResponse(chunks=[Chunk(id='4dfa9093-3dae-4da1-be94-840c8643bd24', grounding=ChunkGrounding(box=ChunkGroundingBox(bottom=0.18318885564804077, left=0.07170378416776657, right=0.2521362602710724, top=0.048859208822250366), page=0), markdown=\"<a id='4dfa9093-3dae-4da1-be94-840c8643bd24'></a>\\n\\n<::An illustration of a green robot with dollar signs on its eyes, a checkmark, and a delivery truck::>\", type='figure'), Chunk(id='6446ee0d-cd62-45db-80d2-6502cac50842', grounding=ChunkGrounding(box=ChunkGroundingBox(bottom=0.07336647808551788, left=0.2546345293521881, right=0.43837323784828186, top=0.04902224615216255), page=0), markdown=\"<a id='6446ee0d-cd62-45db-80d2-6502cac50842'></a>\\n\\nDollarFulfillment\", type='text'), Chunk(id='83450e56-c9c3-40fe-bad1-85a63ab5d0dc', grounding=ChunkGrounding(box=ChunkGroundingBox(bottom=0.07539485394954681, left=0.7084041833877563, right=0.9238895177841187, top=0.04761155694723129), page=0), markdown=\"<a id='83450e56-c9c3-40fe-bad1-85a63ab5d0dc'></a>\\n\\nInvoice 2071221\", type='text'), Chunk(id='9cb0ba14-c03f-442d-8234-07b942c2e6c8', grounding=ChunkGrounding(box=ChunkGroundingBox(bottom=0.16772565245628357, left=0.255232572555542, right=0.6681016683578491, top=0.0865427628159523), page=0), markdown=\"<a id='9cb0ba14-c03f-442d-8234-07b942c2e6c8'></a>\\n\\nWest Coast\\n10450 N Airport Rd Hayden, ID 83835\\nUnited States\\nSupport@DollarFulfillment.com\", type='text'), Chunk(id='b6f1f26e-bf6e-4da3-9fbe-e4c9d482f404', grounding=ChunkGrounding(box=ChunkGroundingBox(bottom=0.3089256286621094, left=0.07276938855648041, right=0.33575689792633057, top=0.2264343500137329), page=0), markdown=\"<a id='b6f1f26e-bf6e-4da3-9fbe-e4c9d482f404'></a>\\n\\nBill To\\nSouhail Martesse\\n4 Rue des Écoles\\n28120, Nogent-sur-Eure\\nFRANCE\", type='text'), Chunk(id='b9861421-a2d7-4d49-8658-b346d134a808', grounding=ChunkGrounding(box=ChunkGroundingBox(bottom=0.2882682681083679, left=0.6989309191703796, right=0.9255697131156921, top=0.22612012922763824), page=0), markdown=\"<a id='b9861421-a2d7-4d49-8658-b346d134a808'></a>\\n\\nInvoice Number: 2071221\\n\\nDate: 08/30/2021\\n\\nDue Date: 08/30/2021\", type='text'), Chunk(id='c5273fa3-f056-44ef-a25b-94626d7bd674', grounding=ChunkGrounding(box=ChunkGroundingBox(bottom=0.4103684425354004, left=0.07428693771362305, right=0.9252506494522095, top=0.3211835026741028), page=0), markdown='<a id=\\'c5273fa3-f056-44ef-a25b-94626d7bd674\\'></a>\\n\\n<table id=\"0-1\">\\n<tr><td id=\"0-2\">Description</td><td id=\"0-3\">Quantity</td><td id=\"0-4\">Unit price</td><td id=\"0-5\">Amount</td></tr>\\n<tr><td id=\"0-6\">Apple iPhone 12 Pro Max 256 GB Excellent Condition</td><td id=\"0-7\">3</td><td id=\"0-8\">$600.29</td><td id=\"0-9\">$1800.87</td></tr>\\n<tr><td id=\"0-a\"></td><td id=\"0-b\"></td><td id=\"0-c\">Total</td><td id=\"0-d\">$1800.87</td></tr>\\n</table>', type='table'), Chunk(id='f9360bed-1bb8-47d0-b68a-af3b70f8039e', grounding=ChunkGrounding(box=ChunkGroundingBox(bottom=0.526665985584259, left=0.07212815433740616, right=0.29467159509658813, top=0.4495540261268616), page=0), markdown=\"<a id='f9360bed-1bb8-47d0-b68a-af3b70f8039e'></a>\\n\\n+1 855-441-7447\\nSupport@DollarFulfillment.com\\n10450 N Airport Rd\\nHayden, ID 83835\", type='text')], markdown='<a id=\\'4dfa9093-3dae-4da1-be94-840c8643bd24\\'></a>\\n\\n<::An illustration of a green robot with dollar signs on its eyes, a checkmark, and a delivery truck::>\\n\\n<a id=\\'6446ee0d-cd62-45db-80d2-6502cac50842\\'></a>\\n\\nDollarFulfillment\\n\\n<a id=\\'83450e56-c9c3-40fe-bad1-85a63ab5d0dc\\'></a>\\n\\nInvoice 2071221\\n\\n<a id=\\'9cb0ba14-c03f-442d-8234-07b942c2e6c8\\'></a>\\n\\nWest Coast\\n10450 N Airport Rd Hayden, ID 83835\\nUnited States\\nSupport@DollarFulfillment.com\\n\\n<a id=\\'b6f1f26e-bf6e-4da3-9fbe-e4c9d482f404\\'></a>\\n\\nBill To\\nSouhail Martesse\\n4 Rue des Écoles\\n28120, Nogent-sur-Eure\\nFRANCE\\n\\n<a id=\\'b9861421-a2d7-4d49-8658-b346d134a808\\'></a>\\n\\nInvoice Number: 2071221\\n\\nDate: 08/30/2021\\n\\nDue Date: 08/30/2021\\n\\n<a id=\\'c5273fa3-f056-44ef-a25b-94626d7bd674\\'></a>\\n\\n<table id=\"0-1\">\\n<tr><td id=\"0-2\">Description</td><td id=\"0-3\">Quantity</td><td id=\"0-4\">Unit price</td><td id=\"0-5\">Amount</td></tr>\\n<tr><td id=\"0-6\">Apple iPhone 12 Pro Max 256 GB Excellent Condition</td><td id=\"0-7\">3</td><td id=\"0-8\">$600.29</td><td id=\"0-9\">$1800.87</td></tr>\\n<tr><td id=\"0-a\"></td><td id=\"0-b\"></td><td id=\"0-c\">Total</td><td id=\"0-d\">$1800.87</td></tr>\\n</table>\\n\\n<a id=\\'f9360bed-1bb8-47d0-b68a-af3b70f8039e\\'></a>\\n\\n+1 855-441-7447\\nSupport@DollarFulfillment.com\\n10450 N Airport Rd\\nHayden, ID 83835', metadata=Metadata(credit_usage=3.0, duration_ms=10738, filename='invoice_11.pdf', job_id='liikzvox7j81g4f3yhg05ice8', org_id='u3z0u1hn4acl', page_count=1, version='dpt-2-20250919'), splits=[Split(chunks=['4dfa9093-3dae-4da1-be94-840c8643bd24', '6446ee0d-cd62-45db-80d2-6502cac50842', '83450e56-c9c3-40fe-bad1-85a63ab5d0dc', '9cb0ba14-c03f-442d-8234-07b942c2e6c8', 'b6f1f26e-bf6e-4da3-9fbe-e4c9d482f404', 'b9861421-a2d7-4d49-8658-b346d134a808', 'c5273fa3-f056-44ef-a25b-94626d7bd674', 'f9360bed-1bb8-47d0-b68a-af3b70f8039e'], class_='full', identifier='full', markdown='<a id=\\'4dfa9093-3dae-4da1-be94-840c8643bd24\\'></a>\\n\\n<::An illustration of a green robot with dollar signs on its eyes, a checkmark, and a delivery truck::>\\n\\n<a id=\\'6446ee0d-cd62-45db-80d2-6502cac50842\\'></a>\\n\\nDollarFulfillment\\n\\n<a id=\\'83450e56-c9c3-40fe-bad1-85a63ab5d0dc\\'></a>\\n\\nInvoice 2071221\\n\\n<a id=\\'9cb0ba14-c03f-442d-8234-07b942c2e6c8\\'></a>\\n\\nWest Coast\\n10450 N Airport Rd Hayden, ID 83835\\nUnited States\\nSupport@DollarFulfillment.com\\n\\n<a id=\\'b6f1f26e-bf6e-4da3-9fbe-e4c9d482f404\\'></a>\\n\\nBill To\\nSouhail Martesse\\n4 Rue des Écoles\\n28120, Nogent-sur-Eure\\nFRANCE\\n\\n<a id=\\'b9861421-a2d7-4d49-8658-b346d134a808\\'></a>\\n\\nInvoice Number: 2071221\\n\\nDate: 08/30/2021\\n\\nDue Date: 08/30/2021\\n\\n<a id=\\'c5273fa3-f056-44ef-a25b-94626d7bd674\\'></a>\\n\\n<table id=\"0-1\">\\n<tr><td id=\"0-2\">Description</td><td id=\"0-3\">Quantity</td><td id=\"0-4\">Unit price</td><td id=\"0-5\">Amount</td></tr>\\n<tr><td id=\"0-6\">Apple iPhone 12 Pro Max 256 GB Excellent Condition</td><td id=\"0-7\">3</td><td id=\"0-8\">$600.29</td><td id=\"0-9\">$1800.87</td></tr>\\n<tr><td id=\"0-a\"></td><td id=\"0-b\"></td><td id=\"0-c\">Total</td><td id=\"0-d\">$1800.87</td></tr>\\n</table>\\n\\n<a id=\\'f9360bed-1bb8-47d0-b68a-af3b70f8039e\\'></a>\\n\\n+1 855-441-7447\\nSupport@DollarFulfillment.com\\n10450 N Airport Rd\\nHayden, ID 83835', pages=[0], class='full')], grounding={'4dfa9093-3dae-4da1-be94-840c8643bd24': Grounding(box=GroundingBox(bottom=0.18318885564804077, left=0.07170378416776657, right=0.2521362602710724, top=0.048859208822250366), page=0, type='chunkFigure'), '6446ee0d-cd62-45db-80d2-6502cac50842': Grounding(box=GroundingBox(bottom=0.07336647808551788, left=0.2546345293521881, right=0.43837323784828186, top=0.04902224615216255), page=0, type='chunkText'), '83450e56-c9c3-40fe-bad1-85a63ab5d0dc': Grounding(box=GroundingBox(bottom=0.07539485394954681, left=0.7084041833877563, right=0.9238895177841187, top=0.04761155694723129), page=0, type='chunkText'), '9cb0ba14-c03f-442d-8234-07b942c2e6c8': Grounding(box=GroundingBox(bottom=0.16772565245628357, left=0.255232572555542, right=0.6681016683578491, top=0.0865427628159523), page=0, type='chunkText'), 'b6f1f26e-bf6e-4da3-9fbe-e4c9d482f404': Grounding(box=GroundingBox(bottom=0.3089256286621094, left=0.07276938855648041, right=0.33575689792633057, top=0.2264343500137329), page=0, type='chunkText'), 'b9861421-a2d7-4d49-8658-b346d134a808': Grounding(box=GroundingBox(bottom=0.2882682681083679, left=0.6989309191703796, right=0.9255697131156921, top=0.22612012922763824), page=0, type='chunkText'), 'c5273fa3-f056-44ef-a25b-94626d7bd674': Grounding(box=GroundingBox(bottom=0.4103684425354004, left=0.07428693771362305, right=0.9252506494522095, top=0.3211835026741028), page=0, type='chunkTable'), '0-1': Grounding(box=GroundingBox(bottom=0.4056177431026242, left=0.08071780999560951, right=0.9186753313699398, top=0.3256728403592679), page=0, type='table'), '0-2': Grounding(box=GroundingBox(bottom=0.35295363502402033, left=0.08071780999560951, right=0.5137616584243361, top=0.3256728403592679), page=0, type='tableCell'), '0-3': Grounding(box=GroundingBox(bottom=0.35295363502402033, left=0.5137616584243361, right=0.6400283990652653, top=0.3256728403592679), page=0, type='tableCell'), '0-4': Grounding(box=GroundingBox(bottom=0.35295363502402033, left=0.6400283990652653, right=0.7794539927358741, top=0.3256728403592679), page=0, type='tableCell'), '0-5': Grounding(box=GroundingBox(bottom=0.35295363502402033, left=0.7794539927358741, right=0.9187241253468841, top=0.3256728403592679), page=0, type='tableCell'), '0-6': Grounding(box=GroundingBox(bottom=0.3787279023094925, left=0.08071780999560951, right=0.5137616584243361, top=0.35295363502402033), page=0, type='tableCell'), '0-7': Grounding(box=GroundingBox(bottom=0.3787279023094925, left=0.5137616584243361, right=0.6400283990652653, top=0.35295363502402033), page=0, type='tableCell'), '0-8': Grounding(box=GroundingBox(bottom=0.3787279023094925, left=0.6400283990652653, right=0.7794539927358741, top=0.35295363502402033), page=0, type='tableCell'), '0-9': Grounding(box=GroundingBox(bottom=0.3787279023094925, left=0.7794539927358741, right=0.9187241253468841, top=0.35295363502402033), page=0, type='tableCell'), '0-a': Grounding(box=GroundingBox(bottom=0.4056177431026242, left=0.08071780999560951, right=0.5137616584243361, top=0.3787279023094925), page=0, type='tableCell'), '0-b': Grounding(box=GroundingBox(bottom=0.4056177431026242, left=0.5137616584243361, right=0.6400283990652653, top=0.3787279023094925), page=0, type='tableCell'), '0-c': Grounding(box=GroundingBox(bottom=0.4056177431026242, left=0.6400283990652653, right=0.7794539927358741, top=0.3787279023094925), page=0, type='tableCell'), '0-d': Grounding(box=GroundingBox(bottom=0.4056177431026242, left=0.7794539927358741, right=0.9187241253468841, top=0.3787279023094925), page=0, type='tableCell'), 'f9360bed-1bb8-47d0-b68a-af3b70f8039e': Grounding(box=GroundingBox(bottom=0.526665985584259, left=0.07212815433740616, right=0.29467159509658813, top=0.4495540261268616), page=0, type='chunkText')}),\n",
       "  ExtractResponse(extraction={'invoice_info': {'invoice_date_raw': '08/30/2021', 'invoice_date': '2021-08-30', 'invoice_number': '2071221', 'order_date': None, 'po_number': None, 'status': None}, 'customer_info': {'sold_to_name': 'Souhail Martesse', 'sold_to_address': '4 Rue des Écoles\\n28120, Nogent-sur-Eure\\nFRANCE', 'customer_email': None}, 'company_info': {'supplier_name': 'DollarFulfillment', 'supplier_address': '10450 N Airport Rd Hayden, ID 83835\\nUnited States', 'representative': None, 'email': 'Support@DollarFulfillment.com', 'phone': '+1 855-441-7447', 'gstin': None, 'pan': None}, 'order_details': {'payment_terms': None, 'ship_via': None, 'ship_date': None, 'tracking_number': None}, 'totals_summary': {'currency': None, 'total_due_raw': '$1800.87', 'total_due': 1800.87, 'subtotal': None, 'tax': None, 'shipping': None, 'handling_fee': None}, 'line_items': [{'line_number': None, 'sku': None, 'description': 'Apple iPhone 12 Pro Max 256 GB Excellent Condition', 'quantity': 3, 'unit_price': 600.29, 'price': None, 'amount': 1800.87, 'total': None}]}, extraction_metadata={'invoice_info': {'invoice_date_raw': {'value': '08/30/2021', 'references': ['b9861421-a2d7-4d49-8658-b346d134a808']}, 'invoice_date': {'value': '2021-08-30', 'references': ['b9861421-a2d7-4d49-8658-b346d134a808']}, 'invoice_number': {'value': '2071221', 'references': ['83450e56-c9c3-40fe-bad1-85a63ab5d0dc', 'b9861421-a2d7-4d49-8658-b346d134a808']}, 'order_date': {'value': None, 'references': []}, 'po_number': {'value': None, 'references': []}, 'status': {'value': None, 'references': []}}, 'customer_info': {'sold_to_name': {'value': 'Souhail Martesse', 'references': ['b6f1f26e-bf6e-4da3-9fbe-e4c9d482f404']}, 'sold_to_address': {'value': '4 Rue des Écoles\\n28120, Nogent-sur-Eure\\nFRANCE', 'references': ['b6f1f26e-bf6e-4da3-9fbe-e4c9d482f404']}, 'customer_email': {'value': None, 'references': []}}, 'company_info': {'supplier_name': {'value': 'DollarFulfillment', 'references': ['6446ee0d-cd62-45db-80d2-6502cac50842']}, 'supplier_address': {'value': '10450 N Airport Rd Hayden, ID 83835\\nUnited States', 'references': ['9cb0ba14-c03f-442d-8234-07b942c2e6c8']}, 'representative': {'value': None, 'references': []}, 'email': {'value': 'Support@DollarFulfillment.com', 'references': ['9cb0ba14-c03f-442d-8234-07b942c2e6c8', 'f9360bed-1bb8-47d0-b68a-af3b70f8039e']}, 'phone': {'value': '+1 855-441-7447', 'references': ['f9360bed-1bb8-47d0-b68a-af3b70f8039e']}, 'gstin': {'value': None, 'references': []}, 'pan': {'value': None, 'references': []}}, 'order_details': {'payment_terms': {'value': None, 'references': []}, 'ship_via': {'value': None, 'references': []}, 'ship_date': {'value': None, 'references': []}, 'tracking_number': {'value': None, 'references': []}}, 'totals_summary': {'currency': {'value': None, 'references': []}, 'total_due_raw': {'value': '$1800.87', 'references': ['0-d']}, 'total_due': {'value': 1800.87, 'references': ['0-d']}, 'subtotal': {'value': None, 'references': []}, 'tax': {'value': None, 'references': []}, 'shipping': {'value': None, 'references': []}, 'handling_fee': {'value': None, 'references': []}}, 'line_items': [{'line_number': {'value': None, 'references': []}, 'sku': {'value': None, 'references': []}, 'description': {'value': 'Apple iPhone 12 Pro Max 256 GB Excellent Condition', 'references': ['0-6']}, 'quantity': {'value': 3, 'references': ['0-7']}, 'unit_price': {'value': 600.29, 'references': ['0-8']}, 'price': {'value': None, 'references': []}, 'amount': {'value': 1800.87, 'references': ['0-9']}, 'total': {'value': None, 'references': []}}]}, metadata=Metadata(credit_usage=1.3, duration_ms=6276, filename='upload', job_id='kcnwf3jvc2rmmt8ncexcktivg', org_id='u3z0u1hn4acl', version='extract-20250930')))]"
      ]
     },
     "execution_count": 20,
     "metadata": {},
     "output_type": "execute_result"
    }
   ],
   "source": [
    "results_summary[0:5]"
   ]
  },
  {
   "cell_type": "markdown",
   "id": "2b8f1430",
   "metadata": {},
   "source": [
    "## Summary Tables Containing Invoice Details"
   ]
  },
  {
   "cell_type": "code",
   "execution_count": 23,
   "id": "cfb7fc92",
   "metadata": {},
   "outputs": [],
   "source": [
    "# Prepare summary tables using the output from the step above\n",
    "# Functions located in utilities.py\n",
    "\n",
    "invoice_summaries = create_invoice_summary_tables(results_summary)"
   ]
  },
  {
   "cell_type": "markdown",
   "id": "d407ec70",
   "metadata": {},
   "source": [
    "## Invoice Parsing - One Row per Invoice"
   ]
  },
  {
   "cell_type": "code",
   "execution_count": 29,
   "id": "5d0778b2",
   "metadata": {},
   "outputs": [
    {
     "data": {
      "text/html": [
       "<div>\n",
       "<style scoped>\n",
       "    .dataframe tbody tr th:only-of-type {\n",
       "        vertical-align: middle;\n",
       "    }\n",
       "\n",
       "    .dataframe tbody tr th {\n",
       "        vertical-align: top;\n",
       "    }\n",
       "\n",
       "    .dataframe thead th {\n",
       "        text-align: right;\n",
       "    }\n",
       "</style>\n",
       "<table border=\"1\" class=\"dataframe\">\n",
       "  <thead>\n",
       "    <tr style=\"text-align: right;\">\n",
       "      <th></th>\n",
       "      <th>RUN_ID</th>\n",
       "      <th>INVOICE_UUID</th>\n",
       "      <th>DOCUMENT_NAME</th>\n",
       "      <th>AGENTIC_DOC_VERSION</th>\n",
       "      <th>MARKDOWN</th>\n",
       "    </tr>\n",
       "  </thead>\n",
       "  <tbody>\n",
       "    <tr>\n",
       "      <th>0</th>\n",
       "      <td>ab51eee8-43ab-4c60-974f-d37043e93f76</td>\n",
       "      <td>8a016234-4c23-4927-aa41-f7841f70c611</td>\n",
       "      <td>invoice_9.pdf</td>\n",
       "      <td>dpt-2-20250919</td>\n",
       "      <td>&lt;a id='91a9fca9-fe21-4cbb-9564-f42f8d5c5d97'&gt;&lt;...</td>\n",
       "    </tr>\n",
       "    <tr>\n",
       "      <th>1</th>\n",
       "      <td>ab51eee8-43ab-4c60-974f-d37043e93f76</td>\n",
       "      <td>83aa2614-39b8-418b-90b7-e726ebd3c90a</td>\n",
       "      <td>invoice_17.pdf</td>\n",
       "      <td>dpt-2-20250919</td>\n",
       "      <td>&lt;a id='960d63e5-ea32-4c17-b4b7-56eeaee689f5'&gt;&lt;...</td>\n",
       "    </tr>\n",
       "    <tr>\n",
       "      <th>2</th>\n",
       "      <td>ab51eee8-43ab-4c60-974f-d37043e93f76</td>\n",
       "      <td>74954e69-8064-4966-a0cc-d4111458af17</td>\n",
       "      <td>invoice_8.PDF</td>\n",
       "      <td>dpt-2-20250919</td>\n",
       "      <td>&lt;a id='a24acd30-2126-4953-854b-b4d9635480ea'&gt;&lt;...</td>\n",
       "    </tr>\n",
       "    <tr>\n",
       "      <th>3</th>\n",
       "      <td>ab51eee8-43ab-4c60-974f-d37043e93f76</td>\n",
       "      <td>116fc387-7366-4838-9ff5-de97eff28186</td>\n",
       "      <td>invoice_16.pdf</td>\n",
       "      <td>dpt-2-20250919</td>\n",
       "      <td>&lt;a id='7e376974-b72e-4f94-bddc-25b2f9858525'&gt;&lt;...</td>\n",
       "    </tr>\n",
       "    <tr>\n",
       "      <th>4</th>\n",
       "      <td>ab51eee8-43ab-4c60-974f-d37043e93f76</td>\n",
       "      <td>fcfa7140-e234-4eb5-be2e-d356993b6f3f</td>\n",
       "      <td>invoice_11.pdf</td>\n",
       "      <td>dpt-2-20250919</td>\n",
       "      <td>&lt;a id='4dfa9093-3dae-4da1-be94-840c8643bd24'&gt;&lt;...</td>\n",
       "    </tr>\n",
       "    <tr>\n",
       "      <th>5</th>\n",
       "      <td>ab51eee8-43ab-4c60-974f-d37043e93f76</td>\n",
       "      <td>47b62e70-4187-418c-8cf1-3c1635ee1dc7</td>\n",
       "      <td>invoice_13.pdf</td>\n",
       "      <td>dpt-2-20250919</td>\n",
       "      <td>&lt;a id='63de6f08-16f2-41a5-a702-99292aa34f2f'&gt;&lt;...</td>\n",
       "    </tr>\n",
       "    <tr>\n",
       "      <th>6</th>\n",
       "      <td>ab51eee8-43ab-4c60-974f-d37043e93f76</td>\n",
       "      <td>dfb98d68-9dd7-474e-a03a-b77cc8465db9</td>\n",
       "      <td>invoice_14.pdf</td>\n",
       "      <td>dpt-2-20250919</td>\n",
       "      <td>&lt;a id='da35e71a-b1f0-49a6-8f42-3800abc9f42e'&gt;&lt;...</td>\n",
       "    </tr>\n",
       "    <tr>\n",
       "      <th>7</th>\n",
       "      <td>ab51eee8-43ab-4c60-974f-d37043e93f76</td>\n",
       "      <td>e396238d-7846-4950-aa90-8af0c316f2d4</td>\n",
       "      <td>invoice_12.pdf</td>\n",
       "      <td>dpt-2-20250919</td>\n",
       "      <td>&lt;a id='6a7520cc-51fe-40ca-a316-6a23a56e6f2b'&gt;&lt;...</td>\n",
       "    </tr>\n",
       "    <tr>\n",
       "      <th>8</th>\n",
       "      <td>ab51eee8-43ab-4c60-974f-d37043e93f76</td>\n",
       "      <td>371b2d4a-63e9-468b-8275-f878220c0a8f</td>\n",
       "      <td>invoice_10.pdf</td>\n",
       "      <td>dpt-2-20250919</td>\n",
       "      <td>&lt;a id='d5f0469f-6bee-459a-b00c-2bd0e5eb00f3'&gt;&lt;...</td>\n",
       "    </tr>\n",
       "    <tr>\n",
       "      <th>9</th>\n",
       "      <td>ab51eee8-43ab-4c60-974f-d37043e93f76</td>\n",
       "      <td>4b1db45a-6de2-4bda-94d3-c606276bb1ce</td>\n",
       "      <td>invoice_27.pdf</td>\n",
       "      <td>dpt-2-20250919</td>\n",
       "      <td>&lt;a id='dfc89375-e0e6-4458-983d-e18c64748754'&gt;&lt;...</td>\n",
       "    </tr>\n",
       "    <tr>\n",
       "      <th>10</th>\n",
       "      <td>ab51eee8-43ab-4c60-974f-d37043e93f76</td>\n",
       "      <td>0326bf0d-a1ea-4f1b-925f-a13a0094877e</td>\n",
       "      <td>invoice_3.pdf</td>\n",
       "      <td>dpt-2-20250919</td>\n",
       "      <td>&lt;a id='fd5b0e1d-1107-4fc7-b2a5-3362de6475ec'&gt;&lt;...</td>\n",
       "    </tr>\n",
       "    <tr>\n",
       "      <th>11</th>\n",
       "      <td>ab51eee8-43ab-4c60-974f-d37043e93f76</td>\n",
       "      <td>276837d7-936e-436c-96a1-1889b88f300d</td>\n",
       "      <td>invoice_18.pdf</td>\n",
       "      <td>dpt-2-20250919</td>\n",
       "      <td>&lt;a id='1a2eb346-7461-4377-a379-3f7a0f0ad13b'&gt;&lt;...</td>\n",
       "    </tr>\n",
       "    <tr>\n",
       "      <th>12</th>\n",
       "      <td>ab51eee8-43ab-4c60-974f-d37043e93f76</td>\n",
       "      <td>f1bd7175-d14b-494b-853b-d6b634bd1628</td>\n",
       "      <td>invoice_26.pdf</td>\n",
       "      <td>dpt-2-20250919</td>\n",
       "      <td>&lt;a id='70dd27bc-cdc7-43ad-8774-8f6d871895da'&gt;&lt;...</td>\n",
       "    </tr>\n",
       "    <tr>\n",
       "      <th>13</th>\n",
       "      <td>ab51eee8-43ab-4c60-974f-d37043e93f76</td>\n",
       "      <td>3d8bb67d-d96e-4564-b9f0-9438500cee6d</td>\n",
       "      <td>invoice_2.pdf</td>\n",
       "      <td>dpt-2-20250919</td>\n",
       "      <td>&lt;a id='822e4eca-7e21-4244-9801-50a65766dcc2'&gt;&lt;...</td>\n",
       "    </tr>\n",
       "    <tr>\n",
       "      <th>14</th>\n",
       "      <td>ab51eee8-43ab-4c60-974f-d37043e93f76</td>\n",
       "      <td>6f42c961-66c2-4bda-ad61-66c8fc8e1787</td>\n",
       "      <td>invoice_19.pdf</td>\n",
       "      <td>dpt-2-20250919</td>\n",
       "      <td>&lt;a id='2dfbfd0b-03c1-4dbc-9a36-ba58b8bbffd7'&gt;&lt;...</td>\n",
       "    </tr>\n",
       "    <tr>\n",
       "      <th>15</th>\n",
       "      <td>ab51eee8-43ab-4c60-974f-d37043e93f76</td>\n",
       "      <td>7538ac9c-61de-49dc-971a-65286550dd0a</td>\n",
       "      <td>invoice_1.pdf</td>\n",
       "      <td>dpt-2-20250919</td>\n",
       "      <td>&lt;a id='b4914c55-403e-4f5d-a39d-ce4f12ffe632'&gt;&lt;...</td>\n",
       "    </tr>\n",
       "    <tr>\n",
       "      <th>16</th>\n",
       "      <td>ab51eee8-43ab-4c60-974f-d37043e93f76</td>\n",
       "      <td>895c7287-1af3-4901-96d8-122189a4a5a4</td>\n",
       "      <td>invoice_15.pdf</td>\n",
       "      <td>dpt-2-20250919</td>\n",
       "      <td>&lt;a id='db770f62-34a8-4672-82c1-1e561ab1eff4'&gt;&lt;...</td>\n",
       "    </tr>\n",
       "    <tr>\n",
       "      <th>17</th>\n",
       "      <td>ab51eee8-43ab-4c60-974f-d37043e93f76</td>\n",
       "      <td>253bd0e1-79c7-4394-a62c-a2c0d14fef9c</td>\n",
       "      <td>invoice_21.pdf</td>\n",
       "      <td>dpt-2-20250919</td>\n",
       "      <td>&lt;a id='9e946a94-f64e-4cfd-a027-cf7436c4fa1e'&gt;&lt;...</td>\n",
       "    </tr>\n",
       "    <tr>\n",
       "      <th>18</th>\n",
       "      <td>ab51eee8-43ab-4c60-974f-d37043e93f76</td>\n",
       "      <td>9fad760d-417b-47a4-b4e8-f1e896479edc</td>\n",
       "      <td>invoice_24.pdf</td>\n",
       "      <td>dpt-2-20250919</td>\n",
       "      <td>&lt;a id='c3587ed9-7466-4529-8475-1ea373070715'&gt;&lt;...</td>\n",
       "    </tr>\n",
       "    <tr>\n",
       "      <th>19</th>\n",
       "      <td>ab51eee8-43ab-4c60-974f-d37043e93f76</td>\n",
       "      <td>71388288-7baf-4fbe-b71a-3abab7120078</td>\n",
       "      <td>invoice_5.pdf</td>\n",
       "      <td>dpt-2-20250919</td>\n",
       "      <td>&lt;a id='dce2b4a8-ddc7-46cb-8f7f-4e6e8e0143a7'&gt;&lt;...</td>\n",
       "    </tr>\n",
       "    <tr>\n",
       "      <th>20</th>\n",
       "      <td>ab51eee8-43ab-4c60-974f-d37043e93f76</td>\n",
       "      <td>c5616247-36e6-4215-8ca5-ec0fde10c3ef</td>\n",
       "      <td>invoice_20.pdf</td>\n",
       "      <td>dpt-2-20250919</td>\n",
       "      <td>&lt;a id='d491bedf-0dd4-4ceb-aa6a-4ba92373e9ec'&gt;&lt;...</td>\n",
       "    </tr>\n",
       "    <tr>\n",
       "      <th>21</th>\n",
       "      <td>ab51eee8-43ab-4c60-974f-d37043e93f76</td>\n",
       "      <td>dd0786b6-3fae-480c-ad0c-07dd2173ba13</td>\n",
       "      <td>invoice_22.pdf</td>\n",
       "      <td>dpt-2-20250919</td>\n",
       "      <td>&lt;a id='84fb4757-d601-442f-bfae-8de17ad42f67'&gt;&lt;...</td>\n",
       "    </tr>\n",
       "    <tr>\n",
       "      <th>22</th>\n",
       "      <td>ab51eee8-43ab-4c60-974f-d37043e93f76</td>\n",
       "      <td>6cd15ad5-4204-425c-b928-5c59bb62b3c4</td>\n",
       "      <td>invoice_4.pdf</td>\n",
       "      <td>dpt-2-20250919</td>\n",
       "      <td>&lt;a id='ecb03c73-81d5-4d74-9007-057e481f7f82'&gt;&lt;...</td>\n",
       "    </tr>\n",
       "    <tr>\n",
       "      <th>23</th>\n",
       "      <td>ab51eee8-43ab-4c60-974f-d37043e93f76</td>\n",
       "      <td>b807d00a-d175-4e39-a5ac-48da2c8a3614</td>\n",
       "      <td>invoice_6.pdf</td>\n",
       "      <td>dpt-2-20250919</td>\n",
       "      <td>&lt;a id='c15b3621-9da8-4758-8c2e-b8038dc85b78'&gt;&lt;...</td>\n",
       "    </tr>\n",
       "    <tr>\n",
       "      <th>24</th>\n",
       "      <td>ab51eee8-43ab-4c60-974f-d37043e93f76</td>\n",
       "      <td>4855d0b8-bb5e-43bb-8083-9eac7b5e8417</td>\n",
       "      <td>invoice_25.pdf</td>\n",
       "      <td>dpt-2-20250919</td>\n",
       "      <td>&lt;a id='32488992-63bc-47f2-ab70-165a10c351a1'&gt;&lt;...</td>\n",
       "    </tr>\n",
       "    <tr>\n",
       "      <th>25</th>\n",
       "      <td>ab51eee8-43ab-4c60-974f-d37043e93f76</td>\n",
       "      <td>7b41284f-b4a4-4d94-8a36-064d8f6b0c1a</td>\n",
       "      <td>invoice_7.pdf</td>\n",
       "      <td>dpt-2-20250919</td>\n",
       "      <td>&lt;a id='5adca170-7206-46fd-8692-4833b6e41908'&gt;&lt;...</td>\n",
       "    </tr>\n",
       "    <tr>\n",
       "      <th>26</th>\n",
       "      <td>ab51eee8-43ab-4c60-974f-d37043e93f76</td>\n",
       "      <td>b29bd092-49ea-4410-9eff-d52c0f184640</td>\n",
       "      <td>invoice_23.pdf</td>\n",
       "      <td>dpt-2-20250919</td>\n",
       "      <td>&lt;a id='b31b0355-9706-4b82-bbc4-0ca37a9f627c'&gt;&lt;...</td>\n",
       "    </tr>\n",
       "  </tbody>\n",
       "</table>\n",
       "</div>"
      ],
      "text/plain": [
       "                                  RUN_ID  \\\n",
       "0   ab51eee8-43ab-4c60-974f-d37043e93f76   \n",
       "1   ab51eee8-43ab-4c60-974f-d37043e93f76   \n",
       "2   ab51eee8-43ab-4c60-974f-d37043e93f76   \n",
       "3   ab51eee8-43ab-4c60-974f-d37043e93f76   \n",
       "4   ab51eee8-43ab-4c60-974f-d37043e93f76   \n",
       "5   ab51eee8-43ab-4c60-974f-d37043e93f76   \n",
       "6   ab51eee8-43ab-4c60-974f-d37043e93f76   \n",
       "7   ab51eee8-43ab-4c60-974f-d37043e93f76   \n",
       "8   ab51eee8-43ab-4c60-974f-d37043e93f76   \n",
       "9   ab51eee8-43ab-4c60-974f-d37043e93f76   \n",
       "10  ab51eee8-43ab-4c60-974f-d37043e93f76   \n",
       "11  ab51eee8-43ab-4c60-974f-d37043e93f76   \n",
       "12  ab51eee8-43ab-4c60-974f-d37043e93f76   \n",
       "13  ab51eee8-43ab-4c60-974f-d37043e93f76   \n",
       "14  ab51eee8-43ab-4c60-974f-d37043e93f76   \n",
       "15  ab51eee8-43ab-4c60-974f-d37043e93f76   \n",
       "16  ab51eee8-43ab-4c60-974f-d37043e93f76   \n",
       "17  ab51eee8-43ab-4c60-974f-d37043e93f76   \n",
       "18  ab51eee8-43ab-4c60-974f-d37043e93f76   \n",
       "19  ab51eee8-43ab-4c60-974f-d37043e93f76   \n",
       "20  ab51eee8-43ab-4c60-974f-d37043e93f76   \n",
       "21  ab51eee8-43ab-4c60-974f-d37043e93f76   \n",
       "22  ab51eee8-43ab-4c60-974f-d37043e93f76   \n",
       "23  ab51eee8-43ab-4c60-974f-d37043e93f76   \n",
       "24  ab51eee8-43ab-4c60-974f-d37043e93f76   \n",
       "25  ab51eee8-43ab-4c60-974f-d37043e93f76   \n",
       "26  ab51eee8-43ab-4c60-974f-d37043e93f76   \n",
       "\n",
       "                            INVOICE_UUID   DOCUMENT_NAME AGENTIC_DOC_VERSION  \\\n",
       "0   8a016234-4c23-4927-aa41-f7841f70c611   invoice_9.pdf      dpt-2-20250919   \n",
       "1   83aa2614-39b8-418b-90b7-e726ebd3c90a  invoice_17.pdf      dpt-2-20250919   \n",
       "2   74954e69-8064-4966-a0cc-d4111458af17   invoice_8.PDF      dpt-2-20250919   \n",
       "3   116fc387-7366-4838-9ff5-de97eff28186  invoice_16.pdf      dpt-2-20250919   \n",
       "4   fcfa7140-e234-4eb5-be2e-d356993b6f3f  invoice_11.pdf      dpt-2-20250919   \n",
       "5   47b62e70-4187-418c-8cf1-3c1635ee1dc7  invoice_13.pdf      dpt-2-20250919   \n",
       "6   dfb98d68-9dd7-474e-a03a-b77cc8465db9  invoice_14.pdf      dpt-2-20250919   \n",
       "7   e396238d-7846-4950-aa90-8af0c316f2d4  invoice_12.pdf      dpt-2-20250919   \n",
       "8   371b2d4a-63e9-468b-8275-f878220c0a8f  invoice_10.pdf      dpt-2-20250919   \n",
       "9   4b1db45a-6de2-4bda-94d3-c606276bb1ce  invoice_27.pdf      dpt-2-20250919   \n",
       "10  0326bf0d-a1ea-4f1b-925f-a13a0094877e   invoice_3.pdf      dpt-2-20250919   \n",
       "11  276837d7-936e-436c-96a1-1889b88f300d  invoice_18.pdf      dpt-2-20250919   \n",
       "12  f1bd7175-d14b-494b-853b-d6b634bd1628  invoice_26.pdf      dpt-2-20250919   \n",
       "13  3d8bb67d-d96e-4564-b9f0-9438500cee6d   invoice_2.pdf      dpt-2-20250919   \n",
       "14  6f42c961-66c2-4bda-ad61-66c8fc8e1787  invoice_19.pdf      dpt-2-20250919   \n",
       "15  7538ac9c-61de-49dc-971a-65286550dd0a   invoice_1.pdf      dpt-2-20250919   \n",
       "16  895c7287-1af3-4901-96d8-122189a4a5a4  invoice_15.pdf      dpt-2-20250919   \n",
       "17  253bd0e1-79c7-4394-a62c-a2c0d14fef9c  invoice_21.pdf      dpt-2-20250919   \n",
       "18  9fad760d-417b-47a4-b4e8-f1e896479edc  invoice_24.pdf      dpt-2-20250919   \n",
       "19  71388288-7baf-4fbe-b71a-3abab7120078   invoice_5.pdf      dpt-2-20250919   \n",
       "20  c5616247-36e6-4215-8ca5-ec0fde10c3ef  invoice_20.pdf      dpt-2-20250919   \n",
       "21  dd0786b6-3fae-480c-ad0c-07dd2173ba13  invoice_22.pdf      dpt-2-20250919   \n",
       "22  6cd15ad5-4204-425c-b928-5c59bb62b3c4   invoice_4.pdf      dpt-2-20250919   \n",
       "23  b807d00a-d175-4e39-a5ac-48da2c8a3614   invoice_6.pdf      dpt-2-20250919   \n",
       "24  4855d0b8-bb5e-43bb-8083-9eac7b5e8417  invoice_25.pdf      dpt-2-20250919   \n",
       "25  7b41284f-b4a4-4d94-8a36-064d8f6b0c1a   invoice_7.pdf      dpt-2-20250919   \n",
       "26  b29bd092-49ea-4410-9eff-d52c0f184640  invoice_23.pdf      dpt-2-20250919   \n",
       "\n",
       "                                             MARKDOWN  \n",
       "0   <a id='91a9fca9-fe21-4cbb-9564-f42f8d5c5d97'><...  \n",
       "1   <a id='960d63e5-ea32-4c17-b4b7-56eeaee689f5'><...  \n",
       "2   <a id='a24acd30-2126-4953-854b-b4d9635480ea'><...  \n",
       "3   <a id='7e376974-b72e-4f94-bddc-25b2f9858525'><...  \n",
       "4   <a id='4dfa9093-3dae-4da1-be94-840c8643bd24'><...  \n",
       "5   <a id='63de6f08-16f2-41a5-a702-99292aa34f2f'><...  \n",
       "6   <a id='da35e71a-b1f0-49a6-8f42-3800abc9f42e'><...  \n",
       "7   <a id='6a7520cc-51fe-40ca-a316-6a23a56e6f2b'><...  \n",
       "8   <a id='d5f0469f-6bee-459a-b00c-2bd0e5eb00f3'><...  \n",
       "9   <a id='dfc89375-e0e6-4458-983d-e18c64748754'><...  \n",
       "10  <a id='fd5b0e1d-1107-4fc7-b2a5-3362de6475ec'><...  \n",
       "11  <a id='1a2eb346-7461-4377-a379-3f7a0f0ad13b'><...  \n",
       "12  <a id='70dd27bc-cdc7-43ad-8774-8f6d871895da'><...  \n",
       "13  <a id='822e4eca-7e21-4244-9801-50a65766dcc2'><...  \n",
       "14  <a id='2dfbfd0b-03c1-4dbc-9a36-ba58b8bbffd7'><...  \n",
       "15  <a id='b4914c55-403e-4f5d-a39d-ce4f12ffe632'><...  \n",
       "16  <a id='db770f62-34a8-4672-82c1-1e561ab1eff4'><...  \n",
       "17  <a id='9e946a94-f64e-4cfd-a027-cf7436c4fa1e'><...  \n",
       "18  <a id='c3587ed9-7466-4529-8475-1ea373070715'><...  \n",
       "19  <a id='dce2b4a8-ddc7-46cb-8f7f-4e6e8e0143a7'><...  \n",
       "20  <a id='d491bedf-0dd4-4ceb-aa6a-4ba92373e9ec'><...  \n",
       "21  <a id='84fb4757-d601-442f-bfae-8de17ad42f67'><...  \n",
       "22  <a id='ecb03c73-81d5-4d74-9007-057e481f7f82'><...  \n",
       "23  <a id='c15b3621-9da8-4758-8c2e-b8038dc85b78'><...  \n",
       "24  <a id='32488992-63bc-47f2-ab70-165a10c351a1'><...  \n",
       "25  <a id='5adca170-7206-46fd-8692-4833b6e41908'><...  \n",
       "26  <a id='b31b0355-9706-4b82-bbc4-0ca37a9f627c'><...  "
      ]
     },
     "execution_count": 29,
     "metadata": {},
     "output_type": "execute_result"
    }
   ],
   "source": [
    "invoice_markdown = invoice_summaries[0]\n",
    "invoice_markdown"
   ]
  },
  {
   "cell_type": "markdown",
   "id": "efcf2164",
   "metadata": {},
   "source": [
    "### Invoice Chunks - One Row per Chunk"
   ]
  },
  {
   "cell_type": "code",
   "execution_count": 33,
   "id": "2a7a4119",
   "metadata": {},
   "outputs": [
    {
     "data": {
      "text/html": [
       "<div>\n",
       "<style scoped>\n",
       "    .dataframe tbody tr th:only-of-type {\n",
       "        vertical-align: middle;\n",
       "    }\n",
       "\n",
       "    .dataframe tbody tr th {\n",
       "        vertical-align: top;\n",
       "    }\n",
       "\n",
       "    .dataframe thead th {\n",
       "        text-align: right;\n",
       "    }\n",
       "</style>\n",
       "<table border=\"1\" class=\"dataframe\">\n",
       "  <thead>\n",
       "    <tr style=\"text-align: right;\">\n",
       "      <th></th>\n",
       "      <th>RUN_ID</th>\n",
       "      <th>INVOICE_UUID</th>\n",
       "      <th>DOCUMENT_NAME</th>\n",
       "      <th>chunk_id</th>\n",
       "      <th>chunk_type</th>\n",
       "      <th>text</th>\n",
       "      <th>page</th>\n",
       "      <th>box_l</th>\n",
       "      <th>box_t</th>\n",
       "      <th>box_r</th>\n",
       "      <th>box_b</th>\n",
       "    </tr>\n",
       "  </thead>\n",
       "  <tbody>\n",
       "    <tr>\n",
       "      <th>0</th>\n",
       "      <td>ab51eee8-43ab-4c60-974f-d37043e93f76</td>\n",
       "      <td>8a016234-4c23-4927-aa41-f7841f70c611</td>\n",
       "      <td>invoice_9.pdf</td>\n",
       "      <td>91a9fca9-fe21-4cbb-9564-f42f8d5c5d97</td>\n",
       "      <td>logo</td>\n",
       "      <td>&lt;a id='91a9fca9-fe21-4cbb-9564-f42f8d5c5d97'&gt;&lt;...</td>\n",
       "      <td>0</td>\n",
       "      <td>0.087432</td>\n",
       "      <td>0.033485</td>\n",
       "      <td>0.441946</td>\n",
       "      <td>0.096154</td>\n",
       "    </tr>\n",
       "    <tr>\n",
       "      <th>1</th>\n",
       "      <td>ab51eee8-43ab-4c60-974f-d37043e93f76</td>\n",
       "      <td>8a016234-4c23-4927-aa41-f7841f70c611</td>\n",
       "      <td>invoice_9.pdf</td>\n",
       "      <td>aa7a2b51-6d87-48d0-a809-bb6a948a707f</td>\n",
       "      <td>text</td>\n",
       "      <td>&lt;a id='aa7a2b51-6d87-48d0-a809-bb6a948a707f'&gt;&lt;...</td>\n",
       "      <td>0</td>\n",
       "      <td>0.086516</td>\n",
       "      <td>0.106716</td>\n",
       "      <td>0.433271</td>\n",
       "      <td>0.210896</td>\n",
       "    </tr>\n",
       "    <tr>\n",
       "      <th>2</th>\n",
       "      <td>ab51eee8-43ab-4c60-974f-d37043e93f76</td>\n",
       "      <td>8a016234-4c23-4927-aa41-f7841f70c611</td>\n",
       "      <td>invoice_9.pdf</td>\n",
       "      <td>69b3493a-bbb7-4e13-8923-968322bbee95</td>\n",
       "      <td>text</td>\n",
       "      <td>&lt;a id='69b3493a-bbb7-4e13-8923-968322bbee95'&gt;&lt;...</td>\n",
       "      <td>0</td>\n",
       "      <td>0.596189</td>\n",
       "      <td>0.039222</td>\n",
       "      <td>0.842186</td>\n",
       "      <td>0.191678</td>\n",
       "    </tr>\n",
       "    <tr>\n",
       "      <th>3</th>\n",
       "      <td>ab51eee8-43ab-4c60-974f-d37043e93f76</td>\n",
       "      <td>8a016234-4c23-4927-aa41-f7841f70c611</td>\n",
       "      <td>invoice_9.pdf</td>\n",
       "      <td>30d86071-0659-4537-bdce-7486b4093fa4</td>\n",
       "      <td>text</td>\n",
       "      <td>&lt;a id='30d86071-0659-4537-bdce-7486b4093fa4'&gt;&lt;...</td>\n",
       "      <td>0</td>\n",
       "      <td>0.087368</td>\n",
       "      <td>0.234845</td>\n",
       "      <td>0.314343</td>\n",
       "      <td>0.321745</td>\n",
       "    </tr>\n",
       "    <tr>\n",
       "      <th>4</th>\n",
       "      <td>ab51eee8-43ab-4c60-974f-d37043e93f76</td>\n",
       "      <td>8a016234-4c23-4927-aa41-f7841f70c611</td>\n",
       "      <td>invoice_9.pdf</td>\n",
       "      <td>8ead2ed5-e678-48a9-b6a6-b639adf25234</td>\n",
       "      <td>text</td>\n",
       "      <td>&lt;a id='8ead2ed5-e678-48a9-b6a6-b639adf25234'&gt;&lt;...</td>\n",
       "      <td>0</td>\n",
       "      <td>0.597768</td>\n",
       "      <td>0.235228</td>\n",
       "      <td>0.860476</td>\n",
       "      <td>0.268732</td>\n",
       "    </tr>\n",
       "    <tr>\n",
       "      <th>...</th>\n",
       "      <td>...</td>\n",
       "      <td>...</td>\n",
       "      <td>...</td>\n",
       "      <td>...</td>\n",
       "      <td>...</td>\n",
       "      <td>...</td>\n",
       "      <td>...</td>\n",
       "      <td>...</td>\n",
       "      <td>...</td>\n",
       "      <td>...</td>\n",
       "      <td>...</td>\n",
       "    </tr>\n",
       "    <tr>\n",
       "      <th>360</th>\n",
       "      <td>ab51eee8-43ab-4c60-974f-d37043e93f76</td>\n",
       "      <td>b29bd092-49ea-4410-9eff-d52c0f184640</td>\n",
       "      <td>invoice_23.pdf</td>\n",
       "      <td>c39203b6-f21c-44e2-b5ae-c136238d0be8</td>\n",
       "      <td>table</td>\n",
       "      <td>&lt;a id='c39203b6-f21c-44e2-b5ae-c136238d0be8'&gt;&lt;...</td>\n",
       "      <td>0</td>\n",
       "      <td>0.342401</td>\n",
       "      <td>0.342025</td>\n",
       "      <td>0.891367</td>\n",
       "      <td>0.550549</td>\n",
       "    </tr>\n",
       "    <tr>\n",
       "      <th>361</th>\n",
       "      <td>ab51eee8-43ab-4c60-974f-d37043e93f76</td>\n",
       "      <td>b29bd092-49ea-4410-9eff-d52c0f184640</td>\n",
       "      <td>invoice_23.pdf</td>\n",
       "      <td>3f35e4ce-53a9-4c59-acce-6591bd8434fb</td>\n",
       "      <td>attestation</td>\n",
       "      <td>&lt;a id='3f35e4ce-53a9-4c59-acce-6591bd8434fb'&gt;&lt;...</td>\n",
       "      <td>0</td>\n",
       "      <td>0.704699</td>\n",
       "      <td>0.564972</td>\n",
       "      <td>0.893611</td>\n",
       "      <td>0.651845</td>\n",
       "    </tr>\n",
       "    <tr>\n",
       "      <th>362</th>\n",
       "      <td>ab51eee8-43ab-4c60-974f-d37043e93f76</td>\n",
       "      <td>b29bd092-49ea-4410-9eff-d52c0f184640</td>\n",
       "      <td>invoice_23.pdf</td>\n",
       "      <td>66e3f664-912f-4d9a-a7c9-79a22e545dff</td>\n",
       "      <td>text</td>\n",
       "      <td>&lt;a id='66e3f664-912f-4d9a-a7c9-79a22e545dff'&gt;&lt;...</td>\n",
       "      <td>0</td>\n",
       "      <td>0.063023</td>\n",
       "      <td>0.649520</td>\n",
       "      <td>0.898202</td>\n",
       "      <td>0.725029</td>\n",
       "    </tr>\n",
       "    <tr>\n",
       "      <th>363</th>\n",
       "      <td>ab51eee8-43ab-4c60-974f-d37043e93f76</td>\n",
       "      <td>b29bd092-49ea-4410-9eff-d52c0f184640</td>\n",
       "      <td>invoice_23.pdf</td>\n",
       "      <td>571d90ff-05b9-486b-8143-527148eefd2c</td>\n",
       "      <td>text</td>\n",
       "      <td>&lt;a id='571d90ff-05b9-486b-8143-527148eefd2c'&gt;&lt;...</td>\n",
       "      <td>0</td>\n",
       "      <td>0.087943</td>\n",
       "      <td>0.741623</td>\n",
       "      <td>0.337569</td>\n",
       "      <td>0.820169</td>\n",
       "    </tr>\n",
       "    <tr>\n",
       "      <th>364</th>\n",
       "      <td>ab51eee8-43ab-4c60-974f-d37043e93f76</td>\n",
       "      <td>b29bd092-49ea-4410-9eff-d52c0f184640</td>\n",
       "      <td>invoice_23.pdf</td>\n",
       "      <td>ed70f795-7e21-49af-a692-ff886d30c652</td>\n",
       "      <td>text</td>\n",
       "      <td>&lt;a id='ed70f795-7e21-49af-a692-ff886d30c652'&gt;&lt;...</td>\n",
       "      <td>0</td>\n",
       "      <td>0.487700</td>\n",
       "      <td>0.741577</td>\n",
       "      <td>0.705306</td>\n",
       "      <td>0.789445</td>\n",
       "    </tr>\n",
       "  </tbody>\n",
       "</table>\n",
       "<p>365 rows × 11 columns</p>\n",
       "</div>"
      ],
      "text/plain": [
       "                                   RUN_ID  \\\n",
       "0    ab51eee8-43ab-4c60-974f-d37043e93f76   \n",
       "1    ab51eee8-43ab-4c60-974f-d37043e93f76   \n",
       "2    ab51eee8-43ab-4c60-974f-d37043e93f76   \n",
       "3    ab51eee8-43ab-4c60-974f-d37043e93f76   \n",
       "4    ab51eee8-43ab-4c60-974f-d37043e93f76   \n",
       "..                                    ...   \n",
       "360  ab51eee8-43ab-4c60-974f-d37043e93f76   \n",
       "361  ab51eee8-43ab-4c60-974f-d37043e93f76   \n",
       "362  ab51eee8-43ab-4c60-974f-d37043e93f76   \n",
       "363  ab51eee8-43ab-4c60-974f-d37043e93f76   \n",
       "364  ab51eee8-43ab-4c60-974f-d37043e93f76   \n",
       "\n",
       "                             INVOICE_UUID   DOCUMENT_NAME  \\\n",
       "0    8a016234-4c23-4927-aa41-f7841f70c611   invoice_9.pdf   \n",
       "1    8a016234-4c23-4927-aa41-f7841f70c611   invoice_9.pdf   \n",
       "2    8a016234-4c23-4927-aa41-f7841f70c611   invoice_9.pdf   \n",
       "3    8a016234-4c23-4927-aa41-f7841f70c611   invoice_9.pdf   \n",
       "4    8a016234-4c23-4927-aa41-f7841f70c611   invoice_9.pdf   \n",
       "..                                    ...             ...   \n",
       "360  b29bd092-49ea-4410-9eff-d52c0f184640  invoice_23.pdf   \n",
       "361  b29bd092-49ea-4410-9eff-d52c0f184640  invoice_23.pdf   \n",
       "362  b29bd092-49ea-4410-9eff-d52c0f184640  invoice_23.pdf   \n",
       "363  b29bd092-49ea-4410-9eff-d52c0f184640  invoice_23.pdf   \n",
       "364  b29bd092-49ea-4410-9eff-d52c0f184640  invoice_23.pdf   \n",
       "\n",
       "                                 chunk_id   chunk_type  \\\n",
       "0    91a9fca9-fe21-4cbb-9564-f42f8d5c5d97         logo   \n",
       "1    aa7a2b51-6d87-48d0-a809-bb6a948a707f         text   \n",
       "2    69b3493a-bbb7-4e13-8923-968322bbee95         text   \n",
       "3    30d86071-0659-4537-bdce-7486b4093fa4         text   \n",
       "4    8ead2ed5-e678-48a9-b6a6-b639adf25234         text   \n",
       "..                                    ...          ...   \n",
       "360  c39203b6-f21c-44e2-b5ae-c136238d0be8        table   \n",
       "361  3f35e4ce-53a9-4c59-acce-6591bd8434fb  attestation   \n",
       "362  66e3f664-912f-4d9a-a7c9-79a22e545dff         text   \n",
       "363  571d90ff-05b9-486b-8143-527148eefd2c         text   \n",
       "364  ed70f795-7e21-49af-a692-ff886d30c652         text   \n",
       "\n",
       "                                                  text  page     box_l  \\\n",
       "0    <a id='91a9fca9-fe21-4cbb-9564-f42f8d5c5d97'><...     0  0.087432   \n",
       "1    <a id='aa7a2b51-6d87-48d0-a809-bb6a948a707f'><...     0  0.086516   \n",
       "2    <a id='69b3493a-bbb7-4e13-8923-968322bbee95'><...     0  0.596189   \n",
       "3    <a id='30d86071-0659-4537-bdce-7486b4093fa4'><...     0  0.087368   \n",
       "4    <a id='8ead2ed5-e678-48a9-b6a6-b639adf25234'><...     0  0.597768   \n",
       "..                                                 ...   ...       ...   \n",
       "360  <a id='c39203b6-f21c-44e2-b5ae-c136238d0be8'><...     0  0.342401   \n",
       "361  <a id='3f35e4ce-53a9-4c59-acce-6591bd8434fb'><...     0  0.704699   \n",
       "362  <a id='66e3f664-912f-4d9a-a7c9-79a22e545dff'><...     0  0.063023   \n",
       "363  <a id='571d90ff-05b9-486b-8143-527148eefd2c'><...     0  0.087943   \n",
       "364  <a id='ed70f795-7e21-49af-a692-ff886d30c652'><...     0  0.487700   \n",
       "\n",
       "        box_t     box_r     box_b  \n",
       "0    0.033485  0.441946  0.096154  \n",
       "1    0.106716  0.433271  0.210896  \n",
       "2    0.039222  0.842186  0.191678  \n",
       "3    0.234845  0.314343  0.321745  \n",
       "4    0.235228  0.860476  0.268732  \n",
       "..        ...       ...       ...  \n",
       "360  0.342025  0.891367  0.550549  \n",
       "361  0.564972  0.893611  0.651845  \n",
       "362  0.649520  0.898202  0.725029  \n",
       "363  0.741623  0.337569  0.820169  \n",
       "364  0.741577  0.705306  0.789445  \n",
       "\n",
       "[365 rows x 11 columns]"
      ]
     },
     "execution_count": 33,
     "metadata": {},
     "output_type": "execute_result"
    }
   ],
   "source": [
    "invoice_chunks = invoice_summaries[1]\n",
    "invoice_chunks"
   ]
  },
  {
   "cell_type": "markdown",
   "id": "84e623d7",
   "metadata": {},
   "source": [
    "### Invoice Contents Main - One Row Per Invoice"
   ]
  },
  {
   "cell_type": "code",
   "execution_count": 36,
   "id": "2c8f1c75",
   "metadata": {},
   "outputs": [
    {
     "data": {
      "text/html": [
       "<div>\n",
       "<style scoped>\n",
       "    .dataframe tbody tr th:only-of-type {\n",
       "        vertical-align: middle;\n",
       "    }\n",
       "\n",
       "    .dataframe tbody tr th {\n",
       "        vertical-align: top;\n",
       "    }\n",
       "\n",
       "    .dataframe thead th {\n",
       "        text-align: right;\n",
       "    }\n",
       "</style>\n",
       "<table border=\"1\" class=\"dataframe\">\n",
       "  <thead>\n",
       "    <tr style=\"text-align: right;\">\n",
       "      <th></th>\n",
       "      <th>RUN_ID</th>\n",
       "      <th>INVOICE_UUID</th>\n",
       "      <th>DOCUMENT_NAME</th>\n",
       "      <th>AGENTIC_DOC_VERSION</th>\n",
       "      <th>INVOICE_DATE_RAW</th>\n",
       "      <th>INVOICE_DATE</th>\n",
       "      <th>INVOICE_NUMBER</th>\n",
       "      <th>ORDER_DATE</th>\n",
       "      <th>PO_NUMBER</th>\n",
       "      <th>STATUS</th>\n",
       "      <th>...</th>\n",
       "      <th>SHIP_VIA</th>\n",
       "      <th>SHIP_DATE</th>\n",
       "      <th>TRACKING_NUMBER</th>\n",
       "      <th>CURRENCY</th>\n",
       "      <th>TOTAL_DUE_RAW</th>\n",
       "      <th>TOTAL_DUE</th>\n",
       "      <th>SUBTOTAL</th>\n",
       "      <th>TAX</th>\n",
       "      <th>SHIPPING</th>\n",
       "      <th>HANDLING_FEE</th>\n",
       "    </tr>\n",
       "  </thead>\n",
       "  <tbody>\n",
       "    <tr>\n",
       "      <th>0</th>\n",
       "      <td>ab51eee8-43ab-4c60-974f-d37043e93f76</td>\n",
       "      <td>8a016234-4c23-4927-aa41-f7841f70c611</td>\n",
       "      <td>invoice_9.pdf</td>\n",
       "      <td>dpt-2-20250919</td>\n",
       "      <td>May 26, 2021</td>\n",
       "      <td>2021-05-26</td>\n",
       "      <td>FCL233308</td>\n",
       "      <td>None</td>\n",
       "      <td>None</td>\n",
       "      <td>PAID</td>\n",
       "      <td>...</td>\n",
       "      <td>None</td>\n",
       "      <td>None</td>\n",
       "      <td>None</td>\n",
       "      <td>USD</td>\n",
       "      <td>$0.00</td>\n",
       "      <td>0.00</td>\n",
       "      <td>NaN</td>\n",
       "      <td>NaN</td>\n",
       "      <td>NaN</td>\n",
       "      <td>NaN</td>\n",
       "    </tr>\n",
       "    <tr>\n",
       "      <th>1</th>\n",
       "      <td>ab51eee8-43ab-4c60-974f-d37043e93f76</td>\n",
       "      <td>83aa2614-39b8-418b-90b7-e726ebd3c90a</td>\n",
       "      <td>invoice_17.pdf</td>\n",
       "      <td>dpt-2-20250919</td>\n",
       "      <td>Dated 10-Dec-14</td>\n",
       "      <td>2014-12-10</td>\n",
       "      <td>2014/00355</td>\n",
       "      <td>None</td>\n",
       "      <td>None</td>\n",
       "      <td>None</td>\n",
       "      <td>...</td>\n",
       "      <td>By Road</td>\n",
       "      <td>None</td>\n",
       "      <td>None</td>\n",
       "      <td>None</td>\n",
       "      <td>2800.00</td>\n",
       "      <td>2800.00</td>\n",
       "      <td>2800.00</td>\n",
       "      <td>NaN</td>\n",
       "      <td>NaN</td>\n",
       "      <td>NaN</td>\n",
       "    </tr>\n",
       "    <tr>\n",
       "      <th>2</th>\n",
       "      <td>ab51eee8-43ab-4c60-974f-d37043e93f76</td>\n",
       "      <td>74954e69-8064-4966-a0cc-d4111458af17</td>\n",
       "      <td>invoice_8.PDF</td>\n",
       "      <td>dpt-2-20250919</td>\n",
       "      <td>08-18-23</td>\n",
       "      <td>2023-08-18</td>\n",
       "      <td>412824</td>\n",
       "      <td>None</td>\n",
       "      <td>None</td>\n",
       "      <td>None</td>\n",
       "      <td>...</td>\n",
       "      <td>None</td>\n",
       "      <td>None</td>\n",
       "      <td>None</td>\n",
       "      <td>None</td>\n",
       "      <td>90.53</td>\n",
       "      <td>90.53</td>\n",
       "      <td>87.00</td>\n",
       "      <td>3.53</td>\n",
       "      <td>NaN</td>\n",
       "      <td>NaN</td>\n",
       "    </tr>\n",
       "    <tr>\n",
       "      <th>3</th>\n",
       "      <td>ab51eee8-43ab-4c60-974f-d37043e93f76</td>\n",
       "      <td>116fc387-7366-4838-9ff5-de97eff28186</td>\n",
       "      <td>invoice_16.pdf</td>\n",
       "      <td>dpt-2-20250919</td>\n",
       "      <td>Mar 20, 2023</td>\n",
       "      <td>2023-03-20</td>\n",
       "      <td></td>\n",
       "      <td>None</td>\n",
       "      <td>None</td>\n",
       "      <td>None</td>\n",
       "      <td>...</td>\n",
       "      <td>None</td>\n",
       "      <td>None</td>\n",
       "      <td>None</td>\n",
       "      <td>USD</td>\n",
       "      <td>0,00 US$</td>\n",
       "      <td>0.00</td>\n",
       "      <td>1529.94</td>\n",
       "      <td>110.92</td>\n",
       "      <td>NaN</td>\n",
       "      <td>NaN</td>\n",
       "    </tr>\n",
       "    <tr>\n",
       "      <th>4</th>\n",
       "      <td>ab51eee8-43ab-4c60-974f-d37043e93f76</td>\n",
       "      <td>fcfa7140-e234-4eb5-be2e-d356993b6f3f</td>\n",
       "      <td>invoice_11.pdf</td>\n",
       "      <td>dpt-2-20250919</td>\n",
       "      <td>08/30/2021</td>\n",
       "      <td>2021-08-30</td>\n",
       "      <td>2071221</td>\n",
       "      <td>None</td>\n",
       "      <td>None</td>\n",
       "      <td>None</td>\n",
       "      <td>...</td>\n",
       "      <td>None</td>\n",
       "      <td>None</td>\n",
       "      <td>None</td>\n",
       "      <td>None</td>\n",
       "      <td>$1800.87</td>\n",
       "      <td>1800.87</td>\n",
       "      <td>NaN</td>\n",
       "      <td>NaN</td>\n",
       "      <td>NaN</td>\n",
       "      <td>NaN</td>\n",
       "    </tr>\n",
       "    <tr>\n",
       "      <th>5</th>\n",
       "      <td>ab51eee8-43ab-4c60-974f-d37043e93f76</td>\n",
       "      <td>47b62e70-4187-418c-8cf1-3c1635ee1dc7</td>\n",
       "      <td>invoice_13.pdf</td>\n",
       "      <td>dpt-2-20250919</td>\n",
       "      <td>2-Dec-2021</td>\n",
       "      <td>2021-12-02</td>\n",
       "      <td>812</td>\n",
       "      <td>None</td>\n",
       "      <td>None</td>\n",
       "      <td>None</td>\n",
       "      <td>...</td>\n",
       "      <td>None</td>\n",
       "      <td>None</td>\n",
       "      <td>AP39TD4595</td>\n",
       "      <td>INR</td>\n",
       "      <td>60,21,446.00</td>\n",
       "      <td>6021446.00</td>\n",
       "      <td>5102920.00</td>\n",
       "      <td>918525.60</td>\n",
       "      <td>NaN</td>\n",
       "      <td>0.4</td>\n",
       "    </tr>\n",
       "    <tr>\n",
       "      <th>6</th>\n",
       "      <td>ab51eee8-43ab-4c60-974f-d37043e93f76</td>\n",
       "      <td>dfb98d68-9dd7-474e-a03a-b77cc8465db9</td>\n",
       "      <td>invoice_14.pdf</td>\n",
       "      <td>dpt-2-20250919</td>\n",
       "      <td>23.02.2019</td>\n",
       "      <td>2019-02-23</td>\n",
       "      <td>40458946</td>\n",
       "      <td>None</td>\n",
       "      <td>None</td>\n",
       "      <td>None</td>\n",
       "      <td>...</td>\n",
       "      <td>UPS</td>\n",
       "      <td>None</td>\n",
       "      <td>None</td>\n",
       "      <td>EUR</td>\n",
       "      <td>77,24 EUR</td>\n",
       "      <td>77.24</td>\n",
       "      <td>NaN</td>\n",
       "      <td>NaN</td>\n",
       "      <td>NaN</td>\n",
       "      <td>NaN</td>\n",
       "    </tr>\n",
       "    <tr>\n",
       "      <th>7</th>\n",
       "      <td>ab51eee8-43ab-4c60-974f-d37043e93f76</td>\n",
       "      <td>e396238d-7846-4950-aa90-8af0c316f2d4</td>\n",
       "      <td>invoice_12.pdf</td>\n",
       "      <td>dpt-2-20250919</td>\n",
       "      <td>27.03.2025</td>\n",
       "      <td>2025-03-27</td>\n",
       "      <td>11828454</td>\n",
       "      <td>2025-03-27</td>\n",
       "      <td>None</td>\n",
       "      <td>None</td>\n",
       "      <td>...</td>\n",
       "      <td>None</td>\n",
       "      <td>None</td>\n",
       "      <td>None</td>\n",
       "      <td>USD</td>\n",
       "      <td>2,579.96</td>\n",
       "      <td>2579.96</td>\n",
       "      <td>NaN</td>\n",
       "      <td>NaN</td>\n",
       "      <td>NaN</td>\n",
       "      <td>NaN</td>\n",
       "    </tr>\n",
       "    <tr>\n",
       "      <th>8</th>\n",
       "      <td>ab51eee8-43ab-4c60-974f-d37043e93f76</td>\n",
       "      <td>371b2d4a-63e9-468b-8275-f878220c0a8f</td>\n",
       "      <td>invoice_10.pdf</td>\n",
       "      <td>dpt-2-20250919</td>\n",
       "      <td>15-MAY-25</td>\n",
       "      <td>2025-05-15</td>\n",
       "      <td>1000110140</td>\n",
       "      <td>None</td>\n",
       "      <td>None</td>\n",
       "      <td>None</td>\n",
       "      <td>...</td>\n",
       "      <td>None</td>\n",
       "      <td>None</td>\n",
       "      <td>None</td>\n",
       "      <td>USD</td>\n",
       "      <td>0.00</td>\n",
       "      <td>0.00</td>\n",
       "      <td>NaN</td>\n",
       "      <td>NaN</td>\n",
       "      <td>NaN</td>\n",
       "      <td>NaN</td>\n",
       "    </tr>\n",
       "    <tr>\n",
       "      <th>9</th>\n",
       "      <td>ab51eee8-43ab-4c60-974f-d37043e93f76</td>\n",
       "      <td>4b1db45a-6de2-4bda-94d3-c606276bb1ce</td>\n",
       "      <td>invoice_27.pdf</td>\n",
       "      <td>dpt-2-20250919</td>\n",
       "      <td>02-Mar-2025</td>\n",
       "      <td>2025-03-02</td>\n",
       "      <td>TRX5FPX4C-20</td>\n",
       "      <td>None</td>\n",
       "      <td>None</td>\n",
       "      <td>None</td>\n",
       "      <td>...</td>\n",
       "      <td>None</td>\n",
       "      <td>None</td>\n",
       "      <td>None</td>\n",
       "      <td>USD</td>\n",
       "      <td>103.93 USD</td>\n",
       "      <td>103.93</td>\n",
       "      <td>103.93</td>\n",
       "      <td>0.00</td>\n",
       "      <td>NaN</td>\n",
       "      <td>NaN</td>\n",
       "    </tr>\n",
       "  </tbody>\n",
       "</table>\n",
       "<p>10 rows × 31 columns</p>\n",
       "</div>"
      ],
      "text/plain": [
       "                                 RUN_ID                          INVOICE_UUID  \\\n",
       "0  ab51eee8-43ab-4c60-974f-d37043e93f76  8a016234-4c23-4927-aa41-f7841f70c611   \n",
       "1  ab51eee8-43ab-4c60-974f-d37043e93f76  83aa2614-39b8-418b-90b7-e726ebd3c90a   \n",
       "2  ab51eee8-43ab-4c60-974f-d37043e93f76  74954e69-8064-4966-a0cc-d4111458af17   \n",
       "3  ab51eee8-43ab-4c60-974f-d37043e93f76  116fc387-7366-4838-9ff5-de97eff28186   \n",
       "4  ab51eee8-43ab-4c60-974f-d37043e93f76  fcfa7140-e234-4eb5-be2e-d356993b6f3f   \n",
       "5  ab51eee8-43ab-4c60-974f-d37043e93f76  47b62e70-4187-418c-8cf1-3c1635ee1dc7   \n",
       "6  ab51eee8-43ab-4c60-974f-d37043e93f76  dfb98d68-9dd7-474e-a03a-b77cc8465db9   \n",
       "7  ab51eee8-43ab-4c60-974f-d37043e93f76  e396238d-7846-4950-aa90-8af0c316f2d4   \n",
       "8  ab51eee8-43ab-4c60-974f-d37043e93f76  371b2d4a-63e9-468b-8275-f878220c0a8f   \n",
       "9  ab51eee8-43ab-4c60-974f-d37043e93f76  4b1db45a-6de2-4bda-94d3-c606276bb1ce   \n",
       "\n",
       "    DOCUMENT_NAME AGENTIC_DOC_VERSION INVOICE_DATE_RAW INVOICE_DATE  \\\n",
       "0   invoice_9.pdf      dpt-2-20250919     May 26, 2021   2021-05-26   \n",
       "1  invoice_17.pdf      dpt-2-20250919  Dated 10-Dec-14   2014-12-10   \n",
       "2   invoice_8.PDF      dpt-2-20250919         08-18-23   2023-08-18   \n",
       "3  invoice_16.pdf      dpt-2-20250919     Mar 20, 2023   2023-03-20   \n",
       "4  invoice_11.pdf      dpt-2-20250919       08/30/2021   2021-08-30   \n",
       "5  invoice_13.pdf      dpt-2-20250919       2-Dec-2021   2021-12-02   \n",
       "6  invoice_14.pdf      dpt-2-20250919       23.02.2019   2019-02-23   \n",
       "7  invoice_12.pdf      dpt-2-20250919       27.03.2025   2025-03-27   \n",
       "8  invoice_10.pdf      dpt-2-20250919        15-MAY-25   2025-05-15   \n",
       "9  invoice_27.pdf      dpt-2-20250919      02-Mar-2025   2025-03-02   \n",
       "\n",
       "  INVOICE_NUMBER  ORDER_DATE PO_NUMBER STATUS  ... SHIP_VIA SHIP_DATE  \\\n",
       "0      FCL233308        None      None   PAID  ...     None      None   \n",
       "1     2014/00355        None      None   None  ...  By Road      None   \n",
       "2         412824        None      None   None  ...     None      None   \n",
       "3                       None      None   None  ...     None      None   \n",
       "4        2071221        None      None   None  ...     None      None   \n",
       "5            812        None      None   None  ...     None      None   \n",
       "6       40458946        None      None   None  ...      UPS      None   \n",
       "7       11828454  2025-03-27      None   None  ...     None      None   \n",
       "8     1000110140        None      None   None  ...     None      None   \n",
       "9   TRX5FPX4C-20        None      None   None  ...     None      None   \n",
       "\n",
       "  TRACKING_NUMBER CURRENCY TOTAL_DUE_RAW   TOTAL_DUE    SUBTOTAL        TAX  \\\n",
       "0            None      USD         $0.00        0.00         NaN        NaN   \n",
       "1            None     None       2800.00     2800.00     2800.00        NaN   \n",
       "2            None     None         90.53       90.53       87.00       3.53   \n",
       "3            None      USD      0,00 US$        0.00     1529.94     110.92   \n",
       "4            None     None      $1800.87     1800.87         NaN        NaN   \n",
       "5      AP39TD4595      INR  60,21,446.00  6021446.00  5102920.00  918525.60   \n",
       "6            None      EUR     77,24 EUR       77.24         NaN        NaN   \n",
       "7            None      USD      2,579.96     2579.96         NaN        NaN   \n",
       "8            None      USD          0.00        0.00         NaN        NaN   \n",
       "9            None      USD    103.93 USD      103.93      103.93       0.00   \n",
       "\n",
       "  SHIPPING HANDLING_FEE  \n",
       "0      NaN          NaN  \n",
       "1      NaN          NaN  \n",
       "2      NaN          NaN  \n",
       "3      NaN          NaN  \n",
       "4      NaN          NaN  \n",
       "5      NaN          0.4  \n",
       "6      NaN          NaN  \n",
       "7      NaN          NaN  \n",
       "8      NaN          NaN  \n",
       "9      NaN          NaN  \n",
       "\n",
       "[10 rows x 31 columns]"
      ]
     },
     "execution_count": 36,
     "metadata": {},
     "output_type": "execute_result"
    }
   ],
   "source": [
    "invoice_main = invoice_summaries[2]\n",
    "invoice_main.head(10)"
   ]
  },
  {
   "cell_type": "markdown",
   "id": "0ca68472",
   "metadata": {},
   "source": [
    "### Invoice Line Items - One Row Per Unique Item Purchased"
   ]
  },
  {
   "cell_type": "code",
   "execution_count": 37,
   "id": "b500b135",
   "metadata": {},
   "outputs": [
    {
     "data": {
      "text/html": [
       "<div>\n",
       "<style scoped>\n",
       "    .dataframe tbody tr th:only-of-type {\n",
       "        vertical-align: middle;\n",
       "    }\n",
       "\n",
       "    .dataframe tbody tr th {\n",
       "        vertical-align: top;\n",
       "    }\n",
       "\n",
       "    .dataframe thead th {\n",
       "        text-align: right;\n",
       "    }\n",
       "</style>\n",
       "<table border=\"1\" class=\"dataframe\">\n",
       "  <thead>\n",
       "    <tr style=\"text-align: right;\">\n",
       "      <th></th>\n",
       "      <th>RUN_ID</th>\n",
       "      <th>INVOICE_UUID</th>\n",
       "      <th>DOCUMENT_NAME</th>\n",
       "      <th>AGENTIC_DOC_VERSION</th>\n",
       "      <th>LINE_INDEX</th>\n",
       "      <th>LINE_NUMBER</th>\n",
       "      <th>SKU</th>\n",
       "      <th>DESCRIPTION</th>\n",
       "      <th>QUANTITY</th>\n",
       "      <th>UNIT_PRICE</th>\n",
       "      <th>PRICE</th>\n",
       "      <th>AMOUNT</th>\n",
       "      <th>TOTAL</th>\n",
       "    </tr>\n",
       "  </thead>\n",
       "  <tbody>\n",
       "    <tr>\n",
       "      <th>0</th>\n",
       "      <td>ab51eee8-43ab-4c60-974f-d37043e93f76</td>\n",
       "      <td>8a016234-4c23-4927-aa41-f7841f70c611</td>\n",
       "      <td>invoice_9.pdf</td>\n",
       "      <td>dpt-2-20250919</td>\n",
       "      <td>0</td>\n",
       "      <td>None</td>\n",
       "      <td>None</td>\n",
       "      <td>Freshcaller Phone Credits</td>\n",
       "      <td>10.0</td>\n",
       "      <td>1.00</td>\n",
       "      <td>NaN</td>\n",
       "      <td>10.00</td>\n",
       "      <td>NaN</td>\n",
       "    </tr>\n",
       "    <tr>\n",
       "      <th>1</th>\n",
       "      <td>ab51eee8-43ab-4c60-974f-d37043e93f76</td>\n",
       "      <td>83aa2614-39b8-418b-90b7-e726ebd3c90a</td>\n",
       "      <td>invoice_17.pdf</td>\n",
       "      <td>dpt-2-20250919</td>\n",
       "      <td>0</td>\n",
       "      <td>1</td>\n",
       "      <td>None</td>\n",
       "      <td>Tata Photon 3G Plan 750@7GB</td>\n",
       "      <td>1.0</td>\n",
       "      <td>2800.00</td>\n",
       "      <td>NaN</td>\n",
       "      <td>2800.00</td>\n",
       "      <td>NaN</td>\n",
       "    </tr>\n",
       "    <tr>\n",
       "      <th>2</th>\n",
       "      <td>ab51eee8-43ab-4c60-974f-d37043e93f76</td>\n",
       "      <td>74954e69-8064-4966-a0cc-d4111458af17</td>\n",
       "      <td>invoice_8.PDF</td>\n",
       "      <td>dpt-2-20250919</td>\n",
       "      <td>0</td>\n",
       "      <td>None</td>\n",
       "      <td>None</td>\n",
       "      <td>Zazzles 2 Selarid Feline 5-15lb Revolution Ge*...</td>\n",
       "      <td>2.0</td>\n",
       "      <td>NaN</td>\n",
       "      <td>NaN</td>\n",
       "      <td>42.00</td>\n",
       "      <td>NaN</td>\n",
       "    </tr>\n",
       "    <tr>\n",
       "      <th>3</th>\n",
       "      <td>ab51eee8-43ab-4c60-974f-d37043e93f76</td>\n",
       "      <td>74954e69-8064-4966-a0cc-d4111458af17</td>\n",
       "      <td>invoice_8.PDF</td>\n",
       "      <td>dpt-2-20250919</td>\n",
       "      <td>1</td>\n",
       "      <td>None</td>\n",
       "      <td>None</td>\n",
       "      <td>1 HCP Combo Vaccine (1 Year) The HCP vaccine w...</td>\n",
       "      <td>1.0</td>\n",
       "      <td>NaN</td>\n",
       "      <td>NaN</td>\n",
       "      <td>45.00</td>\n",
       "      <td>NaN</td>\n",
       "    </tr>\n",
       "    <tr>\n",
       "      <th>4</th>\n",
       "      <td>ab51eee8-43ab-4c60-974f-d37043e93f76</td>\n",
       "      <td>74954e69-8064-4966-a0cc-d4111458af17</td>\n",
       "      <td>invoice_8.PDF</td>\n",
       "      <td>dpt-2-20250919</td>\n",
       "      <td>2</td>\n",
       "      <td>None</td>\n",
       "      <td>None</td>\n",
       "      <td>1 Technician Appointment</td>\n",
       "      <td>1.0</td>\n",
       "      <td>NaN</td>\n",
       "      <td>NaN</td>\n",
       "      <td>0.00</td>\n",
       "      <td>NaN</td>\n",
       "    </tr>\n",
       "    <tr>\n",
       "      <th>5</th>\n",
       "      <td>ab51eee8-43ab-4c60-974f-d37043e93f76</td>\n",
       "      <td>74954e69-8064-4966-a0cc-d4111458af17</td>\n",
       "      <td>invoice_8.PDF</td>\n",
       "      <td>dpt-2-20250919</td>\n",
       "      <td>3</td>\n",
       "      <td>None</td>\n",
       "      <td>None</td>\n",
       "      <td>Visa payment</td>\n",
       "      <td>NaN</td>\n",
       "      <td>NaN</td>\n",
       "      <td>NaN</td>\n",
       "      <td>-90.53</td>\n",
       "      <td>NaN</td>\n",
       "    </tr>\n",
       "    <tr>\n",
       "      <th>6</th>\n",
       "      <td>ab51eee8-43ab-4c60-974f-d37043e93f76</td>\n",
       "      <td>116fc387-7366-4838-9ff5-de97eff28186</td>\n",
       "      <td>invoice_16.pdf</td>\n",
       "      <td>dpt-2-20250919</td>\n",
       "      <td>0</td>\n",
       "      <td>None</td>\n",
       "      <td>PF4AJSC9</td>\n",
       "      <td>Lenovo ThinkPad X1 Carbon Gen 10 21CB - 180-de...</td>\n",
       "      <td>1.0</td>\n",
       "      <td>1529.94</td>\n",
       "      <td>NaN</td>\n",
       "      <td>1529.94</td>\n",
       "      <td>NaN</td>\n",
       "    </tr>\n",
       "    <tr>\n",
       "      <th>7</th>\n",
       "      <td>ab51eee8-43ab-4c60-974f-d37043e93f76</td>\n",
       "      <td>fcfa7140-e234-4eb5-be2e-d356993b6f3f</td>\n",
       "      <td>invoice_11.pdf</td>\n",
       "      <td>dpt-2-20250919</td>\n",
       "      <td>0</td>\n",
       "      <td>None</td>\n",
       "      <td>None</td>\n",
       "      <td>Apple iPhone 12 Pro Max 256 GB Excellent Condi...</td>\n",
       "      <td>3.0</td>\n",
       "      <td>600.29</td>\n",
       "      <td>NaN</td>\n",
       "      <td>1800.87</td>\n",
       "      <td>NaN</td>\n",
       "    </tr>\n",
       "    <tr>\n",
       "      <th>8</th>\n",
       "      <td>ab51eee8-43ab-4c60-974f-d37043e93f76</td>\n",
       "      <td>47b62e70-4187-418c-8cf1-3c1635ee1dc7</td>\n",
       "      <td>invoice_13.pdf</td>\n",
       "      <td>dpt-2-20250919</td>\n",
       "      <td>0</td>\n",
       "      <td>None</td>\n",
       "      <td>7602</td>\n",
       "      <td>ALUMINIUM SCRAPS</td>\n",
       "      <td>26440.0</td>\n",
       "      <td>193.00</td>\n",
       "      <td>NaN</td>\n",
       "      <td>5102920.00</td>\n",
       "      <td>NaN</td>\n",
       "    </tr>\n",
       "    <tr>\n",
       "      <th>9</th>\n",
       "      <td>ab51eee8-43ab-4c60-974f-d37043e93f76</td>\n",
       "      <td>dfb98d68-9dd7-474e-a03a-b77cc8465db9</td>\n",
       "      <td>invoice_14.pdf</td>\n",
       "      <td>dpt-2-20250919</td>\n",
       "      <td>0</td>\n",
       "      <td>001.00</td>\n",
       "      <td>242900</td>\n",
       "      <td>Dunlop Nylon Max Grip Jazz III Players Pack - ...</td>\n",
       "      <td>1.0</td>\n",
       "      <td>3.66</td>\n",
       "      <td>NaN</td>\n",
       "      <td>3.66</td>\n",
       "      <td>3.66</td>\n",
       "    </tr>\n",
       "  </tbody>\n",
       "</table>\n",
       "</div>"
      ],
      "text/plain": [
       "                                 RUN_ID                          INVOICE_UUID  \\\n",
       "0  ab51eee8-43ab-4c60-974f-d37043e93f76  8a016234-4c23-4927-aa41-f7841f70c611   \n",
       "1  ab51eee8-43ab-4c60-974f-d37043e93f76  83aa2614-39b8-418b-90b7-e726ebd3c90a   \n",
       "2  ab51eee8-43ab-4c60-974f-d37043e93f76  74954e69-8064-4966-a0cc-d4111458af17   \n",
       "3  ab51eee8-43ab-4c60-974f-d37043e93f76  74954e69-8064-4966-a0cc-d4111458af17   \n",
       "4  ab51eee8-43ab-4c60-974f-d37043e93f76  74954e69-8064-4966-a0cc-d4111458af17   \n",
       "5  ab51eee8-43ab-4c60-974f-d37043e93f76  74954e69-8064-4966-a0cc-d4111458af17   \n",
       "6  ab51eee8-43ab-4c60-974f-d37043e93f76  116fc387-7366-4838-9ff5-de97eff28186   \n",
       "7  ab51eee8-43ab-4c60-974f-d37043e93f76  fcfa7140-e234-4eb5-be2e-d356993b6f3f   \n",
       "8  ab51eee8-43ab-4c60-974f-d37043e93f76  47b62e70-4187-418c-8cf1-3c1635ee1dc7   \n",
       "9  ab51eee8-43ab-4c60-974f-d37043e93f76  dfb98d68-9dd7-474e-a03a-b77cc8465db9   \n",
       "\n",
       "    DOCUMENT_NAME AGENTIC_DOC_VERSION  LINE_INDEX LINE_NUMBER       SKU  \\\n",
       "0   invoice_9.pdf      dpt-2-20250919           0        None      None   \n",
       "1  invoice_17.pdf      dpt-2-20250919           0           1      None   \n",
       "2   invoice_8.PDF      dpt-2-20250919           0        None      None   \n",
       "3   invoice_8.PDF      dpt-2-20250919           1        None      None   \n",
       "4   invoice_8.PDF      dpt-2-20250919           2        None      None   \n",
       "5   invoice_8.PDF      dpt-2-20250919           3        None      None   \n",
       "6  invoice_16.pdf      dpt-2-20250919           0        None  PF4AJSC9   \n",
       "7  invoice_11.pdf      dpt-2-20250919           0        None      None   \n",
       "8  invoice_13.pdf      dpt-2-20250919           0        None      7602   \n",
       "9  invoice_14.pdf      dpt-2-20250919           0      001.00    242900   \n",
       "\n",
       "                                         DESCRIPTION  QUANTITY  UNIT_PRICE  \\\n",
       "0                          Freshcaller Phone Credits      10.0        1.00   \n",
       "1                        Tata Photon 3G Plan 750@7GB       1.0     2800.00   \n",
       "2  Zazzles 2 Selarid Feline 5-15lb Revolution Ge*...       2.0         NaN   \n",
       "3  1 HCP Combo Vaccine (1 Year) The HCP vaccine w...       1.0         NaN   \n",
       "4                           1 Technician Appointment       1.0         NaN   \n",
       "5                                       Visa payment       NaN         NaN   \n",
       "6  Lenovo ThinkPad X1 Carbon Gen 10 21CB - 180-de...       1.0     1529.94   \n",
       "7  Apple iPhone 12 Pro Max 256 GB Excellent Condi...       3.0      600.29   \n",
       "8                                   ALUMINIUM SCRAPS   26440.0      193.00   \n",
       "9  Dunlop Nylon Max Grip Jazz III Players Pack - ...       1.0        3.66   \n",
       "\n",
       "   PRICE      AMOUNT  TOTAL  \n",
       "0    NaN       10.00    NaN  \n",
       "1    NaN     2800.00    NaN  \n",
       "2    NaN       42.00    NaN  \n",
       "3    NaN       45.00    NaN  \n",
       "4    NaN        0.00    NaN  \n",
       "5    NaN      -90.53    NaN  \n",
       "6    NaN     1529.94    NaN  \n",
       "7    NaN     1800.87    NaN  \n",
       "8    NaN  5102920.00    NaN  \n",
       "9    NaN        3.66   3.66  "
      ]
     },
     "execution_count": 37,
     "metadata": {},
     "output_type": "execute_result"
    }
   ],
   "source": [
    "invoice_items = invoice_summaries[3]\n",
    "invoice_items.head(10)"
   ]
  },
  {
   "cell_type": "markdown",
   "id": "8fefba01",
   "metadata": {},
   "source": [
    "## Save Structured Results\n",
    "\n",
    "Save the four summary tables to a local file. These could also be inserted into a database or unse for other downstream tasks."
   ]
  },
  {
   "cell_type": "code",
   "execution_count": 38,
   "id": "f1832a71",
   "metadata": {},
   "outputs": [],
   "source": [
    "# Save the dataframe to CSV files inside the results_folder\n",
    "invoice_markdown.to_csv(results_folder / \"invoice_markdown.csv\", index=False)\n",
    "invoice_chunks.to_csv(results_folder / \"invoice_chunks.csv\", index=False)\n",
    "invoice_main.to_csv(results_folder / \"invoice_main.csv\", index=False)\n",
    "invoice_items.to_csv(results_folder / \"invoice_items.csv\", index=False)"
   ]
  },
  {
   "cell_type": "markdown",
   "id": "dffce926",
   "metadata": {},
   "source": [
    "## ✅ Wrap-Up\n",
    "\n",
    "You’ve now used LandingAI’s ADE to:\n",
    "- Parse and extract data from invoices, whether the originals are images or PDFs.\n",
    "- Define custom fields using a `pydantic` schema.\n",
    "- Run Agentic Document Extraction on a batch of documents and save the results.\n",
    "- Save the extracted results and as structured data.\n",
    "\n",
    "To learn more, visit the [LandingAI Documentation](https://docs.landing.ai/ade/ade-overview)."
   ]
  }
 ],
 "metadata": {
  "kernelspec": {
   "display_name": "Python (Invoices venv)",
   "language": "python",
   "name": "invoices-venv"
  },
  "language_info": {
   "codemirror_mode": {
    "name": "ipython",
    "version": 3
   },
   "file_extension": ".py",
   "mimetype": "text/x-python",
   "name": "python",
   "nbconvert_exporter": "python",
   "pygments_lexer": "ipython3",
   "version": "3.12.11"
  }
 },
 "nbformat": 4,
 "nbformat_minor": 5
}
